{
 "cells": [
  {
   "cell_type": "code",
   "execution_count": null,
   "metadata": {
    "collapsed": false
   },
   "outputs": [],
   "source": [
    "import pandas\n",
    "import matplotlib.pyplot as plt\n",
    "#import csv\n",
    "#from nltk.book import *"
   ]
  },
  {
   "cell_type": "code",
   "execution_count": null,
   "metadata": {
    "collapsed": false
   },
   "outputs": [],
   "source": [
    "f = open('View_AllData.data.sql', 'r')\n",
    "str = f.read().split(',')\n",
    "headerNames = [i.replace('[', \"\").replace(']', '').replace(' ', '').replace('\\'', '') for i in str]\n",
    "headerNames"
   ]
  },
  {
   "cell_type": "code",
   "execution_count": null,
   "metadata": {
    "collapsed": true
   },
   "outputs": [],
   "source": [
    "def extractUsefulComments(df):\n",
    "    df1 = df[['INF_Data@StartTime_DT', 'INF_Data@CommentTech_STR']]\n",
    "    df2={}\n",
    "    for col in df1:\n",
    "        df2[col] = df[col].unique()\n",
    "        #print(type(col))\n",
    "        #break\n",
    "    return df2"
   ]
  },
  {
   "cell_type": "code",
   "execution_count": null,
   "metadata": {
    "collapsed": false
   },
   "outputs": [],
   "source": [
    "#get all comments but the table is too big\n",
    "#df = pandas.read_csv(\"outputView_AllData.csv\", low_memory=False, nrows=30999,names=headerNames)\n",
    "\n",
    "chunksize = 10 ** 3\n",
    "df = {'INF_Data@CommentTech_STR': [], 'INF_Data@StartTime_DT': []}\n",
    "i=1\n",
    "for chunk in pandas.read_csv(\"outputView_AllData.csv\", chunksize=chunksize,names=headerNames):\n",
    "    #print(type(chunk))\n",
    "    chunk = extractUsefulComments(chunk)\n",
    "    #print(chunk)\n",
    "    df['INF_Data@StartTime_DT'].extend(chunk['INF_Data@StartTime_DT'])\n",
    "    df['INF_Data@CommentTech_STR'].extend(chunk['INF_Data@CommentTech_STR'])\n",
    "    #print(type(df))\n",
    "    print(chunksize * i)\n",
    "    i += 1\n",
    "    #break\n",
    "\n",
    "df2=df\n",
    "df2"
   ]
  },
  {
   "cell_type": "code",
   "execution_count": null,
   "metadata": {
    "collapsed": false
   },
   "outputs": [],
   "source": [
    "import math\n",
    "report = \"\"\n",
    "for word in df2['INF_Data@CommentTech_STR']:\n",
    "    #print(word)\n",
    "    if type(word) is float:\n",
    "        continue\n",
    "    report += word + \" \"\n",
    "report = report.replace('@', ' ')\n",
    "report = report.replace('?', ' ')\n",
    "report = report.replace('.', ' ')\n",
    "report = report.replace('-', ' ')\n",
    "report = report.replace(',', ' ')\n",
    "report = report.replace('/', ' ')\n",
    "report = report.replace('(', ' ')\n",
    "report = report.replace(')', ' ')\n",
    "report = report.replace(':', ' ')\n",
    "report = report.replace('*', ' ')\n",
    "report = report.replace('\"', ' ')\n",
    "report = report.replace('=', ' ')\n",
    "print(report)"
   ]
  },
  {
   "cell_type": "code",
   "execution_count": null,
   "metadata": {
    "collapsed": false
   },
   "outputs": [],
   "source": [
    "from nltk.book import *\n",
    "fdist1 = FreqDist(report)\n",
    "#fdist.most_common(50)\n",
    "fdist1.plot(10, cumulative=True)"
   ]
  },
  {
   "cell_type": "code",
   "execution_count": null,
   "metadata": {
    "collapsed": false
   },
   "outputs": [],
   "source": [
    "from collections import Counter\n",
    "words = report.split()\n",
    "letter_counts = Counter(words)\n",
    "df = pandas.DataFrame.from_dict(letter_counts, orient='index')\n",
    "df"
   ]
  },
  {
   "cell_type": "code",
   "execution_count": null,
   "metadata": {
    "collapsed": false,
    "scrolled": false
   },
   "outputs": [],
   "source": [
    "df = df.sort_values(by=0, ascending=0)\n",
    "df"
   ]
  },
  {
   "cell_type": "code",
   "execution_count": null,
   "metadata": {
    "collapsed": false
   },
   "outputs": [],
   "source": [
    "df1 = df[:20]\n",
    "plt.show(block=True)\n",
    "df1.plot(kind='bar')"
   ]
  },
  {
   "cell_type": "code",
   "execution_count": null,
   "metadata": {
    "collapsed": false
   },
   "outputs": [],
   "source": [
    "from nltk import bigrams\n",
    "report = report.lower()\n",
    "reportNLTK = nltk.Text(nltk.tokenize.word_tokenize(report))\n",
    "reportNLTK.collocations()\n",
    "#report.collocation()\n",
    "#df2['INF_Data@CommentTech_STR']\n",
    "#list(bigrams([\"hi\"])"
   ]
  },
  {
   "cell_type": "code",
   "execution_count": null,
   "metadata": {
    "collapsed": false
   },
   "outputs": [],
   "source": [
    "reportNLTK.concordance('seizure')"
   ]
  },
  {
   "cell_type": "code",
   "execution_count": null,
   "metadata": {
    "collapsed": true
   },
   "outputs": [],
   "source": [
    ""
   ]
  }
 ],
 "metadata": {
  "kernelspec": {
   "display_name": "Python 2",
   "language": "python",
   "name": "python2"
  },
  "language_info": {
   "codemirror_mode": {
    "name": "ipython",
    "version": 2.0
   },
   "file_extension": ".py",
   "mimetype": "text/x-python",
   "name": "python",
   "nbconvert_exporter": "python",
   "pygments_lexer": "ipython2",
   "version": "2.7.13"
  }
 },
 "nbformat": 4,
 "nbformat_minor": 0
}