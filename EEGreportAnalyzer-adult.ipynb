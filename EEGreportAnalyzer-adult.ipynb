{
 "cells": [
  {
   "cell_type": "markdown",
   "metadata": {},
   "source": [
    "# convert from tsv to csv\n",
    "from __future__ import print_function, division, absolute_import\n",
    "\n",
    "import sys\n",
    "import csvkit as csv\n",
    "\n",
    "file_name = \"messer_SHC_note_final_2.tsv\"    \n",
    "out_file = open(\"SHC_note2.csv\",'w')\n",
    "i=0\n",
    "with open(file_name,'rb') as tsvin, open('new.csv', 'wb') as csvout:\n",
    "    tsvin = csv.reader(tsvin, delimiter='\\t')\n",
    "    csvout = csv.writer(csvout)\n",
    "\n",
    "    for row in tsvin:\n",
    "        #print(type(row))\n",
    "        if len(row) > 0:\n",
    "            csvout.writerow(row)\n",
    "        #i += 1\n",
    "        #if i > 3:\n",
    "        #    break\n"
   ]
  },
  {
   "cell_type": "code",
   "execution_count": null,
   "metadata": {
    "collapsed": true
   },
   "outputs": [],
   "source": [
    "#get rid of progress notes and others\n",
    "from __future__ import print_function, division, absolute_import\n",
    "\n",
    "import sys\n",
    "import csvkit as csv\n",
    "\n",
    "file_name = \"SHC_ALL_NOTES_RAW.csv\"    \n",
    "out_file = open(\"SHC_ALL_NOTES_FILTERED.csv\",'w')\n",
    "i=1\n",
    "        \n",
    "with open(file_name) as cf: \n",
    "    reader = csv.DictReader(cf) \n",
    "    outfieldnames = reader.fieldnames \n",
    "    writer = csv.DictWriter(out_file, fieldnames=outfieldnames, restval='*') \n",
    "    writer.writeheader()\n",
    "    for line in reader:\n",
    "        i += 1\n",
    "        eeg_no=\"\"\n",
    "        if (line['Note'] is None) or (len(line['Note']) == 0):\n",
    "            print(\"malformed at %s\", i)\n",
    "            continue\n",
    "        notebody = line['Note'].lower()\n",
    "        notetype = line['Note_type_Desc'].lower()\n",
    "        if \"EEG Number\" in notebody:\n",
    "            writer.writerow(line)\n",
    "            continue\n",
    "        if \"standard international system 10-20\" in notebody:\n",
    "            writer.writerow(line)\n",
    "            continue\n",
    "        if \"standard international 10-20\" in notebody:\n",
    "            writer.writerow(line)\n",
    "            continue\n",
    "        if \"conditions of recording\" in notebody:\n",
    "            writer.writerow(line)\n",
    "            continue\n",
    "        if \"conditions of the recording\" in notebody:\n",
    "            writer.writerow(line)\n",
    "            continue\n",
    "        if \"eeg #\" in notebody:\n",
    "            writer.writerow(line)\n",
    "            continue\n",
    "            \n",
    "        if \"neurodiagnostic\" in notetype:\n",
    "            writer.writerow(line)\n",
    "            continue\n",
    "        if \"outpatient procedure\" in notetype:\n",
    "            writer.writerow(line)\n",
    "            continue\n",
    "        #print(type(line['Note']))\n",
    "        #print(\"line %s\" + notebody[:100], i )\n",
    "        #print()\n",
    "        #if i > 1900:\n",
    "        #    break\n",
    "    #print(eeg_no)    \n",
    "    #i += 1\n",
    "    #if (i>600):\n",
    "    #    break"
   ]
  },
  {
   "cell_type": "code",
   "execution_count": 93,
   "metadata": {
    "collapsed": false,
    "scrolled": false
   },
   "outputs": [
    {
     "name": "stdout",
     "output_type": "stream",
     "text": [
      "26This EEG indicates successful lateralized hemispheric  anesthesia  for at least 10 to 12 minutes. There were no unexpected EEG  findings  during the Wada test.                     Kevin Graber, M.D. Christopher Anderson, M.D.  Instructor  Fellow in Clinical Neurophysiology  Stanford  Comprehensive Epilepsy Center Stanford Comprehensive Epilepsy  Center          cc\n",
      "\n",
      "27This EEG indicates successful lateralized hemispheric  anesthesia  for at least 10 to 12 minutes. There were no unexpected EEG  findings  during the Wada test.                     Kevin Graber, M.D. Christopher Anderson, M.D.  Instructor  Fellow in Clinical  Neurophysiology    Stanford Comprehensive Epilepsy Center Stanford Comprehensive Epilepsy  Center       cc\n",
      "\n",
      "###    See final EEG report (separate document).    \n",
      "\n",
      "### EEG report  Video  EEG Monitoring 12/2/07-12/3/07      Baseline EEG shows a moderate amplitude symmetrically slow background with  most  frequencies in the delta range and some in the theta range.  There  are frequent bifrontal sharp slow wave complexes at an average of 1 Hz  (pseudoperiodic  epileptiform discharges; PEDs). These wax and wane on 12/2  and  are occasionally asynchronous between hemispheres. These are much less  evident  after 10 p.m. and not apparent on 12/3.      No clinical seizure are reported.      Impression  Abnormal  due to frequent PEDs and generalized slowing. The EEG was improved  on  12/3 compared with the previous day.      Donald M. Olson MD    \n",
      "\n",
      "### EEG REPORT         TECHNICAL PROBLEMS PREVENT THE FORMAL EEG REPORT FROM BEING ENTERED.      The EEG of 4-17-2007 was technically normal. Atypical features included  slightly  low voltage and extra beta activity. There were no epileptiform  discharges.       C. Anderson MD 12334    \n",
      "\n",
      "### STANFORD HOSPITAL & CLINICS  Stanford  Medical Center  EEG  LABORATORY, EEG REPORT      IDENTIFYING INFORMATION  ID:  20808390  Name:  LARSEN, NORMAN  Sex:  Male  Date  of Birth: 1938/03/16  Age:  70  Handedness:  Right  Refer  Dept: O/P  Physician:  SCHWARTZ, NEIL  Operator:  AJ  Date:  03/27/08         EEG ADDENDUM:      This is an addendum report for the previous EEG study which was done on  03/27/08.       The single channel EKG showed irregular heart rhythm, with frequent skipping  heart  beats; however the single channel EKG is not designed for a cardiology  study.    Other cardiology studies should be considered in the setting of the clinical  history.                                                 Firas  Bannout, M.D.  Fellow  in Neurology  03/27/08        \n",
      "\n",
      "254This is a non-interpretable record due to the extensive ICU artifact as  described  above. Please repeat the study.      COMMENTS\n",
      "\n",
      "### IDENTIFYING INFORMATION  ID:  20456471  Name:  APANA, LUCITA E.  Sex:  Female  Date  of Birth: 01/27/1947  Age:  61  Refer  Dept: D1/132-A  Physician:  SHIRAZI, FARHEEN      EEG ADDENDUM:      This is an addendum to the previous EEG report from 03/26/08.  Two  episodes of repetitive rhythmic teeth tapping (5-6 Hz) were captured and  did  not correlate with epileptiform discharges or ictal pattern. The EEG  showed  rhythmic muscle artifact secondary to these movements. These are not  seizures.                                                      Firas Bannout, M.D  Epilepsy  Fellow.  03/27/08     \n",
      "\n",
      "395This  record is unfortunately of a poor technical quality with different  electrodes  impedance mismatch and displacement secondary to the left parietal  gauze  placement. However, this record is\n",
      "\n",
      "512 \n",
      "\n",
      "625EPILEPSY MONITORING UNIT  STANFORD COMPREHENSIVE EPILEPSY CENTER      Name\n",
      "\n",
      "714Identifying Information     EEG Number \n",
      "\n",
      "718This 24-hour right frontal subdural grid and frontal interhemisphere strip recording showed few interictal spikes at channels \n",
      "\n",
      "720This 24-hour right frontal subdural grid and frontal interhemisphere strip recording showed frequent runs of interictal spikes mainly at channels \n",
      "\n",
      "725This 24-hour right frontal subdural grid and frontal interhemisphere strip recording again is showing interictal spikes mainly at channels \n",
      "\n",
      "727Identifying Information     EEG Number \n",
      "\n",
      "728Identifying Information     EEG Number \n",
      "\n",
      "733This 24-hour right frontal subdural grid and frontal interhemisphere strip recording again is showing interictal spikes mainly at channels \n",
      "\n",
      "###Dictation interrupted - Report Deleted    EEG REPORT    NAME: VEGA, MARLENA  MR#: 210-39-29-2  EEG#: S08-505  TEST DATE: 06/20/2008  AGE: 66   SEX: FEMALE  LOCATION: NICU 207A    ALERTNESS: Drowsy.    TECHNICAL NOTES: No problems.    INDICATION: Possible seizures.     REFERRING MD: Venkat, Chitra    INCOMPLETE    Robert S. Fisher, MD, PhD      D: 06/20/2008 04:52 P CT   T: 06/20/2008 10:46 P CT / SPH Q1:    Q2:   SJN: 21779886   DJN: 104834282  \n",
      "\n",
      "783Report                                                                       Patient\n",
      "\n",
      "###Stanford Hospital and Clinics  24-hour video EEG Report    Identifying Information   EEG Number = E08-219                           Test Date:6/26/08-6/27/2008            Age: 45 Y   Name: Shannon Fallon    DOB: 5/14/1963               Sex: female   Location: F334   MedRec: 11399458   Sedation: None   Alertness: awake/asleep   Activation: Sensory Stimulation   Referring dept or MD: Dr. Fisher   History: 44 year-old woman with medically refractory symptomatic localization related epilepsy than left frontal lobe dysplasia,  was admitted for phase I scalp EEG-video monitoring surgical evaluation.  Meds: Topamax 100, 150 mg (OFF)  Lamictal 150 mg 2,2 (OFF).  Last Seizure: 05/18/08    CONDITIONS OF RECORDING: 24 hour video-EEG acquired with a digital Nihon-Kohden EEG machine, 24 channels, with Standard International System 10-20 electrode placements, eye movement leads, and an EKG lead. Machine detection was used for spikes, rhythmical events and possible seizures. These and other continuous segments of the EEG were then scanned by attending electroencephalographers.   Findings   The overall voltage was normal. The tracing was variable, reactive and continuous. The basic rhythm of medium voltage, at 9 to 10/second, was present over the parietal-occipital regions. During maximal alertness, the record showed alpha, and moderate amount of diffuse low-voltage fast (> 13/sec) activity. Delta (<4/sec) activity during wakefulness was absent. A normal variant of lambda waves was seen over the occipital regions bilaterally at times appeared in runs. There was also right sided Mu rhythm. Sleep features included fronto-central maximal slowing, positive occipital sharp transients of sleep (POSTS), asymmetric vertex waves (shifting to the right), bilateral 12-14 per second sleep spindles, and K complexes. A normal variant of wicket spikes was present bilaterally left more than right.    Interictal Activity   None    Neurobehavioral Events   None  This 24-hour video-EEG recording is normal without evidence of focality or epileptiform activity.      Firas Bannout 11:41 AM 6/27/2008   Epilepsy Fellow, pager # 22613    Teaching Physician Attestation    I have personally reviewed this test result, modified the housestaff's report where needed, and I agree with the findings reported above.    Robert S. Fisher, M.D., Ph.D.  Maslah Saul MD Professor of Neurology  Director, Stanford Epilepsy Center      \n",
      "\n",
      "###Stanford Hospital and Clinics  24-hour video EEG Report    Identifying Information   EEG Number = E08-219                           Test Date:6/27/08-6/28/2008            Age: 45 Y   Name: Shannon Fallon    DOB: 5/14/1963               Sex: female   Location: F334   MedRec: 11399458   Sedation: None   Alertness: awake/asleep   Activation: Sensory Stimulation   Referring dept or MD: Dr. Fisher   History: 44 year-old woman with medically refractory symptomatic localization related epilepsy and a left frontal lobe dysplasia or lesion, admitted for phase I scalp EEG-video monitoring surgical evaluation.  Meds: Topamax 100, 150 mg (OFF)  Lamictal 150 mg 2,2 (OFF).  Last Seizure: 05/18/08    CONDITIONS OF RECORDING: 24 hour video-EEG acquired with a digital Nihon-Kohden EEG machine, 24 channels, with Standard International System 10-20 electrode placements, eye movement leads, and an EKG lead. Machine detection was used for spikes, rhythmical events and possible seizures. These and other continuous segments of the EEG were then scanned by attending electroencephalographers.     Findings   Again, the overall voltage was normal. The tracing was variable, reactive and continuous. The basic rhythm of medium voltage, at 10-11/second, was present over the parietal-occipital regions. During maximal alertness, the record showed alpha, and moderate amount of diffuse low-voltage fast (> 13/sec) activity. Delta (<4/sec) activity during wakefulness was absent. A normal variant of lambda waves appeared in runs bilaterally. There was right sided mu rhythm. Sleep features included positive occipital sharp transients of sleep (POSTS), symmetric vertex waves, bilateral 12-14 per second sleep spindles, and K complexes. REM sleep was captured.  A normal variant of wicket spikes was present bilaterally left more than right. During sleep, there was rare low amplitude simple isolated spike at F7,  likely representing a normal variant of sleep transients.    Interictal Activity   None   Neurobehavioral Events   None  This 24-hour video-EEG recording is normal without evidence of focality or epileptiform activity.      Firas Bannout 1:42 PM 6/28/2008   Epilepsy Fellow, pager # 22613    Teaching Physician Attestation    I have personally reviewed this test result, modified the housestaff's report where needed, and I agree with the findings reported above.    Robert S. Fisher, M.D., Ph.D.  Maslah Saul MD Professor of Neurology  Director, Stanford Epilepsy Center        \n",
      "\n",
      "###Stanford Hospital and Clinics  EEG Report    Identifying Information   Test Date: 6/25/2008            Age: 67 Y   Name: Katherleen Harper    DOB: 9/6/1940              Sex: female   Location: E-236 MedRec: 01812551   Alertness: comatose   Activation: Sensory Stimulation   Referring dept or MD: Dr.Pompei   History: 67 year old woman status post ventricular fibrillation and cardiac arrest.  Evaluate for epileptiform discharges.    CONDITIONS OF RECORDING: This is a double distance recording, which was performed with a digital EEG machine in the purpose of evaluation of burst suppression or ECS patterns. Additional EKG lead was attached for artifact purposes.      Findings     Baseline EEG: Overall, the background is severely suppressed.  There are prolonged epochs of suppression of most all cerebral activity lasting for several minutes, interrupted by several second bursts of high amplitude admixtures of sharply contoured theta and delta activity with some faster frequencies. There was no clinical correlation with bursts.  There was a continuous EKG artifact throughout the channels.  There was no evidence of epileptiform activity.    The single channel EKG showed irregular heart rhythm.    Impression  This EEG is markedly abnormal due to the presence of severe burst suppression pattern, and prolonged periods of suppression. There was no evidence of epileptiform activity.    Comments   This EEG is consistent with severe encephalopathy, however, this finding is nonspecific. These findings and their significance were communicated directly to the treating physicians.     Firas Bannout 5:27 PM 6/25/2008   Epilepsy Fellow, pager # 22613    Kevin Graber, M.D.   Clinical Assistant Professor   Stanford Comprehensive Epilepsy Center  (I interpreted this EEG and agree with the documentation of my findings and impression.)    \n",
      "\n",
      "###Stanford Hospital and Clinics  EEG Report    Identifying Information   ID: 15132343  Name: FIKES, ANDREW B  Sex: Male  Date of Birth: 1977/09/27  Age: 30  Refer Dept: Outpatient  Physician: HOFFMAN, RONALD  Operator: AJ/AB  Date: 2008/06/25  TestTime: 08:56:33  Patient Condition: awake/asleep  Medical History: 30 year old male with history of depression and intermittent nocturnal tongue biting over the past year.  Evaluate for epileptiform activity   Medication: LEXAPRO, LIPITOR  FileName: P:\\NKT\\EEG2100\\CA282P6P.eeg  TestDuration: 00:33:42      CONDITIONS OF RECORDING: The recording was performed with a digital EEG machine, 24 channels, with Standard International 10-20 System electrode placements, eye movement leads, and an EKG lead.    Findings     Baseline EEG: The overall voltage was normal. The tracing was variable, reactive, symmetric and continuous. The posterior basic rhythm of medium voltage, at 10-11Hz, was present over the parietal-occipital regions bilaterally. Reactivity to eye opening and closure was appropriate. During maximal alertness, the record showed alpha and large amount of diffuse low-voltage fast (> 13/sec) activity. Delta (<4/sec) activity during wakefulness was absent.  During drowsiness and sleep there was additional bifronto-centrally maximal slowing. Sleep features included vertex waves, POSTS (at times in runs), spindles, and K-complexes.      Intermittent photic stimulation (flash frequencies ranging from 1/sec to 20/sec) was associated with a moderate occipital driving response. The location of the photic response was bilateral. Hyperventilation produced non-focal mild diffuse polymorphic theta activity.      Impression   This EEG is normal during wakefulness and sleep without any evidence of focality or epileptiform activity.    Comments   Absence of epileptiform discharges on a routine EEG does not preclude a clinical diagnosis of epilepsy or seizures.     Firas Bannout 3:39 PM 6/25/2008   Epilepsy Fellow, pager # 22613    Kevin Graber, M.D.   Clinical Assistant Professor   Stanford Comprehensive Epilepsy Center  (I interpreted this EEG and concur with the documentation of my findings and impression.)  \n",
      "\n",
      "###Stanford Hospital and Clinics  EEG Report    Identifying Information   ID: 09562836  Name: CORAZZINI, JAMES  Sex: Male  Date of Birth: 1951/05/23  Age: 57  Refer Dept: Outpatient  Physician: GRABER, KEVIN  Operator: AB  Date: 2008/06/25  TestTime: 13:41:46  Patient Condition: Awake/asleep.   Medication: Dilantin   History: 57 year old male with history of convulsive seizures. Evaluate for epileptiform discharges to assist with epilepsy syndrome classification.   FileName: P:\\NKT\\EEG2100\\CA282P6Z.eeg  TestDuration: 00:32:44        CONDITIONS OF RECORDING: The recording was performed with a digital EEG machine, 24 channels, with Standard International 10-20 System electrode placements, eye movement leads, and an EKG lead.    Findings     Baseline EEG: The overall voltage was normal. The tracing was variable, reactive, symmetric and continuous. The posterior basic rhythm of medium voltage, at 7-8 Hz, was present over the parietal-occipital regions bilaterally. Reactivity to eye opening and closure was appropriate. During maximal alertness, the record showed alpha, moderate amount of medium voltage 4-7 Hz theta activity, and moderate amount of diffuse low-voltage fast (> 13 Hz) activity. Delta (<4 Hz) activity during wakefulness was seen in a small amount. During drowsiness and sleep there was additional bifronto-centrally maximal slowing. Sleep features included vertex waves and POSTS. There was a single low amplitude sharp wave from unknown diagnostic significance over the left temporal region.     Intermittent photic stimulation (flash frequencies ranging from 1/sec to 20/sec) was associated with a moderate occipital driving response. The location of the photic response was bilateral. Hyperventilation showed mild diffuse polymorphic slowing in the theta range.       Impression   This EEG is abnormal due to mild diffuse slowing without any evidence of focality or epileptiform activity.    Comments    Absence of epileptiform discharges on a routine EEG does not preclude a clinical diagnosis of epilepsy or seizures. The diffuse slowing in this record is a non-specific indicator of diffuse cerebral dysfunction as seen in delirium, dementia, metabolic derangement, or other types of diffuse encephalopathy.    Firas Bannout 3:28 PM 6/25/2008   Epilepsy Fellow, pager # 22613      Kevin Graber, M.D.   Clinical Assistant Professor   Stanford Comprehensive Epilepsy Center  (I interpreted this EEG and concur with the documentation of my findings and impression.)    \n",
      "\n",
      "###Stanford Hospital and Clinics  EEG Report    Identifying Information   EEG Number =  S08-516                                Test Date: 6/25/2008            Age: 65 Y   Name: Alberto Rubio    DOB: 10/31/1942               Sex: male   Location: D1   MedRec: 06062707   Alertness: comatose   Activation: Sensory Stimulation   Referring dept or MD: Kim, May.    History: 65 -year-old male with hypertension, cardiomyopathy, status post cardiac arrest on cooling protocol, now being warmed up.  This is a follow up EEG.  Meds: FENTANYL, VERSED, DOPAMINE, INSULIN, ANTIBIOTICS.       CONDITIONS OF RECORDING: The recording was performed with a digital EEG machine, 24 channels, with Standard International 10-20 System electrode placements, eye movement leads, and an EKG lead.    Findings     Baseline EEG: The overall voltage was low, with brief periods of severe voltage attenuation.  There was pathological variability and reactivity to repositioning. A posterior dominant rhythm was not detected.  Normal sleep architecture was not present. The background frequencies consisted mainly of low amplitude theta and delta activity.      There were frequent bisynchronous low amplitude spikes and sharp waves with after going slow waves, maximally centrally and paracentrally, left > right. These G-PEDs occurred in isolation of occasional bursts at 3-4 Hz.  There was repetitive impeded jerking movement in between the epileptiform activity, preceded occasionally by single spikes or sharp waves, representing myoclonic seizures.       Impression   This EEG is abnormal due to:  1) Severe diffuse slowing.   2) Very frequent G-PEDs (generalized periodic epileptiform discharges), maximally paracentrally.   3) Occasional isolated myoclonic seizures.      Comments   This EEG does not show burst suppression compared to the previous one. The diffuse slowing in this record is a non-specific indicator of diffuse  cerebral dysfunction. Myoclonic seizures are consistent with as pseudo-hypoxic range. There is a heavy burden of epileptiform discharges and myoclonic seizures throughout this record. This recording is not being interpreted to reveal electroencephalographic status epilepticus (SE) because of the presence of some slow non-epileptiform activity present in between epileptiform discharges, and because of the absence of evolving patterns, however, there are some aspects of the record not far from SE.  Firas Bannout 2:58 PM 6/25/2008   Epilepsy Fellow, pager # 22613      Kevin Graber, M.D.   Clinical Assistant Professor   Stanford Comprehensive Epilepsy Center  (I interpreted this EEG and concur with the documentation of my findings and impression.)  \n",
      "\n",
      "###Stanford Hospital and Clinics  EEG Report    Identifying Information   ID: 20723110  Name: KLENNER, LORENA A  Sex: Female  Date of Birth: 1941/02/04  Age: 67  Refer Dept: EG/037  Physician: CHENG, WILLIAM  Operator: AJ  Date: 2008/06/25  TestTime: 15:31:56  Patient Condition: AWAKE/SLEEP  Medical History: 67 year old woman was a trio fibrillation, hypertension, diabetes and psychiatry disorder including catatonia from a was admitted for progressive cognitive declining and altered mental status.  Evaluate for epileptiform discharges.   Medication: CARDIAZEM, INSULIN, LOVENOX, ATIVAN, ZESTRIL, LISINOPRIL  FileName: P:\\NKT\\EEG2100\\CA283OMA.eeg  TestDuration: 00:25:11    CONDITIONS OF RECORDING: The recording was performed with a digital EEG machine, 24 channels, with Standard International 10-20 System electrode placements, eye movement leads, and an EKG lead.    Findings     Baseline EEG: The overall voltage was normal. The tracing was variable, symmetric and continuous. The posterior basic rhythm of medium voltage, at 9-10 Hz, was present over the parietal-occipital regions bilaterally. Reactivity to eye opening and closure was appropriate. During brief maximal alertness, the record showed alpha, moderate amount of medium voltage 4-7 Hz theta activity, and moderate amount of diffuse low-voltage fast (> 13 Hz) activity. Delta (< Hz) activity during wakefulness was absent. Throughout the recording, there was frequent sleep epochs, that was interrupted by the air gasping. Sleep features included additional bifronto-central maximal slowing, POSTS, spindles, and K-complexes. There was an isolated benign epileptiform transients during sleep (normal variant).     Impression   This EEG is abnormal due to the presence of minimal diffuse slowing, without any evidence of focal abnormalities or epileptiform activity.    Comments   The recording was dominated by sleep and drowsiness pattern which was  interrupted by air gasping activity, followed by brief and incomplete wakefulness. Absence of epileptiform discharges on a routine EEG does not preclude a clinical diagnosis of epilepsy or seizures. The diffuse slowing in this record is a non-specific indicator of diffuse cerebral dysfunction as seen in delirium, dementia, metabolic derangement, or other types of diffuse encephalopathy.      Firas Bannout 5:54 PM 6/25/2008   Epilepsy Fellow, pager # 22613      Kevin Graber, M.D.   Clinical Assistant Professor   Stanford Comprehensive Epilepsy Center  (I interpreted this EEG and concur with the documentation of my findings and impression.)    \n",
      "\n",
      "###Stanford Hospital and Clinics  EEG Report    Identifying Information   ID: 04409546  Name: LEE, FUMIKO  Sex: Female  Date of Birth: 1920/11/30  Age: 87  Refer Dept: EG/021B  Physician: RIMPEL, NICOLE  Operator: AJ  Date: 2008/06/25  TestTime: 14:10:54  Patient Condition: AWAKE/DEMENTED  Medical History: 87-year-old woman with dementia, hypertension, thyroid dysfunction was admitted for altered mental status.  Evaluate for epileptiform discharges.   Medication: LISINOPRIL, LEVOXYL, FOSAMAX  FileName: P:\\NKT\\EEG2100\\CA283OM7.eeg  TestDuration: 00:30:30      CONDITIONS OF RECORDING: The recording was performed with a digital EEG machine, 24 channels, with Standard International 10-20 System electrode placements, eye movement leads, and an EKG lead.    Findings     Baseline EEG: The overall voltage was normal, with subtle asymmetry and higher amplitude over the left lateral channels (~50% difference). The tracing was variable, reactive, symmetric and continuous. The posterior basic rhythm of medium voltage, at 7-8/ second, was present over the parietal-occipital regions bilaterally. Reactivity to eye opening and closure was appropriate. During maximal alertness, the record showed alpha, moderate amount of medium voltage 4-7/sec theta activity, and moderate amount of diffuse low-voltage fast (> 13/sec) activity. Delta (<4/sec) activity during wakefulness was absent.  During drowsiness, additional bifronto-central maximal slowing was present. Normal sleep features were not captured.     Single channel EKG showed regular heart rhythm.      Impression   This EEG is abnormal due to the presence all mild diffuse slowing without any evidence of focality or epileptiform activity.    Comments   Absence of epileptiform discharges on a routine EEG does not preclude a clinical diagnosis of epilepsy or seizures. The diffuse slowing in this record is a non-specific indicator of diffuse cerebral dysfunction as seen  in delirium, dementia, metabolic derangement, or other types of diffuse encephalopathy. The subtle voltage asymmetry is notable, but not specific and can be found with asymmetry of skull and soft tissues or possibly with focal cerebral abnormalities (but less likely in the absence of focal slowing). Therefore clinical correlation is recommended.        Firas Bannout 6:04 PM 6/25/2008   Epilepsy Fellow, pager # 22613      Kevin Graber, M.D.   Clinical Assistant Professor   Stanford Comprehensive Epilepsy Center  (I interpreted this EEG and concur with the documentation of my findings and impression.)    \n",
      "\n",
      "###Stanford Hospital and Clinics  EEG Report    Identifying Information   EEG Number =  S08-531                            Test Date: 6/30/2008            Age: 65 Y   Name: Alberto Rubio    DOB: 10/31/1942               Sex: male   Location: D1   MedRec: 06062707   Alertness: comatose   Activation: Sensory Stimulation   Referring dept or MD: Kim, May.    History: 65 -year-old male with hypertension, cardiomyopathy, status post cardiac arrest, now is having fluctuating in mental status. This is a follow up EEG.  Meds: Keppra 750 mg bid.    CONDITIONS OF RECORDING: The recording was performed with a digital EEG machine, 24 channels, with Standard International 10-20 System electrode placements, eye movement leads, and an EKG lead.    Findings     The overall voltage was low, with brief periods of additional severe voltage attenuation (partial discontinuity). There was gross symmetry. The posterior dominant rhythm was not detected.  Normal sleep architecture was not present. The background frequencies consisted mainly of low amplitude theta and delta activity admixed with mild slow alpha activity.       As seen previously, there were frequent periodic bisynchronous low-medium amplitude spikes/polyspikes and after going slow waves complexes, maximally centrally and paracentrally. At times they appear isolation or in brief bursts at 3-4 Hz.      There was occasional repetitive isolated myoclonic movements, representing myoclonic seizures, appeared in between the epileptiform dischares. One episode of generalized shaking and movement was captured and didn't correlate with additional change in the EEG background.        Impression   This EEG is abnormal due to:    1) Severe diffuse slowing (slightly improving).   2) Very frequent bilateral periodic dependent epileptiform discharges, maximally paracentrally.   3) Occasional isolated myoclonic seizures. One episode of generalzed  irregular body shaking was captured and didn't correlate with EEG change from the baseline background.     Comments   There were no subclinical electrographic seizures. The EEG background contains faster frequencies slightly more than the previous record, which is considered a slight improvement. There is still a frequent epileptiform discharges and isolated myoclonic seizures similarly to the previous record, without evolving pattern. The isolated myoclonic seizures are consistent with the hisotry of hypoxic brain damage.       Firas Bannout 4:58 PM 6/30/2008   Epilepsy Fellow, pager # 22613      I studied the EEG data and discussed the findings with the fellow. I have reviewed the fellow's note and agree with the documented findings and their interpretation.     Josef Parvizi MD PhD  Epilepsy Attending   \n",
      "\n",
      "###Stanford Hospital and Clinics  Video EEG Report    Identifying Information     EEG Number =  E08-228                       Test Dates: 7/3 - 7/4/2008          Age: 38 Y     Name: Jeanine Pai  DOB: 5/21/1970             Sex: female   Location:E2 ICU MedRec: 21058102   Sedation: fentanyl prn Alertness: confused, aphasic   Technical Notes: none Activation: nursing interaction  Referring dept or MD: Gary Steinberg, M.D., Ph.D.    History:  38 y/o female s/p resection of neurocytoma, with possible left thalamus and corpus callosum infarct.  She has altered responsiveness and intermittent aphasia.  Video EEG is ordered to evaluate for seizures as possible explanation for mental status and deficits.    Meds: Decadron, Zofran, Ceftriaxone, Pepcid, fentanyl prn,    CONDITIONS OF RECORDING: This is a 24 hour video-EEG acquired with a digital Nihon-Kohden EEG machine, 20 channels, with Standard International System 10-20 electrode placements, eye movement leads, and an EKG lead. Machine detection was used for spikes, rhythmical events and possible seizures. These and other continuous segments of the EEG were then scanned by attending electroencephalographers.    Findings   In the maximally alert state, there are occipital frequencies of approximately 8 Hz, admixed with a significant amount of theta frequencies. More anteriorly the background consists of an admixture of alpha, theta, some delta and low-voltage beta frequencies.  The background is variable and reactive. Frequently throughout the recording there is high amplitude delta slowing in the frontal regions, more prominent on the right.  Slowing is polymorphic, at times semirhythmic.  There is also frequent suppression of amplitudes and absence of faster frequencies in the left lateral chain, particularly at the T3 and T5 electrode.  When the patient is asleep, there is additional slowing of the background, however, the record lacks typical sleep architecture.     There are no epileptiform abnormalities on this record.    There are no push button events.    Impression     This continuous video EEG is abnormal due to slowing of the background and absence of normal sleep architecture, to a degree consistent with a moderate encephalopathy.  There is frequent asymmetry of the background, with slowing in the frontal regions, higher amplitude on the right, and suppression of amplitudes in the left lateral hemisphere.  There are no seizures or other  epileptiform abnormalities on the record.    Comments   Absence of epileptiform abnormalities cannot exclude the possibility of seizures occurring at other times, however, no electroencephalographic seizures were captured during the recording.  Moderate diffuse slowing is a nonspecific finding of encephalopathy.  Focal slowing is a nonspecific indicator of underlying focal cerebral dysfunction, however, is consistent with her known underlying cerebral lesions.     These findings and their significance were communicated directly to the treating physicians.     Kevin Graber M.D.   Clinical Assistant Professor   Stanford Comprehensive Epilepsy Center    Kevin Graber 5:31 PM 7/4/2008     \n",
      "\n",
      "851Subclinical right frontal\n",
      "\n",
      "###Stanford Hospital and Clinics  24 hour video EEG Report    Identifying Information   EEG Number =  E08/227                               Test Date:7/4/08-7/5/2008            Age: 28 Y   Name: Jessica Orr    DOB: 1/19/1980               Sex: female   Location: F333   MedRec: 21068069   Sedation: none   Alertness: awake/asleep  Activation: Sensory Stimulation   Referring dept or MD: Wiener, Robert   History: 28 year old right handed woman with new onset of neurobehavioral events since February of 2008. She was transferred from Sonora CA Hospital for clarification of presumed multiple types of events, currently are medically refractory.   Meds: Xanax 0.5 mg po bid, lorazepam prn (lamotrigine and phenobarbital discontinued).      CONDITIONS OF RECORDING: 24 hour video-EEG acquired with a digital Nihon-Kohden EEG machine, 20 channels, with Standard International System 10-20 electrode placements, eye movement leads, and an EKG lead. Machine detection was used for spikes, rhythmical events and possible seizures. These and other continuous segments of the EEG were then scanned by attending electroencephalographers.    Findings   Baseline EEG: The overall voltage was again normal. The tracing was variable and continuous. A symmetric, well-regulated posterior basic rhythm of low voltage, at 9-11 Hz, was present over the parietal-occipital regions, reactive to eye opening and eye closure. During maximal alertness, the record showed a normal alpha and beta frequencies. Theta and delta activities were not seen.  Sleep features included diffuse but fronto-centrally maximal slowing, positive occipital sharp transients of sleep (POSTS), vertex waves, bilateral 12-14 per second sleep spindles, and K complexes.  REM sleep was also captured.    No Hyperventilation or photic stimulation was performed.    Interictal Activity:  None     Neurobehavioral Events   There were 19 pushbutton markings.   All events occurred out of wakefulness; no events occurred while the patient was asleep. The EEG was normal before, during and after all events.  Symptoms were not stereotyped, although she typically closed her eyes near onset.  Some events began with slow intermittent movements of her left upper extremity, while others began with her being motionless and less responsive with her eyes closed.  Behaviors stopped and started, and includes mild arching of the back and neck extension, mild flailing of limbs left more than right although no episodes included violent movements.  She intermittently grimaced during some and had labored breathing and some signs of emotional distress.  Many episodes resolved slowly with continued eye closure, and the precise second of ending was unclear. Some initial episodes earlier in the day on 7/4/08 lasted ~ 2-3 minutes, while several lasted 15 minutes.  The longest episode began on 7/4/08 17:24, an lasted 19 minutes. Some markings were in close proximity. Episodes occurred while supine in bed, except for 7/4/08 20:17, which started while sitting on the edge of the bed.  She fell into the bed with her head in the appropriate location and had various movements as with other episodes.  She could not recall falling, and had variable awareness with events.  She described burning pain with some.      Impression of events:  Psychogenic non-epileptic events.    Impression   This 24-hour video-EEG recording is normal for age, without evidence of focality or epileptiform activity.19 push button non epileptic events were captured with variable semiology and variable duration up to 19 minutes.     Comments:   Although there is nothing to support the hypothesis of an epilepsy syndrome in this patient given the EEG since admission, epileptic seizures and nonepileptic symptoms can co-exist in some patients; a normal EEG cannot exclude an epilepsy syndrome.  Spells with \"blackout of vision\"  have not been captured  Spells with shaking and falling have been captured..    Kevin Graber, M.D.  Clinical Assistant Professor  Stanford Comprehensive Epilepsy Center  \n",
      "\n",
      "###Stanford Hospital and Clinics  24 hour video EEG Report    Identifying Information   EEG Number =  E08/227                               Test Date:7/3/08-7/4/2008            Age: 28 Y   Name: Jessica Orr    DOB: 1/19/1980               Sex: female   Location: F333   MedRec: 21068069   Sedation: none   Alertness: awake/asleep  Activation: Sensory Stimulation   Referring dept or MD: Wiener, Robert   History: 28 year old right handed woman with new onset of neurobehavioral events since February of 2008. She was transferred from Sonora CA Hospital for clarification of presumed multiple types of events, currently are medically refractory.   Meds: Phenobarbital 120 mg qday; Xanax 0.5 mg po bid, Lamictal 25 mg bid.   Last Seizure: Within 24 hours of the admission.    CONDITIONS OF RECORDING: 24 hour video-EEG acquired with a digital Nihon-Kohden EEG machine, 20 channels, with Standard International System 10-20 electrode placements, eye movement leads, and an EKG lead. Machine detection was used for spikes, rhythmical events and possible seizures. These and other continuous segments of the EEG were then scanned by attending electroencephalographers.    Findings   Baseline EEG: The overall voltage was normal. The tracing was variable and continuous. A symmetric, well-regulated posterior basic rhythm of low voltage, at 9-11 Hz, was present over the parietal-occipital regions, reactive to eye opening and eye closure. During maximal alertness, the record showed a normal alpha and beta frequencies. Theta and delta activities were not seen.  Sleep features included diffuse but fronto-centrally maximal slowing, positive occipital sharp transients of sleep (POSTS), vertex waves, bilateral 12-14 per second sleep spindles, and K complexes.  REM sleep was also captured.    No Hyperventilation or photic stimulation was performed.    Interictal Activity:  None     Neurobehavioral Events   There were multiple push button events.   7/3/08 15:37:30.  The patient closes her eyes.  15 seconds later she has irregular intermittent variable slow jerking of her left upper extremity with variable velocity.  She opens and closes her eyes several times.  This behavior waxes and wanes over the next several minutes.  She demonstrated some ability to interact during some of the event. The EEG is normal before, during and following this event.    Impression of event:  Psychogenic non-epileptic event.    7/3/08 22:51:48.  The patient experiences a quick jerk of her left shoulder, closes her eyes, and reaches for the button at 22:52.  She complains that her eyes hurt, and has variable intermittent jerking on the left side for several minutes.   She demonstrated some ability to interact during some of the event. The EEG is normal before, during and following this event.    Impression of event:  Psychogenic non-epileptic event.    7/4/08 00:06:11 and again at 00:40.  The patient has prolonged symptoms with eyes closed, variable jerking on the left side, occasional stiffening with neck extension, and times of emotional distress.  Symptoms waxed and waned.  She was able to interact during some of the event.  The EEG is normal before, during and following these events.    Impression of events:  Psychogenic non-epileptic events.    Impression   This 24-hour video-EEG recording is normal for age, without evidence of focality or epileptiform activity. Four non epileptic events were captured.     COMMENT:   Epileptic seizures and nonepileptic symptoms can co-exist in some patients.  Spells with clear loss of consciousness and \"blackout of vision\" have not been captured.    Kevin Graber, M.D.  Clinical Assistant Professor  Stanford Comprehensive Epilepsy Center  \n",
      "\n",
      "###Stanford Hospital and Clinics  24 hour video EEG Report    Identifying Information   EEG Number =  E08/227                               Test Date:7/5/08-7/6/2008            Age: 28 Y   Name: Jessica Orr    DOB: 1/19/1980               Sex: female   Location: F333   MedRec: 21068069   Sedation: none   Alertness: awake/asleep  Activation: Sensory Stimulation   Referring dept or MD: Wiener, Robert   History: 28 year old right handed woman with new onset of neurobehavioral events since February of 2008. She was transferred from Sonora CA Hospital for clarification of presumed multiple types of events, currently are medically refractory.   Meds: off of all scheduled meds; no lorazepam in past 24 hours.      CONDITIONS OF RECORDING: 24 hour video-EEG acquired with a digital Nihon-Kohden EEG machine, 20 channels, with Standard International System 10-20 electrode placements, eye movement leads, and an EKG lead. Machine detection was used for spikes, rhythmical events and possible seizures. These and other continuous segments of the EEG were then scanned by attending electroencephalographers.    Findings   Baseline EEG: The overall voltage was normal. The tracing was variable and continuous. A symmetric, well-regulated posterior basic rhythm of low voltage, at 9-11 Hz, was present over the parietal-occipital regions, reactive to eye opening and eye closure. During maximal alertness, the record showed a normal alpha and beta frequencies. Theta and delta activities were not seen.  Sleep features included diffuse but fronto-centrally maximal slowing, positive occipital sharp transients of sleep (POSTS), vertex waves, bilateral 12-14 per second sleep spindles, and K complexes.  REM sleep was also captured.    No Hyperventilation or photic stimulation was performed.    Interictal Activity:  None     Neurobehavioral Events   There were 7 multiple push button events; after the patient was instructed  to instead log events, 5 additional episodes were noted, and one found late in the evening not charted.  The EEG immediately prior, during and following reveals normal wakefulness.  Events typically last 2 - 4 minutes, with the longest episode lasting 10 minutes.  The events have some variability, but tend to include eye closure at onset, irregular left arm movements, and with more involved events there is erratic neck extension and arching.  No classical tonic - clonic activity is present.  Symptoms at times slow down, stop, and start again.  The patient described burning pain in the arm or posterior head during some episode, and had partial awareness during some.  On note, on 7/5/08 at 11:21 the patient was of camera in the restroom, and reported to her boyfriend that she was experiencing blackout of vision. She later did not remember these symptoms.    Impression of events:  Psychogenic non-epileptic events.    Impression   This 24-hour video-EEG recording is normal for age, without evidence of focal abnormalities or epileptiform activity. 13 non epileptic events were captured over the past 24 hours.  During this hospitalization, episodes have been captured with shaking (each day of recording), dizziness and falling (7/4/2008; see report 7/5/2008) and blackout of vision (7/5/2008; as listed above).  These symptoms have been deemed representative of prior events.    COMMENT:   Barbiturate and benzodiazepines have been tapered; epileptic and non-epileptic symptoms can coexist in some patients.  Continued recording to help exclude a dual diagnosis and to exclude withdrawal seizures may be helpful.      Kevin Graber, M.D.  Clinical Assistant Professor  Stanford Comprehensive Epilepsy Center  \n",
      "\n",
      "860Identifying Information   EEG Number \n",
      "\n",
      "###Stanford Hospital and Clinics  24 hour video EEG Report    Identifying Information   EEG Number =  E08/227                               Test Date:7/6/08-7/7/2008            Age: 28 Y   Name: Jessica Orr    DOB: 1/19/1980               Sex: female   Location: F333   MedRec: 21068069   Sedation: none   Alertness: awake/asleep  Activation: Sensory Stimulation   Referring dept or MD: Wiener, Robert   History: 28 year old right handed woman with new onset of neurobehavioral events since February of 2008. She was transferred from Sonora CA Hospital for clarification of presumed multiple types of events, currently are medically refractory.   Meds: off of all scheduled meds; no lorazepam and no xanax for >24 hours.      CONDITIONS OF RECORDING: 24 hour video-EEG acquired with a digital Nihon-Kohden EEG machine, 20 channels, with Standard International System 10-20 electrode placements, eye movement leads, and an EKG lead. Machine detection was used for spikes, rhythmical events and possible seizures. These and other continuous segments of the EEG were then scanned by attending electroencephalographers.    Findings   Baseline EEG: The overall voltage was normal. The tracing was variable and continuous. A symmetric, well-regulated posterior basic rhythm of low voltage, at 10-11 Hz, was present over the parietal-occipital regions, reactive to eye opening and eye closure. During maximal alertness, the record showed a normal alpha and beta frequencies. Theta and delta activities were not seen.  Sleep features included diffuse but fronto-centrally maximal slowing, positive occipital sharp transients of sleep (POSTS), vertex waves, bilateral 12-14 per second sleep spindles, and K complexes.  REM sleep was also captured.    No Hyperventilation or photic stimulation was performed.    Interictal Activity:  None     Neurobehavioral Events   None    Impression   This 24-hour video-EEG recording is normal for age, without evidence of  focal abnormalities or epileptiform activity. No non epileptic events were captured over the past 24 hours.        Erika Stuckert, M.D.  1424; 7/7/2008    Epilepsy fellow, pager 14358    I studied the EEG data and discussed the findings with the fellow. I have reviewed the fellow's note and agree with the documented findings and their interpretation.     Josef Parvizi MD PhD  Epilepsy Attending   \n",
      "\n",
      "962Identifying Information   EEG Number \n",
      "\n",
      "988Identifying Information   EEG Number \n",
      "\n",
      "1004Identifying Information   EEG Number \n",
      "\n",
      "1014(Day 2 of recording\n",
      "\n",
      "1016(Day 3 of recording\n",
      "\n",
      "1026This EEG is limited due to moving, impedance and 60 Hz noise artifact\n",
      "\n",
      "1033(Day 4 of recording\n",
      "\n",
      "1099Identifying Information   EEG Number \n",
      "\n",
      "1111Report  Identifying Information  EEG Number \n",
      "\n",
      "1112Report    Identifying Information   EEG Number \n",
      "\n",
      "1141Burst suppression at 75-90\n",
      "\n",
      "1147Burst suppression at 75-90\n",
      "\n",
      "1251Two push button were captured and didn\n",
      "\n",
      "###Stanford Hospital and Clinics  Video EEG Report   (Day 1 of continuous record)    Identifying Information   EEG Number = E08-298  Test Date: 9/1 - 9/2/2008            Age: 39 Y   Name: Andria Brinson    DOB: 3/24/1969               Sex: female   Location: IP  MedRec: 15117617   Sedation: None.  Alertness: awake and asleep   Activation: Sensory Stimulation   Indication: Rule out epileptiform discharges.  Referring dept or MD: Dunn, Jeffrey MD   History: 39year old female with complicated history including panhypopituitarism s/p sphenoidectomy (Addisons/thyroid), depression with cutting, stroke, seizure d/o, and obesity who presents with two days of witnessed tonic/clonic activity of unknown origin on the psych floor.  Meds: VPA; PHT; LYR.  Last Seizure: 09/01/08.    CONDITIONS OF RECORDING: The recording was performed with a digital EEG machine, 20 channels, with Standard International 10-20 System electrode placements, eye movement leads, and an EKG lead.    Findings   Baseline EEG: The overall voltage was normal. The tracing was continuous. A symmetric, well-regulated posterior basic rhythm of medium voltage, at 11 to 12/second, was present over the parietal-occipital regions. Reactivity to eye opening (blocking) was appropriate. During maximal alertness, the record showed a moderate amount of  medium  voltage 4-<8/sec theta activity, and moderate amount of diffuse low-voltage fast (> 13/sec) activity. Delta (<4/sec) activity during wakefulness was absent.    Sleep features included normal slowing, positive occipital sharp transients of sleep (POSTS), vertex waves, bilateral 12-14 per second sleep spindles, and K complexes.    Interictal Activity  None.    Neurobehavioral Events   1. One episode of crying was captured. The patient received a call from her daughter, started to cry.  She got of the bed and threw books from the table. This episode lasted for about 10 minutes.  The EEG revealed a  normal wakeful pattern without epileptiform activity, in the minutes before, during and after the episode. This event did not contain shaking activity.    Impression   This record is normal, without evidence of focal abnormality or epileptiform activity. No elelctrographic or clinical seizures were captured. She had an episode of anger and emotional distress without pathological EEG change, but no episodes of shaking were captured.    Comments   Absence of epileptiform discharges on a routine EEG does not preclude a clinical diagnosis of epilepsy or seizures.  Further EEG recording is indicated to capture her typical GTC seizures.    Stuckert, Erika MD  Epilepsy Fellow; pager#14358.      I personally interpreted this video EEG and concur with the documentation of my findings and Impression.    Kevin Graber, M.D.  Clinical Assistant Professor  Stanford Comprehensive Epilepsy Center      \n",
      "\n",
      "###Stanford Hospital and Clinics  Video EEG Report   (Day 2 of continuous record)    Identifying Information   EEG Number = E08-298  Test Date: 9/2/08 - 9/3/08            Age: 39 Y   Name: Andria Brinson    DOB: 3/24/1969               Sex: female   Location: IP  MedRec: 15117617   Sedation: None.  Alertness: awake and asleep   Activation: Sensory Stimulation   Indication: Rule out epileptiform discharges.  Referring dept or MD: Dunn, Jeffrey MD   History: 39 year old female with complicated history including panhypopituitarism s/p sphenoidectomy (Addisons/thyroid), depression with cutting, stroke, \"seizure\" d/o, and obesity who presents with two days of witnessed shaking activity of unknown origin on the psychiatry ward.  Meds: valproate, phenytoin, pregabalin  Last Seizure: 09/01/08.    CONDITIONS OF RECORDING: The recording was performed with a digital EEG machine, 20 channels, with Standard International 10-20 System electrode placements, eye movement leads, and an EKG lead.    Findings   Baseline EEG: The overall voltage was normal. The tracing was continuous. A symmetric, well-regulated posterior basic rhythm of medium voltage, at 11 to 12 Hz/second, was present over the parietal-occipital regions. Reactivity to eye opening (blocking) was appropriate. During maximal alertness, the record showed a moderate amount of  medium  voltage 4-<8/sec theta activity, and moderate amount of diffuse low-voltage fast (> 13/sec) activity. Delta (<4/sec) activity during wakefulness was absent.  Sleep features included normal slowing, positive occipital sharp transients of sleep (POSTS), vertex waves, bilateral 12-14 per second sleep spindles, and K complexes.  Intermittent photic stimulation (flash frequencies ranging from 1/sec to 20/sec) was associated with a slight response. The location of the photic response was bilateral. Hyperventilation (with maximal effort) produced no significant response.    Interictal Activity   None.    Neurobehavioral Events   1. During photic stimulation the patient had an episode of head and eye turning to the left and clinically a decrease in awareness. This episode lasted for 10-15 seconds and the patient felt \"slow\" and sleepy afterwards. The EEG revealed a normal wakeful pattern without epileptiform activity, in the minutes before, during and after the episode. This event did not contain shaking activity.  Impression of event:  Nonepileptic event.    Impression   This record is normal, without evidence of focal abnormality or epileptiform activity. No elelctrographic or clinical seizures were captured. Nonepileptic unreponsiveness was captured without pathological EEG change, but no episodes of shaking were captured.    Comments   Absence of epileptiform discharges on a routine EEG does not preclude a clinical diagnosis of epilepsy or seizures.  Further EEG recording may be indicated to capture her typical event with shaking    Stuckert, Erika MD  Epilepsy Fellow; pager#14358.      I personally interpreted this video EEG and agree with the above documentation of my findings and impression.    Kevin Graber, M.D.  Clinical Assistant Professor  Stanford Comprehensive Epilepsy Center        \n",
      "\n",
      "###Stanford Hospital and Clinics  Continuous Video EEG Report  (Day 2 of recording)    Identifying Information   EEG Number = E08-299  Test Date: 9/03/08- 9/4/2008            Age: 52 Y   Name: Patricia Sheals-Bernard    DOB: 10/27/1955               Sex: female   Location: F330A  MedRec: 13151352   Sedation: None.  Alertness: awake and asleep   Activation: Sensory Stimulation   Indication:Rule out epilepstiform activity.  Referring dept or MD: Graber, MD   History: 52-year-old left-handed female with an unusual constellation of symptoms; she had medically refractory, symptomatic localization-related epilepsy, autonomic dysfunction with a history of tachyarrhythmia, and obstructive sleep apnea.    Meds: Lamictal 100mg po BID.    Condition of recording    24 hour video-EEG acquired with a digital Nihon-Kohden EEG machine, 24 channels, with Standard International System 10-20 electrode placements, eye movement leads, and an EKG lead. Machine detection was used for spikes, rhythmical events and possible seizures. These and other continuous segments of the EEG were then scanned by attending electroencephalographers.    Findings   Baseline EEG: The overall voltage was again normal. The tracing was continuous. A symmetric, well-regulated posterior basic rhythm of medium voltage, at 11 to 12Hz, was present over the parietal-occipital regions. Reactivity to eye opening (blocking) was appropriate. During maximal alertness, the record consisted of alpha frequencies and moderate amount of diffuse low-voltage fast beta activity. Delta activity during wakefulness was absent.   There were instances of polymorphic theta slowing in the left temporal region primarily during drowsiness.   A normal variant in the form of sharply contoured wicket spikes was again seen over left more than right anterior temporal regions. At times isolated waveforms of the same morphology were present in the on the left more than right temporal region.    Sleep features included appropriate slowing, positive occipital sharp transients of sleep (POSTS), vertex waves, bilateral 12-14 per second sleep spindles, and K complexes.     Interictal Activity  Again, no waveforms clearly met diagnostic criteria for epileptiform potentials.     Neurobehavioral Events   The patient has intermittent sensations of somewhat disorganized thinking, but did not define discrete episodes.  There are no push button markings, or electroencephalographic seizures.    Impression  This record is abnormal due to intermittent left temporal slowing. No clear epileptiform abnormalities or seizures were captured.   Comments   Determination of wicket spikes in an area of focal slowing can be tenuous; further sampling may be helpful to furthur assess the sharp transients on this record in the context of antiseizure medication taper, and to capture typical events.    Stuckert, Erika MD  Epilepsy Fellow; pager#14358.      I personally interpreted this video EEG and agree with the above documentation of my findings and impression.    Kevin Graber, M.D.  Clinical Assistant Professor  Stanford Comprehensive Epilepsy Center      \n",
      "\n",
      "1269Report                                                                       Patient\n",
      "\n",
      "###Stanford Hospital and Clinics  Video EEG Report  (Day 1 of recording)    Identifying Information   EEG Number = E08-300  Test Date: 9/2 - 9/3/2008            Age: 49 Y   Name: Aurora Sanchez    DOB: 3/19/1959               Sex: female   Location: F334A  MedRec: 14189518   Sedation: None.  Alertness: awake and asleep   Activation: Sensory Stimulation   Indication: Rule out epileptiform activity.  Referring dept or MD: Fisher, Robert MD.   History: 49-year-old woman with documented nonepileptic events, now with new semiology.  Meds: NO AED.  Last Seizure: 09/02/08.    Condition of recording    24 hour video-EEG acquired with a digital Nihon-Kohden EEG machine, 24 channels, with Standard International System 10-20 electrode placements, eye movement leads, and an EKG lead. Machine detection was used for spikes, rhythmical events and possible seizures. These and other continuous segments of the EEG were then scanned by attending electroencephalographers.    Findings     Baseline EEG: The overall voltage was normal. The tracing was continuous. A symmetric, well-regulated posterior basic rhythm of medium voltage, at 12 to 13 Hz, was present over the parietal-occipital regions. Reactivity to eye opening (blocking) was appropriate. During maximal alertness, the record showed an admixture of alpha frequencies and a moderate amount of diffuse low-voltage fast beta activity. Theta and delta activity during wakefulness was absent.    Sleep features included appropriate slowing, positive occipital sharp transients of sleep (POSTS), vertex waves, bilateral 12-14 per second sleep spindles, and K complexes.    Interictal Activity  None.    Neurobehavioral Events   Prior to the beginning of the recording, while the technician was plugging in electrodes, she became unresponsive in her chair. At 10:31 am the record starts, the patient has her eyes closed, she raises her arms and  appears to be stiff and remains unresponsive.  Several minutes later she is moved into bed, and remains still and unresponsive with eyes closed at 10:36. ~30 seconds later she opens her eyes and communicates.  The EEG reveals a normal wakeful pattern as the record begins, throughout the recorded event and following.  Impression of event:  Non epileptic event.    Impression  This record is normal, without evidence of focal abnormality or epileptiform activity. A nonepileptic event with shaking was captured as outlined above.    Comments   Absence of epileptiform discharges on a routine EEG cannot preclude a clinical diagnosis of epilepsy or seizures, however, there is nothing on the initial recording to support a diagnosis of epilepsy.  No prolonged events have been captured.    Stuckert, Erika MD  Epilepsy Fellow; pager#14358.      I personally interpreted this video EEG and agree with the documentation of my findings and impression.    Kevin Graber, M.D.  Clinical Assistant Professor  Stanford Comprehensive Epilepsy Center        \n",
      "\n",
      "###Stanford Hospital and Clinics  Video EEG Report  (Day 2 of recording)    Identifying Information   EEG Number = E08-300  Test Date: 9/03- 9/4/2008            Age: 49 Y   Name: Aurora Sanchez    DOB: 3/19/1959               Sex: female   Location: F334A  MedRec: 14189518   Sedation: None.  Alertness: awake and asleep   Activation: Sensory Stimulation   Indication: Rule out epileptiform activity.  Referring dept or MD: Fisher, Robert MD.   History: 49-year-old woman with documented nonepileptic events, now with new semiology.  Meds: no antiseizure medication.  Last Seizure: 09/02/08.    Condition of the Recording    24 hour video-EEG acquired with a digital Nihon-Kohden EEG machine, 24 channels, with Standard International System 10-20 electrode placements, eye movement leads, and an EKG lead. Machine detection was used for spikes, rhythmical events and possible seizures. These and other continuous segments of the EEG were then scanned by attending electroencephalographers.    Findings   Baseline EEG: The overall voltage was normal. The tracing was continuous. A symmetric, well-regulated posterior basic rhythm of medium voltage, at 12 to 13 Hz, was present over the parietal-occipital regions. Reactivity to eye opening (blocking) was appropriate. During maximal alertness, the record was an admixture of alpha frequencies and diffuse low-voltage fast beta activity. Theta and delta activity during wakefulness was absent.  Sleep features included appropriate slowing, positive occipital sharp transients of sleep (POSTS), vertex waves, bilateral 12-14 Hz sleep spindles, and K complexes.    Neurobehavioral Events   1. 09/03/08 at 17:39 pm a push button event occurred. The push button event was initiated by the nurse, who noticed a brief period of starring and unresponsiveness. The patient was not aware of any abnormalities. She returned immediately back to her baseline, no postictal phase noticed. The  EEG showed an normal wakeful rhythm with no epileptiform discharges or pathological slowing in the minutes before, during or following this event.  2. 09/04/08 at 08:18am another push button event. The patient was noticed to have a strange look on her face. She started to feel dizzy. Her response to questions and commands was very delayed. She had bilateral eye flutter through the 5 minute episode. No shaking or LOC observed. The EEG showed an normal wakeful rhythm with no epileptiform discharges or pathological slowing in the minutes before, during or following this event.  Impression of events:  Non epileptic events.    Impression  This record is normal, without evidence of focal abnormality or epileptiform activity.  2 non epileptic events were captured.    Comments   Absence of epileptiform discharges on a routine EEG does not preclude a clinical diagnosis of epilepsy or seizures, however, there is nothing on this record in support of a diagnosis of an epilepsy syndrome. Further EEG recording may be helpful to capture one of her typical long lasting events that lead to the hospitalization.    Stuckert, Erika MD  Epilepsy Fellow; pager#14358.      I personally interpreted this video EEG and agree with the documentation of my findings and impression.    Kevin Graber, M.D.  Clinical Assistant Professor  Stanford Comprehensive Epilepsy Center      \n",
      "\n",
      "###Stanford Hospital and Clinics  Continuous Video-EEG Report  (Day 3 of recording)    Identifying Information   EEG Number = E08-297                                Test Date: 9/4/08          Age: 21 Y   Name: John H Torrence    DOB: 10/31/1986               Sex: male   Location: E2   MedRec: 21202056   Sedation: None   Alertness: lethargic   Technical Notes: None   Activation: Sensory Stimulation   Indication: Rule out subclinical seizures.   Referring dept or MD: Dr. Leung   History: 21 year old man with AIDS brought in on 8-31-08 for 3 convulsions.  He was found to have meningitis, but continued to be somnolent.   Meds: Dilantin, Keppra    CONDITIONS OF RECORDING: 24 hour video-EEG acquired with a digital Nihon-Kohden EEG machine, 24 channels, with Standard International System 10-20 electrode placements, eye movement leads, and an EKG lead. Machine detection was used for spikes, rhythmical events and possible seizures. These and other continuous segments of the EEG were then scanned by attending electroencephalographers. The recording ended in the evening of 9/4/2008.    Findings   Baseline EEG: The overall voltage was low. The tracing was symmetric and continuous. Only minor reactivity was present. A posterior basic rhythm was not present. The background frequency consisted mainly of large amounts of theta and polymorphic delta activity admixed with moderate amounts of medium amplitude alpha frequencies distributed maximally bifrontally. Some alpha activity emerges after stimulation. Normal sleep architecture was not present.     Impression   This EEG is abnormal due to   1. Moderate to severe diffuse slowing without any evidence of focal abnormality or epileptiform activity.  This EEG shows some features of alpha coma.  2. No electrographic or clinical seizures were captured.    Comments   Absence of epileptiform discharges on a routine EEG does not preclude a  clinical diagnosis of epilepsy or seizures. The diffuse slowing in this record is a non-specific indicator of diffuse cerebral dysfunction as seen in severe diffuse encephalopathy.  \"Alpha coma\" is an EEG finding of some encephalopathies, and is a nonspecific EEG finding (e.g. from causes that are structural, metabolic, medication-induced and other).    Stuckert, Erika MD  Epilepsy Fellow; pager#14358.      I personally interpreted this video EEG and agree with the documentation of my findings and impression.    Kevin Graber, M.D.  Clinical Assistant Professor  Stanford Comprehensive Epilepsy Center      \n",
      "\n",
      "###Stanford Hospital and Clinics  Continuous Video-EEG Report  (Day 2 of recording)    Identifying Information   EEG Number = E08-297                                Test Date: 9/3/08-to-9/4/2008            Age: 21 Y   Name: John H Torrence    DOB: 10/31/1986               Sex: male   Location: E2   MedRec: 21202056   Sedation: None   Alertness: lethargic   Technical Notes: None   Activation: Sensory Stimulation   Indication: Rule out subclinical seizures.   Referring dept or MD: Dr. Leung   History: 21 year old man with AIDS brought in on 8-31-08 for 3 convulsions, and was found to have meningitis, but continued to poorly/unresponsive.   Meds: Dilantin, Keppra, Fentanyl gtt, versed gtt    CONDITIONS OF RECORDING: 24 hour video-EEG acquired with a digital Nihon-Kohden EEG machine, 24 channels, with Standard International System 10-20 electrode placements, eye movement leads, and an EKG lead. Machine detection was used for spikes, rhythmical events and possible seizures. These and other continuous segments of the EEG were then scanned by attending electroencephalographers.    Findings   Baseline EEG: The overall voltage was very low. The tracing was symmetric and at times discontinuous. Only minor reactivity was present. The posterior basic rhythm was not formed. The background frequency consisted mainly of very low voltage large amounts of theta and polymorphic delta activity admixed with moderate amounts of low amplitude low alpha frequencies distributed maximally bifrontally. The alpha activity increases with stimulation. No sleep features were present.     Impression   This EEG is abnormal due to moderate to severe diffuse slowing without any evidence of focal abnormality or epileptiform activity. There are some features of alpha coma, which is non specific. No electrographic or clinical seizures were captured.    Comments   Absence of epileptiform discharges on a routine EEG does not preclude a  clinical diagnosis of epilepsy or seizures. The diffuse slowing in this record is a non-specific indicator of diffuse cerebral dysfunction as seen in severe diffuse encephalopathy.      Stuckert, Erika MD  Epilepsy Fellow; pager#14358.      I personally interpreted this video EEG and agree with the documentation of my findings and impression.    Kevin Graber, M.D.  Clinical Assistant Professor  Stanford Comprehensive Epilepsy       \n",
      "\n",
      "###Stanford Hospital and Clinics  Continuous Video EEG Report  (Day 12 of recording)    Identifying Information   EEG Number = E08-288                               Test Date: 9/4/08-9/5/2008            Age: 75 Y   Name: Oleg Macheret    DOB: 4/1/1933               Sex: male   Location: E221   MedRec: 14705081   Alertness: lethargic   Technical Notes: None   Activation: Sensory Stimulation   Indication: Right arm/leg shaking   Referring dept or MD: Harsh, Griffith   History: 75 year old man with left frontal tumor, presented with aphasia and right arm/leg shaking. He was in focal status epilepticus last week.  Meds: levetiracetam, phenytoin, phenobarbital, pentobarbital (off since 8-29-08), TPM, Ativan tid (off since 8-31-08)    Condition of recording    24 hour video-EEG acquired with a digital Nihon-Kohden EEG machine, 24 channels, with Standard International System 10-20 electrode placements, eye movement leads, and an EKG lead. Machine detection was used for spikes, rhythmical events and possible seizures. These and other continuous segments of the EEG were then scanned by attending electroencephalographers.    Findings   There was diffuse delta slowing throughout the recording with more frequent periods of bilateral synchronous periodic lateralizing epileptiform discharges (PLED's). There were also frequent independent PLEDs, left more then on the right hemisphere, frontally predominate. Intermittent stimulus-induced rhythmic, periodic or ictal discharges (SIRPID's) were recorded, both including more sharply contoured frontal epileptiform discharges and more blunt waveforms in the same distribution, left > right. Through out the recording the background consisted of large amount of low voltage delta activity intermixed with moderate amount of low voltage theta activity. Occasional periods of alpha fragments were present, but a posterior dominant rhythm was not present. The recording  continues to show broad high amplitude epileptiform polymorphic spikes in the left frontal (F3) region occurred at the frequency of 1 every 5-10 seconds. The background was intermittently slower in this region. Normal sleep architecture is not present.    There were multiple episodes of rhythmic run of periodic and pseudoperiodic PLED's at 1-1.5 second often associated with stimulation or noise in the background. No clear evolving pattern was present. These runs were at times bilateral, synchronous broad based PLED's and at times unilateral with left more then right hemisphere involved. Overall, the incidence of epileptiform discharges has increased over the past 24 hours, with more independent PLEDs on the right than the day prior although left frontal PLEDs remain the most prominent.    Impression   This EEG is abnormal due to:  1) Severe diffuse slowing.  2) Intermittent polymorphic left fronto/central slowing.   3) Broad field high amplitude epileptiform discharges maximally frontally (~F3 >>F4), typically present as PLED's independently left >  right, but at times pseudoperiodic or intermittent. Some appeared as SIRPIDs. Overall, the amount of epileptiform discharges has increased over the past 24 hours.  4) No elelctrographic or clinical seizures were captured.     Comments   Overall, the tracing showed severe diffuse slowing; this finding is nonspecific and likely relates in part to his medications. Focal slowing is a nonspecific indicator of underlying focal cerebral dysfunction, and correlates with his known tumor. PLED's indicate probable underlying cortical injury, and a risk for seizures--which are present on this record, however, the patient is not in focal status epilepticus as occurred days ago. SIRPIDs also occur in the context of underlying cortical injury in critically ill patients, and may indicate various pathophysiology-some of which is uncertain.      Stuckert, Erika MD   Epilepsy Fellow; pager#14358.      I personally interpreted this video EEG, and concur with the documentation of my findings and impression.    Kevin Graber, M.D.  Clinical Assistant Professor  Stanford Comprehensive Epilepsy Center          \n",
      "\n",
      "###Stanford Hospital and Clinics  Continuous Video EEG Report    Identifying Information  EEG Number = E08-303  Test Date: 9/4 - 9/5/2008     Age: 27 Y   Name: Brindicy T Alcaraz    DOB: 5/30/1981               Sex: female   Location: F324A  MedRec: 60587474   Sedation: None.  Alertness: awake and asleep   Activation: Sensory Stimulation   Indication: Rule seizure activity.  Referring dept or MD: Dunn, Jefferey MD   History: 27-year-old woman with localization related epilepsy with medically refractory partial seizures due to a congenital brain dysplasia.   Meds: topiramate 200mg BID; lamotrigine 25mg AM/ 300mg PM; oxcarbazepine 300mg AM/ 600mg PM, lorazepam prn.    CONDITIONS OF RECORDING: The recording was performed with a digital EEG machine, 20 channels, with Standard International 10-20 System electrode placements, eye movement leads, and an EKG lead.    Findings   Baseline EEG: The overall voltage was normal. The tracing was continuous. When maximally alert but relaxed, a symmetric, well-regulated posterior basic rhythm of medium voltage, at 11 to 12/second, was present over the parietal-occipital regions. Reactivity to eye opening (blocking) was appropriate. More anteriorly the background consisted of alpha and low voltage beta frequencies.  Frequently, the record showed a large amount of medium voltage diffuse theta activity associated with the patient being drowsy. Additional intermittent, polymorphic bitemporal theta slowing was also at times present. Sleep features included fronto-central maximal slowing, positive occipital sharp transients of sleep (POSTS), vertex waves, bilateral 12-14 per second sleep spindles, and K complexes.    Prominent stimulation artifact was present intermittently throughout the record, as the patients implanted deep brain stimulators cycled on and off.      Interictal Activity  None.    Neurobehavioral Events    1. Two events of prolonged 20-30 minute unresponsiveness to voice, light touch or sternal rub. Bilateral eyes open, head turned to the right or left, occasional left arm movements (myoclonic pattern). During these events the patient is distractable and her movements are irregular. No epileptiform discharges associated with these events, and the EEG revealed either normal wakefulness, or mild drowsiness.    Impression  This record is abnormal due to some bitemporal slowing, and notable for frequent drowsiness. No epileptiform abnormalities were present; no electroencephalographic seizures were captured.  Non-epileptic unresponsiveness was captured.  Stimulation artifact indicates that her implanted thalamic stimulators are operational.    Comments   This patient has previously documented abnormalities that support a diagnosis of epilepsy; absence of epileptiform discharges on a routine EEG does not preclude a clinical diagnosis of epilepsy or seizures. Epileptic seizures and non epileptic events both occur in some patients.  Further EEG recording is needed to capture recent events with shaking to better determine their nature..    Stuckert, Erika MD  Epilepsy Fellow; pager#14358.      I personally interpreted this video EEG, and concur with the documentation of my findings and impression.    Kevin Graber, M.D.  Clinical Assistant Professor  Stanford Comprehensive Epilepsy Center      \n",
      "\n",
      "###Stanford Hospital and Clinics  Continuous Video EEG Report  (Day 3 of recording)    Identifying Information   EEG Number = E08-299  Test Date: 9/4/08- 9/5/2008            Age: 52 Y   Name: Patricia Sheals-Bernard    DOB: 10/27/1955               Sex: female   Location: F330A  MedRec: 13151352   Sedation: None.  Alertness: awake and asleep   Activation: Sensory Stimulation   Indication:Rule out epileptiform activity.  Referring dept or MD: Graber, MD   History: 52-year-old left-handed female with an unusual constellation of symptoms; she had medically refractory, symptomatic localization-related epilepsy, autonomic dysfunction with a history of tachyarrhythmia, and obstructive sleep apnea.    Meds: OFF of Lamictal 100mg po BID.    Condition of recording    24 hour video-EEG acquired with a digital Nihon-Kohden EEG machine, 24 channels, with Standard International System 10-20 electrode placements, eye movement leads, and an EKG lead. Machine detection was used for spikes, rhythmical events and possible seizures. These and other continuous segments of the EEG were then scanned by attending electroencephalographers.    Findings   Baseline EEG: The overall voltage was again normal. The tracing was continuous. A symmetric, well-regulated posterior basic rhythm of medium voltage, at 10 to 11Hz, was present over the parietal-occipital regions. Reactivity to eye opening (blocking) was appropriate. During maximal alertness, the record consisted of alpha frequencies and moderate amount of diffuse low-voltage fast beta activity. Delta activity during wakefulness was absent.   There were intermittent episodes of bilateral polymorphic theta slowing with clear predominance in the left temporal region primarily during drowsiness. At times this slowing was semirhythmic.  The EEG continues to show a normal variant in the form of sharply contoured wicket spikes over left more than right anterior temporal  regions. At times isolated waveforms of the same morphology were present in the left more than right temporal region.   Sleep features included appropriate slowing, positive occipital sharp transients of sleep (POSTS), vertex waves, bilateral 12-14 per second sleep spindles, and K complexes.     Interictal Activity  Again, no waveforms clearly met diagnostic criteria for epileptiform potentials.     Neurobehavioral Events   The patient has intermittent sensations of somewhat disorganized thinking, but did not define discrete episodes.  There are no push button markings, or electroencephalographic seizures.    Impression  This record is abnormal due to intermittent left more than right temporal slowing. No clear epileptiform abnormalities or seizures were captured.   Comments   Determination of wicket spikes in an area of focal slowing can be tenuous; further sampling may be helpful to capture representative paroxysmal symptoms.    Stuckert, Erika MD  Epilepsy Fellow; pager#14358.      I personally interpreted this video EEG, and concur with the documentation of my findings and impression.    Kevin Graber, M.D.  Clinical Assistant Professor  Stanford Comprehensive Epilepsy Center        \n",
      "\n",
      "###Stanford Hospital and Clinics  Continuous Video EEG Report  (Day 3 of recording)    Identifying Information   EEG Number =E08-302  Test Date: 9/4 - 9/5/2008          Age: 35 Y   Name: Darlene Denny    DOB: 10/26/1972               Sex: female   Location:F333  MedRec: 21029608   Sedation: None.  Alertness: awake and asleep   Activation: Sensory Stimulation   Indication: Presurgical evaluation.  Referring dept or MD: Parvizi, Joseph MD.   History: 35-year-old, right-handed woman with seizure-like events starting in January of 2006. It first begins with an aura of \"weird thoughts\" lasting for seconds, followed by LOC. She reports that her mother has described stiffening of her whole body with occasional tongue bite, or urinary incontinence.   Meds: Keppra    Condition of recording    24 hour video-EEG acquired with a digital Nihon-Kohden EEG machine, 24 channels, with Standard International System 10-20 electrode placements, eye movement leads, and an EKG lead. Machine detection was used for spikes, rhythmical events and possible seizures. These and other continuous segments of the EEG were then scanned by attending electroencephalographers.    Findings   Baseline EEG: The overall voltage was normal. The tracing was continuous. A symmetric, well-regulated posterior basic rhythm of medium voltage, at 10 to 11Hz, was present over the parietal-occipital regions. Reactivity to eye opening (blocking) was appropriate. During maximal alertness, the record showed a no significant theta activity (although present during drowsiness), and moderate amount of diffuse low-voltage fast activity. Additional rare and subtle, polymorphic theta slowing was present in the right temporal region. Sleep features included diffuse slowing, positive occipital sharp transients of sleep (POSTS), vertex waves, bilateral 12-14 per second sleep spindles, and K complexes.    Interictal Activity   None. There was a single interictal epileptiform right temporal (T2) spike formation interrupting the background and followed by a slow wave.    Neurobehavioral Events   1. 9/4/08 at 12:07:20-12:17:25 the patient had an epileptic event. The onset was a sudden arousal with eye opening followed by head and body turn to the left in a potentially purposefully manner.  She appeared to reach for the push button, but has no recollection of her symptoms. She later develops transient chewing and lip smacking, and stares and remains unresponsive throughout the remainder of the spell.  She would visually fixate, but did not follow verbal or mimicked commands. Her left arm was passively positioned upward by her physician, where it remained.  Following the event she was sleepy and confused.  No verbal, visual or auditory stimuli were remembered. The EEG showed a right anterior temporal onset (T2/T4) with theta slowing evolving into a higher amplitude broadly formed rhythmic sharps at 5 Hz, that evolved in amplitude and frequency.. Eventually the rhythmic activity spread to the left temporal region and continued bilaterally for several minutes. At the end more frequent epilpetogenic spikes and sharps occurred bilaterally with the maximum over the right temporal region. Overall this event lasted for 10 minutes. A postictal diffuse slowing followed the seizure event.    Impression   This record is abnormal due to:  1. One recorded complex partial epileptic event with right temporal onset. This seizure was prolonged, lasting more than 10 minutes.  2. Rare, subtle right temporal lobe slowing.  3. Single interictal epileptiform transient, right temporal (T2) spike formation.    Comments   In this clinical context (lack of significant provocative factors), this EEG is diagnostic of a localization-related epilepsy syndrome. No nonepileptic symptoms have been captured.      STUCKERT, ERIKA 5:56 PM 9/5/2008    Epilepsy Fellow; pager#14358.      I personally interpreted this video EEG, and concur with the documentation of my findings and impression.    Kevin Graber, M.D.  Clinical Assistant Professor  Stanford Comprehensive Epilepsy Center  \n",
      "\n",
      "###Stanford Hospital and Clinics  EEG Report  (Day 2 of recording)    Identifying Information   EEG Number = S08-301  Test Date: 9/3/08- 9/4/08            Age: 25 Y  Name: Maria Granados    DOB: 3/31/1983               Sex: female   Location: B309  MedRec: 20421681   Sedation: None  Alertness: awake, drowsy and asleep   Activation: Sensory Stimulation   Indication: Rule out epileptiform activity.  Referring dept or MD: Robert, Lober MD.  History: 25 year old woman with POD#13 s/p L craniotomy for resection of cavernous malformations of the left optic nerve and left optic tract. Complication of Left basal ganglia infarct. New onset of right sided weakness and episodes of unresponsiveness.   Meds: Keppra.   CONDITIONS OF RECORDING: 24 hour video-EEG acquired with a digital Nihon-Kohden EEG machine, 24 channels, with Standard International System 10-20 electrode placements, eye movement leads, and an EKG lead. Machine detection was used for spikes, rhythmical events and possible seizures. These and other continuous segments of the EEG were then scanned by attending electroencephalographers. .    Findings   Baseline EEG: The overall voltage was normal. The tracing was continuous. A well-regulated posterior basic rhythm of medium voltage, at 10-11 Hz/second, was present over the parietal-occipital regions. Reactivity to eye opening (blocking) was appropriate. During maximal alertness, the record consisted of polymorphic alpha and moderate amount of diffuse low-voltage fast activity. Theta frequencies were present during drowsiness. Intermittent, polymorphic, focal medium amplitude slow theta activity occurred over left more than right anterior temporal regions, mostly in form of less well formed faster activity during awake states.   Sleep features included appropriate slowing, positive occipital sharp transients of sleep (POSTS), vertex waves and bilateral 12-14 Hz sleep spindles.     Impression    This record is abnormal, with evidence of intermittent left more than right temporal focal slowing. No epileptiform discharges were present. No electrographic or clinical seizures were captured.    Comments   Absence of epileptiform discharges on a routine EEG does not preclude a clinical diagnosis of epilepsy or seizures. Focal slowing indicates cerebral dysfunction from a wide variety of potential etiologies in the region affected; it is a non-specific indicator of a structural or functional abnormality.    Stuckert, Erika MD  Epilepsy Fellow; pager#14358.      I personally interpreted this video EEG and agree with the documentation of my findings and impression.   Kevin Graber, M.D.   Clinical Assistant Professor   Stanford Comprehensive Epilepsy Center       \n",
      "\n",
      "###Stanford Hospital and Clinics  Continuous Video EEG Report    Identifying Information     EEG Number = E08-288                               Test Date: 8/30/08-8/31/2008            Age: 75 Y   Name: Oleg Macheret    DOB: 4/1/1933               Sex: male   Location: E221   MedRec: 14705081   Alertness: lethargic   Technical Notes: None   Activation: Sensory Stimulation   Indication: Right arm/leg shaking   Referring dept or MD: Harsh, Griffith   History: 75 year old man with left frontal tumor, presented with aphasia and right arm/leg shaking.  Meds: levetiracetam, phenytoin, phenobarbital, pentobarbital (OFF since 8-29-08), topiramate.    Condition of recording    24 hour video-EEG acquired with a digital Nihon-Kohden EEG machine, 24 channels, with Standard International System 10-20 electrode placements, eye movement leads, and an EKG lead. Machine detection was used for spikes, rhythmical events and possible seizures. These and other continuous segments of the EEG were then scanned by attending electroencephalographers.    Findings   Throughout the entire tracing, there is a burst suppression pattern with common interburst intervals of 5-7 sec. The bursts intervals last 3-6 sec; they are occasionally asynchronous and consisted of low amplitude polymorphic theta and delta activity admixed with faster frequencies and broad field high amplitude spikes in the left frontal region.  Epileptiform discharges are occasionally bisynchronous with lower voltage spikes in the right frontal region.  Some bursts appear as left sided PLEDS predominantly frontally with maximal negativity at F3 in a frequency of 2-3 Hz.  There is no well organized evolution of PLEDs to clearly suggest ictal activity.    Impression   This EEG is abnormal due to:  1) marked slowing with burst suppression pattern; some bursts are asynchronous.  Patterns of suppression and bursts are more equal in duration today (~50-60% suppression)   2) left frontal epileptiform discharges and PLEDs seen within the bursts.    3) No clesar electrographic or clinical seizure activity is present.     Comments   Overall, the tracing significantly less suppressed than previous recording.  The previous long stretches of left sided PLEDs are not present.      Firas Bannout, MD  Epilepsy Fellow, pager # 22613  08-31-08 11:17 am      I personally interpreted this video EEG and concur with the documentation of my findings and impression.    Kevin Graber, M.D.  Clinical Assistant Professor  Stanford Comprehensive Epilepsy Center    \n",
      "\n",
      "###Stanford Hospital and Clinics  Continuous Video EEG Report    Identifying Information   EEG Number = E08-290                                 Test Date: 8/29/08 - 8/30/2008          Age: 33 Y   Name: Brian Tilley    DOB: 9/22/1974               Sex: male   Location: F323   MedRec: 14324842   Sedation: None   Alertness: awake, asleep   Technical Notes: None.   Activation: Sensory Stimulation   Indication: localization   Referring dept or MD: Graber, Kevin   History: 33 year old man with partial epilepsy, here for localization of seizures.  Meds: CBZ, LTG    Condition of recording    24 hour video-EEG acquired with a digital Nihon-Kohden EEG machine, 24 channels, with Standard International System 10-20 electrode placements, eye movement leads, and an EKG lead. Machine detection was used for spikes, rhythmical events and possible seizures. These and other continuous segments of the EEG were then scanned by attending electroencephalographers.    Findings   The overall voltage was normal. The tracing was variable, symmetric and continuous. The posterior basic rhythm of medium voltage, at 8-9/ second, was present over the parietal-occipital regions bilaterally. Reactivity to eye opening and closure was appropriate.  During maximal alertness, the record showed alpha, a moderate amount of diffuse low-voltage fast (> 13/sec) activity a large amount of medium voltage 4-7/sec theta activity. Delta (<3/sec) activity during wakefulness was present in moderate amount primarily bifrontally. During drowsiness and sleep there was additional diffuse, but bifronto-central maximal slowing. Sleep features included spindles and K-complexes.      The single channel EKG showed regular heart rhythm on all manually reviewed tracing.    Interictal events  There are frequent bisynchronous, frontally predominant, spikes/polyspikes and slow discharges, often better formed with occasional higher amplitude  on the right side, with maximal negativity at F8, F4; other are more symmetric. During sleep there are also 1-2 seconds runs of 10-15 Hz low amplitude spikes bifrontally. There is another form of broad low amplitude spikes appeared in bursts over the right hemisphere, with occasional field to the left side as well.  The discharge duration of these complexes is an average of 1-2 seconds.  Many waveforms are higher amplitude on the right, however, a few are more symmetric right to left, but all have frontal predominance of waveforms.  Many have a lead-in, at times > 1 sec,  in the form of fast frequencies arising from the right frontal region, most frequently at Fp2 and F4, suggestive of secondary bisynchrony.     Some epileptiform bursts are characterized by diffuse high amplitude 3 Hz delta activity spanning 1-2 seconds with poorly localized onset and no preceding sharp wave.  There may be faster frequencies admixed with the delta activity.        Neurobehavioral events:    8-29-08 10:40:58--10:42:22  Partial onset seizure with secondary generalization.     Prior to the onset, the patient is a sleep.  At 10:40:36 there is a bifrontal spike and slow wave complex, better formed on the right.  The background is equivocally more rhythmic, with prominent 3-3.5 Hz delta, more frontally predominant.  At 10:40:58 there is diffuse electrodecroment, followed by mixed frequency small spikes, some of which occur ~ 5Hz in the frontal region with phase reversal at Fp2. This is followed by 2-3 Hz higher amplitude bifrontal spikes and slow activity, admixed with faster frequencies, that evolves with mixed fast and slow bilateral ictal frequencies followed by prominent muscle artifact. The patient initially stares, and has small movements of his left hand for a few seconds.  He then develops tonic movements, and has left sided head version at 10:41:25. He has left arm extension and right arm flexion and  both legs extension of both legs, followed by generalized clonic movements and unresponsiveness.  This is followed by diffuse postictal electrodecrement and slowing at 10:42:22, and the patient remains briefly unresponsive. This is a right frontal onset seizure with secondary generalization.    8-29-08 19:27:10: brief electrographic and clinical seizure.     Out of sleep, his EEG started to developed diffuse but frontally predominant faster frequencies (10-12 Hz) more on the right side, followed 3 seconds of bifrontal low amplitude spikes at ~ 15 Hz which evolved and admixed with polymorphic 3 Hz activity. Clinically patient was asleep, when his left arm suddenly postured slightly and then he woke up. His EEG showed 20 seconds of post-ictal diffuse electrodecremntal response. Patient went back to sleep. This is a brief partial onset seizure of frontal origin, most likely right.      Impression   This EEG is abnormal during wakefulness and sleep due to 1) mild bifrontal slowing, 2) two frontal onset seizures one of which was secondarily generalized, with EEG findings (and one with clinical signs) indicating right frontal onset, 3) frequent interictal bisynchronous epileptiform discharges with right frontal predominance as detailed above.     Comments   Findings are most consistent with localization related epilepsy, with secondary bisynchrony. Thalamocortical network dysfunction cannot be entirely excluded as a contributing factor.      Firas Bannout, MD  Epilepsy Fellow, pager # 22613      I personally interpreted this video EEG and concur with the documentation of my findings and impression.    Kevin Graber, M.D.  Clinical Assistant Professor  Stanford Comprehensive Epilepsy Center        \n",
      "\n",
      "###Stanford Hospital and Clinics  Continuous Video-EEG Report    Identifying Information   EEG Number = E08-296  Test Date:8/29/2008 - 8/30/2008            Age: 60 Y   Name: Maata O Powell    DOB: 10/23/1947               Sex: female   Location: D1   MedRec: 14467989   Sedation: None   Alertness: stuporous   Technical Notes: None   Activation: Sensory Stimulation   Indication: rule out subclinical seizures.   Referring dept or MD: Dr.Thomas   History: 60 year old woman with liver and renal failure, severely encephalopathic with episode of left gaze deviation. Routine EEG showed right frontocentral epileptiform discharges.   Meds: Keppra 750 mg bid.   Last Episode: 8-29-08    CONDITIONS OF RECORDING: The recording was performed with a digital EEG machine with video, 24 channels, with Standard International 10-20 System electrode placements, eye movement leads, and an EKG lead.    Findings   This recording is from 17:00-09:00 am starting on 08-29-2008.    At the beginning, the overall voltage is low with brief periods of diffuse voltage attenuation. The tracing was variable, with minor reactivity with no  posterior basic rhythm. The background frequencies consisted mainly of alpha, moderate to large amounts of medium voltage 4-<8/sec theta activity, and small amount of diffuse low-voltage fast (> 13/sec) activity. Delta (<4/sec) activity was present in moderate amounts. Sleep was not captured. Continuous focal slowing was present over the right fronto-central region consisted of additional polymorphic delta activity at 2 Hz. There were recurrent right parasagittal sharp waves with maximal negativity at C4, at times at T6. They appeared occasionally and due to stimulation as right hemisphere periodic lateralized epileptiform discharges (PLEDS).      Due to self (restless) and tactile stimulation there is a pattern of rhythmic 4-5 Hz activity over the right hemisphere maximally paracentrally  admixed with the underlying right sided PLEDs. On one occasion and due to stimulation (20:38:52-20:39:27) there was similar pattern with evolving to 10-12 Hz rhythmic activity over the right side admixed with ictal spikes, representing electrographic seizure. The EEG returned to its baseline.     At 20:44, the EEG showed diffuse voltage attenuation, progressed into complete suppression within less than one minute when patient had a cardiac arrest. The brain activity started to appear intermittently at 20:51 and the EEG was in partial burst suppression until midnight when it started to contain long stretches of near continuous low voltage diffusely slow background. A second cardiac arrest occurred this morning at 7:00 am when the EEG stayed suppressed from 08:47.     Ictal Activity:   (02:47-02:51); (03:50:58-03:56:05); (05:00-05:03); (07:58-08:01); (08:17-08:19); (08:26-08:29) (08:36-08:38);     These are clinical and electrographic seizures occurred after the cardiac arrest characterized by right sided onset as the right PLEDs progressed into faster ictal spikes at ~8-10 Hz, propagated to the entire electrodes within 20 seconds and followed by a pattern of G-PEDS (generalized periodic epileptiform discharges in the form of spikes-polyspikes and slow waves complexes. Clinically this was correlated with generalized facial (eyelids) and body fine twitching.                     By 9 am on 8/30 the EEG was very low voltage, severely slow with little if any cerebral activity, and the single channel EKG revealed bradycardia in the 30s.  The QRS complex progressively broadens and the patient becomes asystolic at 9:46 with cessation of cerebral activity.      Impression  This EEG is markedly abnormal due to the following chronologically listed findings:  1) Severe diffuse slowing, right sided focal slowing, and interictal right hemisphere periodic lateralized epileptiform discharges (PLEDS) maximally paracentrally.      2) Stimulus induced right sided periodic and one electrographic ictal changes followed by returning of the EEG background activity to its baseline lasting for a few minutes before # 3 occurred.   3) Two cardiac arrest events (~20:44; and 7:00 am from 08-30-2008) followed by partial burst suppression pattern.   4) Total of seven clinical and electrographic seizures lasting for several minutes (after the first cardiac arrest) from right paracentral onset and secondary generalization.    The patient expired from asystole at 9:46 with possible brain death in the minutes prior.    Firas Bannout 12:02 PM 8/30/2008   Epilepsy Fellow, pager # 22613      I personally interpreted this video EEG and concur with the documentation of my findings and impression.    Kevin Graber, M.D.  Clinical Assistant Professor  Stanford Comprehensive Epilepsy Center      \n",
      "\n",
      "###Stanford Hospital and Clinics  Continuous Video EEG Report  (Day 13 of recording)    Identifying Information   EEG Number = E08-288                               Test Date: 9/5/08-9/6/2008            Age: 75 Y   Name: Oleg Macheret    DOB: 4/1/1933               Sex: male   Location: E221   MedRec: 14705081   Alertness: lethargic   Technical Notes: None   Activation: Sensory Stimulation   Indication: Right arm/leg shaking   Referring dept or MD: Harsh, Griffith   History: 75 year old man with left frontal tumor, presented with aphasia and right arm/leg shaking. He was in focal status epilepticus last week.  Meds: levetiracetam, phenytoin, phenobarbital, pentobarbital (off since 8-29-08), TPM, Ativan tid (off since 8-31-08)    Condition of recording    24 hour video-EEG acquired with a digital Nihon-Kohden EEG machine, 24 channels, with Standard International System 10-20 electrode placements, eye movement leads, and an EKG lead. Machine detection was used for spikes, rhythmical events and possible seizures. These and other continuous segments of the EEG were then scanned by attending electroencephalographers.    Findings   There was diffuse delta slowing throughout the recording with still frequent epochs of periodic lateralizing epileptiform discharges (PLED's) at 1-1.5 per second. They occurred more frequently in the left fronto temporal region and less frequent on the right. At times they also occurred bilaterally synchronous. Left and some right runs of PLEDs occurred several times with stimulation (consistent with SIRPIDs, but without an evolving ictal pattern.) Through out the recording the background consisted of large amount of low voltage delta activity admixed with moderate amount of low voltage theta activity, occasional alpha fragments, but a posterior dominant rhythm was not present. There were times without PLEDs, and less frequent broad high amplitude epileptiform  polymorphic spikes in the left frontal (F3) region. The background was intermittently slower in this region. Normal sleep architecture is not present.      Impression   This EEG is abnormal due to:  1) Severe diffuse slowing.  2) Intermittent polymorphic left fronto/central slowing.   3) Broad field high amplitude epileptiform discharges maximally frontally (~F3 >>F4), typically present as PLED's independently left >  right, but at times pseudoperiodic or intermittent. Overall, the amount of epileptiform discharges has decreased over the past 24 hours.  4) No elelctrographic or clinical seizures were captured (i.e., no evolving patterns).     Comments   Overall, the tracing showed severe diffuse slowing; this finding is nonspecific and likely relates in part to his medications. Focal slowing is a nonspecific indicator of underlying focal cerebral dysfunction, and correlates with his known tumor. PLED's indicate probable underlying cortical injury, and a risk for seizures--which have been present on his prior record, however, the patient is not in focal status epilepticus as occurred days ago. Although markedly abnormal, there is a trend towards improvement in comparison to yesterday.    STUCKERT, ERIKA 12:33 PM 9/6/2008   Epilepsy Fellow; pager#14358.    I personally interpreted this video EEG and concur with the documentation of my findings and impression.    Kevin Graber, M.D.  Clinical Assistant Professor  Stanford Comprehensive Epilepsy Center      \n",
      "\n",
      "###Stanford Hospital and Clinics  Continuous Video EEG Report  (Day 14 of recording)    Identifying Information   EEG Number = E08-288                               Test Date: 9/6/08-9/7/2008            Age: 75 Y   Name: Oleg Macheret    DOB: 4/1/1933               Sex: male   Location: E221   MedRec: 14705081   Alertness: lethargic   Technical Notes: None   Activation: Sensory Stimulation   Indication: Right arm/leg shaking   Referring dept or MD: Harsh, Griffith   History: 75 year old man with left frontal tumor, presented with aphasia and right arm/leg shaking. He was in focal status epilepticus last week.  Meds: levetiracetam, phenytoin, phenobarbital, Lyrica, pentobarbital (off since 8-29-08), TPM, Ativan tid (off since 8-31-08)    Condition of recording    24 hour video-EEG acquired with a digital Nihon-Kohden EEG machine, 24 channels, with Standard International System 10-20 electrode placements, eye movement leads, and an EKG lead. Machine detection was used for spikes, rhythmical events and possible seizures. These and other continuous segments of the EEG were then scanned by attending electroencephalographers.    Findings   There was diffuse delta slowing throughout the recording with still frequent periods of periodic lateralizing epileptiform discharges (PLED's) at 1-1.5 per second. They occurred independent more frequent in the left fronto temporal region and with occasions on the right, but fewer than days previous. At times they continued to occur bilaterally synchronous. There were times without PLEDs, when the recording showed only few high amplitude epileptiform polymorphic spike complexes with the maximum in the left frontal (F3) region. The background was intermittently slower in this region. Normal sleep architecture is not present.  No stimulus-induced rhythmic, periodic or ictal discharges (SIRPID's) were recorded within the past 24 hours.   Through out the recording the background consisted of large amount of low voltage delta activity intermixed with moderate amount of low voltage theta activity with some alpha and low voltage beta, but a posterior dominant rhythm was not present. The record showed some variability.    Impression   This EEG is abnormal due to:  1) Severe diffuse slowing   2) less frequent left > right PLED's, and times with less regular discharges with high amplitude epileptiform polymorphic spike complexes in the left frontal (F3) region   3) left frontal temporal slowing    No elelctrographic or clinical seizures were captured.     Comments   Overall, the tracing showed moderate to severe diffuse slowing; this finding is nonspecific and likely relates in part to his medications. Focal slowing as well as focal PLED's are nonspecific indicators of underlying focal cerebral dysfunction, and correlates with his known tumor. PLED's indicate a high risk for seizures, and indicate probable underlying cortical injury--consistent with his history.  Overall, the amount of epileptiform discharges has decreased over the past 24 hours; although markedly abnormal, there is a continuing trend of improvement over the past 2 days.      STUCKERT, ERIKA 8:35 AM 9/7/2008     I personally interpreted this video EEG and concur with the documentation of my findings and impression.    Kevin Graber, M.D.  Clinical Assistant Professor  Stanford Comprehensive Epilepsy Center  Epilepsy Fellow; pager#14358.      \n",
      "\n",
      "###Stanford Hospital and Clinics  Continuous Video EEG Report  (Day 2 of recording)    Identifying Information  EEG Number = E08-303  Test Date: 9/5 - 9/6/2008     Age: 27 Y   Name: Brindicy T Alcaraz    DOB: 5/30/1981               Sex: female   Location: F324A  MedRec: 60587474   Sedation: None.  Alertness: awake and asleep   Activation: Sensory Stimulation   Indication: Rule seizure activity.  Referring dept or MD: Dunn, Jefferey MD   History: 27-year-old woman with localization related epilepsy with medically refractory partial seizures due to a congenital brain dysplasia.   Meds: topiramate 150mg BID; lamotrigine 25mg AM/ 300mg PM; oxcarbazepine 300mg AM/ 600mg PM, lorazepam prn.    CONDITIONS OF RECORDING: 24 hour video-EEG acquired with a digital Nihon-Kohden EEG machine, 20 channels, with Standard International System 10-20 electrode placements, eye movement leads, and an EKG lead. Machine detection was used for spikes, rhythmical events and possible seizures. These and other continuous segments of the EEG were then scanned by attending electroencephalographers.    Findings   Baseline EEG: The overall voltage was normal. The tracing was continuous. When maximally alert but relaxed, a symmetric, well-regulated posterior basic rhythm of medium voltage, at 11 to 12/second, was present over the parietal-occipital regions. Reactivity to eye opening (blocking) was appropriate. More anteriorly the background consisted of alpha and low voltage beta frequencies.  Frequently, the record showed a large amount of medium voltage diffuse theta activity associated with the patient being drowsy. Additional intermittent, polymorphic bitemporal theta slowing was also at times present. Sleep features included fronto-central maximal slowing, positive occipital sharp transients of sleep (POSTS), vertex waves, bilateral 12-14 per second sleep spindles, and K complexes.     Prominent stimulation artifact was present intermittently throughout the record, as the patients implanted deep brain stimulators cycled on and off.    Interictal Activity  None.    Neurobehavioral Events   None (The NEE from the 0800AM on 09/5/08 was discribed in the last EEG report).    Impression  This 24-hour video-EEG recording is borderline normal, without evidence of focal abnormality or epileptiform activity; there is frequent slowing when the patient is awake, consistent with drowsiness given other times of normal background. No epileptiform abnormalities were present; no electroencephalographic seizures were captured.  Non-epileptic unresponsiveness was captured.  Stimulation artifact indicates that her implanted thalamic stimulators are operational.    Comments   This patient has previously documented abnormalities that support a diagnosis of epilepsy; absence of epileptiform discharges on a routine EEG does not preclude a clinical diagnosis of epilepsy or seizures. Epileptic seizures and non epileptic events both occur in some patients.  Further EEG recording is needed to capture recent events with shaking to better determine their nature..    STUCKERT, ERIKA 2:48 PM 9/6/2008   Epilepsy Fellow; pager#14358.    I personally interpreted this video EEG and concur with the documentation of my findings and impression.    Kevin Graber, M.D.  Clinical Assistant Professor  Stanford Comprehensive Epilepsy Center  \n",
      "\n",
      "###Stanford Hospital and Clinics  Continuous Video EEG Report  (Day 3 of recording)    Identifying Information  EEG Number = E08-303  Test Date: 9/6/2008- 9/7/2008       Age: 27 Y   Name: Brindicy T Alcaraz    DOB: 5/30/1981               Sex: female   Location: F324A  MedRec: 60587474   Sedation: None.  Alertness: awake and asleep   Activation: Sensory Stimulation   Indication: Rule seizure activity.  Referring dept or MD: Dunn, Jefferey MD   History: 27-year-old woman with localization related epilepsy with medically refractory partial seizures due to a congenital brain dysplasia.   Meds: topiramate 150mg BID; lamotrigine 25mg AM/ 300mg PM; oxcarbazepine 300mg AM/ 600mg PM, lorazepam prn.    CONDITIONS OF RECORDING: 24 hour video-EEG acquired with a digital Nihon-Kohden EEG machine, 20 channels, with Standard International System 10-20 electrode placements, eye movement leads, and an EKG lead. Machine detection was used for spikes, rhythmical events and possible seizures. These and other continuous segments of the EEG were then scanned by attending electroencephalographers.    Findings   Baseline EEG: The overall voltage was normal. The tracing was continuous. When maximally alert but relaxed, a symmetric, well-regulated posterior basic rhythm of medium voltage, at 11 to 12Hz was present over the parietal-occipital regions. Reactivity to eye opening (blocking) was appropriate. More anteriorly the background consisted of alpha and low voltage beta frequencies. Frequently, the record showed a large amount of medium voltage diffuse theta activity associated with the patient being drowsy. Sleep features included fronto-central maximal slowing, positive occipital sharp transients of sleep (POSTS), vertex waves, bilateral 12-14 per second sleep spindles, and K complexes.    Prominent stimulation artifact was present intermittently throughout the record, as the patients implanted deep brain stimulators cycled on and off.     Focal medium amplitude slow activity occurred over right temporal regions intermittently.  A few complex and broad field small voltake epileptiform spike and slow wave complexes were present with the maximum of negativity in the right lateral chain.    Impression  This 24-hour video-EEG recording is abnormal, with right temporal slowing and isolated focal epileptiform activity. No electroencephalographic or clinical seizures were captured. Stimulation artifact indicates that her implanted thalamic stimulators are operational.    Comments   Focal slowing indicates cerebral dysfunction from a wide variety of potential etiologies in the region affected like the patients known bilateral schizencephaly. It is a non-specific indicator of a structural or functional abnormality. The isolated focal epileptiform potential can be seen in patients with partial-onset seizures, which have been described in the patient in the past. Although the patient has periods of a normal background, there is frequent mild slowing when the patient is awake, which may indicate a mild encephalopathy, but can also be within normal limits if due to drowsiness. Further EEG recording is needed to capture recent events with shaking to better determine their nature.     STUCKERT, ERIKA 12:25 PM 9/7/2008   Epilepsy Fellow; pager#14358.    I personally interpreted this video EEG and concur with the documentation of my findings and impression.    Kevin Graber, M.D.  Clinical Assistant Professor  Stanford Comprehensive Epilepsy Center    \n",
      "\n",
      "###Stanford Hospital and Clinics  Continuous Video EEG Report  (Day 4 of recording)    Identifying Information   EEG Number = E08-299  Test Date: 9/5/08- 9/6/2008            Age: 52 Y   Name: Patricia Sheals-Bernard    DOB: 10/27/1955               Sex: female   Location: F330A  MedRec: 13151352   Sedation: None.  Alertness: awake and asleep   Activation: Sensory Stimulation   Indication:Rule out epileptiform activity.  Referring dept or MD: Graber, MD   History: 52-year-old left-handed female with an unusual constellation of symptoms; she has history medically refractory, symptomatic localization-related epilepsy, autonomic dysfunction with a history of tachyarrhythmia, and obstructive sleep apnea.    Meds: OFF of Lamictal 100mg po BID.    Condition of recording    24 hour video-EEG acquired with a digital Nihon-Kohden EEG machine, 24 channels, with Standard International System 10-20 electrode placements, eye movement leads, and an EKG lead. Machine detection was used for spikes, rhythmical events and possible seizures. These and other continuous segments of the EEG were then scanned by attending electroencephalographers.    Findings   Baseline EEG: The overall voltage was again normal. The tracing was continuous. A symmetric, well-regulated posterior basic rhythm of medium voltage, at 10 to 11Hz, was present over the parietal-occipital regions. Reactivity to eye opening (blocking) was appropriate. During maximal alertness, the record consisted of alpha frequencies and moderate amount of diffuse low-voltage fast beta activity. Delta activity during wakefulness was absent.   There were intermittent episodes of bilateral polymorphic theta slowing with clear predominance in the left temporal region primarily during drowsiness. At times this slowing was semirhythmic and waxing and waning in character. These  mostly occur during drowsiness and sleep.  The EEG continues to show a normal variant in the form of sharply  contoured wicket spikes over left more than right anterior temporal regions. At times isolated waveforms of the same morphology were present in the left more than right temporal region.   Sleep features included appropriate slowing, positive occipital sharp transients of sleep (POSTS), vertex waves, bilateral 12-14 per second sleep spindles, and K complexes.     Interictal Activity  Again, no waveforms clearly met diagnostic criteria for epileptiform potentials.     Neurobehavioral Events   The patient has intermittent sensations of somewhat disorganized thinking, but did not define discrete episodes and no electrographic correlates were present. There are no push button markings, or electroencephalographic seizures.     Impression  This record is abnormal due to intermittent left more than right temporal slowing. No clear epileptiform abnormalities or seizures were captured.   Comments   Determination of wicket spikes in an area of focal slowing can be tenuous; further sampling may be helpful to capture representative paroxysmal symptoms.    STUCKERT, ERIKA 2:24 PM 9/6/2008   Epilepsy Fellow; pager#14358.      I personally interpreted this video EEG and concur with the documentation of my findings and impression.    Kevin Graber, M.D.  Clinical Assistant Professor  Stanford Comprehensive Epilepsy Center        \n",
      "\n",
      "###Stanford Hospital and Clinics  Video EEG Report  (Day 3 of recording)    Identifying Information   EEG Number = E08-300  Test Date: 9/4- 9/5/2008            Age: 49 Y   Name: Aurora Sanchez    DOB: 3/19/1959               Sex: female   Location: F334A  MedRec: 14189518   Sedation: None.  Alertness: awake and asleep   Activation: Sensory Stimulation   Indication: Rule out epileptiform activity.  Referring dept or MD: Fisher, Robert MD.   History: 49-year-old woman with documented nonepileptic events, now with new semiology.  Meds: no antiseizure medication.    Condition of the Recording    24 hour video-EEG acquired with a digital Nihon-Kohden EEG machine, 24 channels, with Standard International System 10-20 electrode placements, eye movement leads, and an EKG lead. Machine detection was used for spikes, rhythmical events and possible seizures. These and other continuous segments of the EEG were then scanned by attending electroencephalographers.    Findings   Baseline EEG: The overall voltage was normal. The tracing was continuous. A symmetric, well-regulated posterior basic rhythm of medium voltage, at 12 to 13 Hz, was present over the parietal-occipital regions. Reactivity to eye opening (blocking) was appropriate. During maximal alertness, the record was an admixture of alpha frequencies and diffuse low-voltage fast beta activity. Theta and delta activity during wakefulness was absent.  Sleep features included appropriate slowing, positive occipital sharp transients of sleep (POSTS), vertex waves, bilateral 12-14 Hz sleep spindles, and K complexes.    Neurobehavioral Events   1. 09/05/08 at 09:22-09:26 am a push button event occurred. The push button event was initiated by the nurse. The patient had a provoked non epileptic event under hypnosis. The semiology was as follows:  eyes closure, bilateral arm extension and tonic posturing with bilateral hands  forming a fist. Minor irregular clonic movements. Heavy deep breathing continued through out the event, with the face turning blue and the patient gasping for air at the end of the spell. She felt nausea and had to vomit. This event was provoked in presence of her husband. The patient was not aware of any abnormalities. She returned immediately back to her baseline, no postictal phase noticed. The EEG showed an normal wakeful rhythm with no epileptiform discharges or pathological slowing in the minutes before, during or following this event.    Impression  This record is normal, without evidence of focal abnormality or epileptiform activity.  Overall during this stay 3 non epileptic events were captured.    Comments   Absence of epileptiform discharges on a EEG does not preclude a clinical diagnosis of epilepsy or seizures, however, there is nothing on this record in support of a diagnosis of an epilepsy syndrome. Events captured were nonepileptic.      STUCKERT, ERIKA 6:55 PM 9/6/2008   Epilepsy Fellow; pager#14358.      I personally interpreted this video EEG and concur with the documentation of my findings and impression.    Kevin Graber, M.D.  Clinical Assistant Professor  Stanford Comprehensive Epilepsy Center        \n",
      "\n",
      "###Stanford Hospital and Clinics  Continuous Video EEG Report  (Day 5 of recording)    Identifying Information   EEG Number = E08-299  Test Date: 9/6/08- 9/7/2008            Age: 52 Y   Name: Patricia Sheals-Bernard    DOB: 10/27/1955               Sex: female   Location: F330A  MedRec: 13151352   Sedation: None.  Alertness: awake and asleep   Activation: Sensory Stimulation   Indication:Rule out epileptiform activity.  Referring dept or MD: Graber, MD   History: 52-year-old left-handed female with an unusual constellation of symptoms; she had medically refractory, symptomatic localization-related epilepsy, autonomic dysfunction with a history of tachyarrhythmia, and obstructive sleep apnea.    Meds: OFF of Lamictal 100mg po BID.    Condition of recording    24 hour video-EEG acquired with a digital Nihon-Kohden EEG machine, 24 channels, with Standard International System 10-20 electrode placements, eye movement leads, and an EKG lead. Machine detection was used for spikes, rhythmical events and possible seizures. These and other continuous segments of the EEG were then scanned by attending electroencephalographers.    Findings   Baseline EEG: The overall voltage was again normal. The tracing was continuous. A symmetric, well-regulated posterior basic rhythm of medium voltage, at 10 to 11Hz, was present over the parietal-occipital regions. Reactivity to eye opening (blocking) was appropriate. During maximal alertness, the record consisted of alpha frequencies and moderate amount of diffuse low-voltage fast beta activity. Delta activity during wakefulness was absent.   There were intermittent episodes of bilateral polymorphic theta slowing with predominance in the left temporal region primarily during drowsiness. At times this slowing was semirhythmic and waxing and waning in character, with slowing lasting for several to many seconds. These mostly occur  during drowsiness and sleep. At times slowing can last up to 1-2 minutes.   Multiple episodes of arousal during the nighttime have been captured showing a sudden onset of stage changes from delta sleep to a arousal with theta admixed with alpha frequencies. During these episodes the patient arouses, turns to either side and moans at times, then falls asleep again. She reports to feel dizziness and nausea during these arousals (and also at other times).   The EEG continues to show a normal variant in the form of sharply contoured wicket spikes over left more than right anterior temporal regions. At times isolated waveforms of the same morphology were present in the left more than right temporal region.   Sleep features included appropriate slowing, positive occipital sharp transients of sleep (POSTS), vertex waves, bilateral 12-14 per second sleep spindles, and K complexes.     Interictal Activity  Again, no waveforms clearly met diagnostic criteria for epileptiform potentials.     Neurobehavioral Events   The patient has intermittent sensations of somewhat disorganized thinking, dizziness, nausea and word forming difficulties, but not stereotyped and occurring throughout the day; some symptoms are continuous. There are no push button markings, or electroencephalographic seizures.     Impression  This record is abnormal due to intermittent left more than right temporal slowing. No clear epileptiform abnormalities or seizures were captured.   Comments   Focal slowing indicates cerebral dysfunction from a wide variety of potential etiologies in the region affected; it is a non-specific indicator of a structural or functional abnormality.    STUCKERT, ERIKA 8:30 AM 9/7/2008   Epilepsy Fellow; pager#14358.    I personally interpreted this video EEG and concur with the documentation of my findings and impression.    Kevin Graber, M.D.  Clinical Assistant Professor  Stanford Comprehensive Epilepsy Center      \n",
      "\n",
      "###Stanford Hospital and Clinics  Continuous Video EEG Report  (Day 4 of recording)    Identifying Information   EEG Number =E08-302  Test Date: 9/5 - 9/6/2008          Age: 35 Y   Name: Darlene Denny    DOB: 10/26/1972               Sex: female   Location:F333  MedRec: 21029608   Sedation: None.  Alertness: awake and asleep   Activation: Sensory Stimulation   Indication: Presurgical evaluation.  Referring dept or MD: Parvizi, Joseph MD.   History: 35-year-old, right-handed woman with seizure-like events starting in January of 2006. It first begins with an aura of \"weird thoughts\" lasting for seconds, followed by LOC. She reports that her mother has described stiffening of her whole body with occasional tongue bite, or urinary incontinence.   Meds: Keppra    Condition of recording    24 hour video-EEG acquired with a digital Nihon-Kohden EEG machine, 24 channels, with Standard International System 10-20 electrode placements, eye movement leads, and an EKG lead. Machine detection was used for spikes, rhythmical events and possible seizures. These and other continuous segments of the EEG were then scanned by attending electroencephalographers.    Findings   Baseline EEG: The overall voltage was normal. The tracing was continuous. A symmetric, well-regulated posterior basic rhythm of medium voltage, at 10 to 11Hz, was present over the parietal-occipital regions. Reactivity to eye opening (blocking) was appropriate. During maximal alertness, the record showed a no significant theta activity (although present during drowsiness), and moderate amount of diffuse low-voltage fast activity. Additional rare and subtle, polymorphic theta slowing was present in the right temporal region. Sleep features included diffuse slowing, positive occipital sharp transients of sleep (POSTS), vertex waves, bilateral 12-14 per second sleep spindles, and K complexes.    Interictal Activity  None.     Neurobehavioral Events   None.     Impression   This 24-hour video-EEG recording is abnormal due to rare, subtle right temporal slowing.        STUCKERT, ERIKA 3:00 PM 9/6/2008   Epilepsy Fellow; pager#14358.      I personally interpreted this video EEG and concur with the documentation of my findings and impression.    Kevin Graber, M.D.  Clinical Assistant Professor  Stanford Comprehensive Epilepsy Center        \n",
      "\n",
      "###Stanford Hospital and Clinics  Continuous Video EEG Report  (Day 4 of recording)    Identifying Information  EEG Number = E08-303  Test Date: 9/7/2008- 9/8/2008       Age: 27 Y   Name: Brindicy T Alcaraz    DOB: 5/30/1981               Sex: female   Location: F324A  MedRec: 60587474   Sedation: None.  Alertness: awake and asleep   Activation: Sensory Stimulation   Indication: Rule seizure activity.  Referring dept or MD: Dunn, Jefferey MD   History: 27-year-old woman with localization related epilepsy with medically refractory partial seizures due to a congenital brain dysplasia.   Meds: topiramate 150mg BID; lamotrigine 250mg AM/ 300mg PM; oxcarbazepine 300mg AM/ 600mg PM, lorazepam prn.    CONDITIONS OF RECORDING: 24 hour video-EEG acquired with a digital Nihon-Kohden EEG machine, 20 channels, with Standard International System 10-20 electrode placements, eye movement leads, and an EKG lead. Machine detection was used for spikes, rhythmical events and possible seizures. These and other continuous segments of the EEG were then scanned by attending electroencephalographers.    Findings   Baseline EEG: The overall voltage was normal. The tracing was continuous. When maximally alert but relaxed, a symmetric, well-regulated posterior basic rhythm of medium voltage, at 11 to 12Hz was present over the parietal-occipital regions. Reactivity to eye opening (blocking) was appropriate. More anteriorly the background consisted of alpha and low voltage beta frequencies. Frequently, the record showed a significant amount of medium voltage diffuse theta activity associated with the patient being drowsy. Sleep features included fronto-central maximal slowing, positive occipital sharp transients of sleep (POSTS), vertex waves, bilateral 12-14 per second sleep spindles, and K complexes.    Prominent stimulation artifact was present intermittently throughout the record, as the patients implanted deep brain stimulators cycled on and  off.    Focal medium amplitude slow activity occurred over right more than left temporal regions intermittently.  A few complex and broad field small voltage epileptiform spikes and sharps with slow wave were present with the maximum of negativity in the right lateral chain.    Impression  This 24-hour video-EEG recording is abnormal, with shifting temporal slowing and isolated focal epileptiform activity. No electroencephalographic or clinical seizures were captured. Stimulation artifact indicates that her implanted thalamic stimulators are operational.    Comments   Focal slowing indicates cerebral dysfunction from a wide variety of potential etiologies in the region affected like the patients known bilateral schizencephaly. It is a non-specific indicator of a structural or functional abnormality. The isolated focal epileptiform potential can be seen in patients with partial-onset seizures, which have been described in the patient in the past. Although the patient has periods of a normal background, there is frequent mild slowing when the patient is awake, which may indicate a mild encephalopathy, but can also be within normal limits if due to drowsiness.     STUCKERT, ERIKA 1:33 PM 9/8/2008   Epilepsy Fellow; pager#14358.      I personally interpreted this video EEG, and concur with the documentation of my findings and impression above.    Kevin Graber, M.D.  Clinical Assistant Professor  Stanford Comprehensive Epilepsy Center      \n",
      "\n",
      "###Stanford Hospital and Clinics  24 hour Ambulatory EEG Report    Identifying Information   EEG Number = A08-016  Test Date: 9-9-08-to-9-12-08            Age: 58 Y   Name: Martin A Nutt    DOB: 2/12/1950               Sex: male   Location: OP   MedRec: 20507174   Sedation: None  Alertness: awake-asleep   Activation: Sensory Stimulation   Indication: Episodes of aphasia and confusion concerning for seizures.   Referring dept or MD: Dr.Greicius   History: 58 year old man with history of slowly progressing memory loss and recent daily episodes of aphasia and confusion. He has negative vascular work-up.     CONDITIONS OF RECORDING: 24 hour EEG acquired with a digital Nihon-Kohden EEG machine, 24 channels, with Standard International System 10-20 electrode placements. Manual detection was used for spikes, rhythmical events and possible seizures, but because of problems the entire tracing was manually reviewed.     Findings   Baseline EEG: The overall voltage was normal. The tracing was continuous. A symmetric, well-regulated posterior basic rhythm of medium voltage, at 9 to 10/second, was present over the parietal-occipital regions. Reactivity to eye opening and closure was appropriate. During maximal alertness, the record showed alpha, and moderate amount of diffuse low-voltage fast (> 13/sec) activity. Delta (<4/sec) activity during wakefulness was absent.   Sleep features included fronto-central slowing, positive occipital sharp transients of sleep (POSTS), vertex waves, and K complexes. Delta sleep  was not present and the overall sleep pattern was interrupted by frequent brief arousals.   Interictal Activity   None   Neurobehavioral Events   None. There was no login or push button marks for any events.   Impression   This 24-hour ambulatory EEG recording is normal for age, without evidence of focality or epileptiform activity. No bush-button events or login sheet were reported in this study.    Comments    Absence of epileptiform discharges on a routine EEG does not preclude a clinical diagnosis of epilepsy or seizures. Sleep was interrupted frequently by brief arousals; however, this study is not designed for sleep evaluation given the lack of additional proper electrodes and video.  In this circumstance, these finding are nonspecific, but raise the possibility of obstructive sleeps apnea, periodic limb movements, pain-interrupted sleep patterns, or other problems.    Firas Bannout 4:59 PM 9/12/2008   Epilepsy Fellow, pager # 22613      I personally interpreted this EEG and concur with the documentation of my findings and impression.    Kevin Graber, M.D.  Clinical Assistant Professor  Stanford Comprehensive Epilepsy Center    \n",
      "\n",
      "###Stanford Hospital and Clinics  Continuous Video EEG Report  (Day 6 of recording)    Identifying Information   EEG Number = E08-299  Test Date: 9/7/08- 9/8/2008            Age: 52 Y   Name: Patricia Sheals-Bernard    DOB: 10/27/1955               Sex: female   Location: F330A  MedRec: 13151352   Sedation: None.  Alertness: awake and asleep   Activation: Sensory Stimulation   Indication:Rule out epileptiform activity.  Referring dept or MD: Graber, MD   History: 52-year-old left-handed female with an unusual constellation of symptoms; she had medically refractory, symptomatic localization-related epilepsy, autonomic dysfunction with a history of tachyarrhythmia, and obstructive sleep apnea.    Meds: OFF of Lamictal 100mg po BID.    Condition of recording    24 hour video-EEG acquired with a digital Nihon-Kohden EEG machine, 24 channels, with Standard International System 10-20 electrode placements, eye movement leads, and an EKG lead. Machine detection was used for spikes, rhythmical events and possible seizures. These and other continuous segments of the EEG were then scanned by attending electroencephalographers.    Findings   Baseline EEG: The overall voltage was again normal. The tracing was continuous. A symmetric, well-regulated posterior basic rhythm of medium voltage, at 10 to 11Hz, was present over the parietal-occipital regions. Reactivity to eye opening (blocking) was appropriate. During maximal alertness, the record consisted of alpha frequencies and moderate amount of diffuse low-voltage fast beta activity. Delta activity during wakefulness was absent.   There were intermittent episodes of bilateral polymorphic theta slowing with predominance in the left more than right temporal region primarily during drowsiness. At times this slowing was semirhythmic and waxing and waning in character, with slowing lasting for several to many seconds.  These mostly occur during drowsiness and sleep. At times slowing can last up to 1-2 minutes.   Multiple episodes of arousal during the nighttime have been captured again showing a sudden onset of stage changes from 3 Hz delta activity to an arousal with theta admixed with alpha frequencies. During these episodes the patient arouses, turns to either side and moans at times, then falls asleep again. She reports to feel dizziness and nausea during these arousals (and also at other times). Continues frequent high voltage diffuse 3 HZ delta activity lasting from 1-5 seconds occurred during drowsiness and more so during sleep and arousal.  The EEG continues to show a normal variant in the form of sharply contoured wicket spikes over left more than right anterior temporal regions. At times isolated waveforms of the same morphology were present in the left more than right temporal region.   Sleep features included appropriate slowing, positive occipital sharp transients of sleep (POSTS), vertex waves, bilateral 12-14 per second sleep spindles, and K complexes.     Interictal Activity  Again, no waveforms clearly met diagnostic criteria for epileptiform potentials.     Neurobehavioral Events   On 09/06/07 at 12:26 and 12:46 PM she complained of sudden onset lower extremity numbness and mild concentration problems. No EEG correlates were present.   On 09/07/08 at 06:31 AM she had an episode of feeling dizzy and nauseous. These episodes last up to a minute. She reported some irregular low voltage bilateral leg movements (shaking). She was seen and examined by a physician and a nurse. During this episode she seemed to be alert and oriented. No change of awareness was present. EEG showed an arousal pattern, which included an epoch of delta sleep and a slow high amplitude temporal theta run shifting from bilateral to unilateral (left>right) and back.     Impression   This record is abnormal due to intermittent left more than right temporal slowing. No clear epileptiform abnormalities or seizures were captured. The events captured don't show any clear epileptiform seizure pattern.  She has times of marked temporal slowing, but not well-correlated with her symptoms.  Events captured were non epileptic in nature.  Comments   Focal slowing indicates cerebral dysfunction from a wide variety of potential etiologies in the region affected; it is a non-specific indicator of a structural or functional abnormality.    STUCKERT, ERIKA 1:55 PM 9/8/2008   Epilepsy Fellow; pager#14358.      I personally interpreted this video EEG and concur with the documentation of my findings and impression.    Kevin Graber, M.D.  Clinical Assistant Professor  Stanford Comprehensive Epilepsy Center      \n",
      "\n",
      "###Stanford Hospital and Clinics  Continuous Video EEG Report  (Day 7 of recording)    Identifying Information   EEG Number = E08-299  Test Date: 9/8/08- 9/9/2008            Age: 52 Y   Name: Patricia Sheals-Bernard    DOB: 10/27/1955               Sex: female   Location: F330A  MedRec: 13151352   Sedation: None.  Alertness: awake and asleep   Activation: Sensory Stimulation   Indication:Rule out epileptiform activity.  Referring dept or MD: Graber, MD   History: 52-year-old left-handed female with an unusual constellation of symptoms; she had medically refractory, symptomatic localization-related epilepsy, autonomic dysfunction with a history of tachyarrhythmia, and obstructive sleep apnea.    Meds: OFF of Lamictal 100mg po BID.    Condition of recording    24 hour video-EEG acquired with a digital Nihon-Kohden EEG machine, 24 channels, with Standard International System 10-20 electrode placements, eye movement leads, and an EKG lead. Machine detection was used for spikes, rhythmical events and possible seizures. These and other continuous segments of the EEG were then scanned by attending electroencephalographers. Bilateral sphenoidal electrodes were placed on 9/8/2008 in place of T1 and T2.    Findings   Baseline EEG: The overall voltage was again normal. The tracing was continuous. A symmetric, well-regulated posterior basic rhythm of medium voltage, at 10 to 11Hz, was present over the parietal-occipital regions. Reactivity to eye opening (blocking) was appropriate. During maximal alertness, the record consisted of alpha frequencies and moderate amount of diffuse low-voltage fast beta activity. Delta activity during wakefulness was absent.   There were intermittent episodes of bilateral polymorphic theta slowing with predominance in the left temporal region primarily during drowsiness. At times this slowing was semirhythmic and waxing and waning in character,  with slowing lasting for several to many seconds. These mostly occur during drowsiness and sleep. At times slowing can last up to 1-2 minutes. She continues to have frequent high voltage diffuse 3 Hz polymorphic delta activity lasting from 1-5 seconds, occurring during drowsiness and more so during sleep or following arousal. Appearance is similar to delta sleep. The morphology of waveforms is similar through recording of sphenoidal electrodes; no clear  underlying epileptiform rhythms have been identified.  The EEG continues to show a normal variant in the form of sharply contoured wicket spikes over left more than right anterior temporal regions. At times isolated waveforms of the same morphology were present in the left more than right temporal region.   Sleep features included appropriate slowing, positive occipital sharp transients of sleep (POSTS), vertex waves, bilateral 12-14 per second sleep spindles, and K complexes.     Interictal Activity  Again, no waveforms clearly met diagnostic criteria for epileptiform potentials.     Neurobehavioral Events   On 09/08/07 at 15:34 PM she complained of sudden onset clorfull vision, predominantly scattered red/pink shadows. No EEG correlates were present.     Impression  This record is abnormal due to intermittent left more than right temporal slowing, and times of brief diffuse delta slowing. No clear epileptiform abnormalities or seizures were captured. The events captured don't show any clear epileptiform seizure pattern; the waxing and waning patterns of slowing do not clearly temporally correlate with her symptoms. Symptoms captured were non epileptic in nature.  Comments   Focal slowing indicates cerebral dysfunction from a wide variety of potential etiologies in the region affected; it is a non-specific indicator of a structural or functional abnormality.     STUCKERT, ERIKA 8:32 AM 9/9/2008   Epilepsy Fellow; pager#14358.       I personally interpreted this video EEG and concur with the documentation of my findings and impression.    Kevin Graber, M.D.  Clinical Assistant Professor  Stanford Comprehensive Epilepsy Center      \n",
      "\n",
      "###Stanford Hospital and Clinics  Continuous Video EEG Report  (Day 8 of recording)    Identifying Information   EEG Number = E08-299  Test Date: 9/9/08 (morning - evening)         Age: 52 Y   Name: Patricia Sheals-Bernard    DOB: 10/27/1955               Sex: female   Location: F330A  MedRec: 13151352   Sedation: None.  Alertness: awake and asleep   Activation: Sensory Stimulation   Indication:Rule out epileptiform activity.  Referring dept or MD: Graber, MD   History: 52-year-old left-handed female with an unusual constellation of symptoms; she had medically refractory, symptomatic localization-related epilepsy, autonomic dysfunction with a history of tachyarrhythmia, and obstructive sleep apnea.    Meds: Lamictal 100mg po BID restarted during recording.    Condition of recording    24 hour video-EEG acquired with a digital Nihon-Kohden EEG machine, 24 channels, with Standard International System 10-20 electrode placements, eye movement leads, and an EKG lead. Machine detection was used for spikes, rhythmical events and possible seizures. These and other continuous segments of the EEG were then scanned by attending electroencephalographers. Sphenodial electrodes were included during this recording (placed 9/8), in place of T1 and T2.    Findings   Baseline EEG: The overall voltage was again normal. The tracing was continuous. A symmetric, well-regulated posterior basic rhythm of medium voltage, at 10 to 11Hz, was present over the parietal-occipital regions. Reactivity to eye opening (blocking) was appropriate. During maximal alertness, the record consisted of alpha frequencies and moderate amount of diffuse low-voltage fast beta activity. Delta activity during wakefulness was absent.   There were intermittent episodes of bilateral polymorphic theta slowing with predominance in the left temporal region primarily during drowsiness. At times this slowing was semirhythmic and waxing and waning in character,  with slowing lasting for several to many seconds. These mostly occur during drowsiness and sleep. At times slowing can last up to 1-2 minutes. She continues to have brief paroxysms of  high voltage diffuse polymorphic 3 Hzdelta activity lasting from 1-5 seconds occurred during drowsiness and more so during sleep or following arousals.  The EEG continues to show a normal variant in the form of sharply contoured wicket spikes over left more than right anterior temporal regions. At times isolated waveforms of the same morphology were present in the left more than right temporal region.   Sleep features included appropriate slowing, positive occipital sharp transients of sleep (POSTS), vertex waves, bilateral 12-14 per second sleep spindles, and K complexes.     Interictal Activity  Again, no waveforms clearly met diagnostic criteria for epileptiform potentials.     Neurobehavioral Events   On 09/09/08 she pushed the EEG button 4 times.  1. At 10:18 AM - no symptom description present, but no epileptiform discharges were present on EEG.  2. At 12:48 PM - no symptom description present, but no epileptiform discharges were present on EEG.  3. At 14:54 PM - some visual symptoms with colorful background (red), no epileptiform discharges were present on EEG.  4. At 15:53 PM - strange feeling of head sensation, not specified. No epileptiform discharges were present on EEG.  The EEG revealed a pattern of wakefulness before, during and after these episodes.  The intermittent focal slowing waxed and waned on the record, with not clear change with respect to these symptoms.    Impression  This record is abnormal due to intermittent left more than right temporal slowing, and periods of brief diffuse delta slowing. No clear epileptiform abnormalities or seizures were captured. The events captured don't show any clear epileptiform seizure pattern; waxing and waning slowing was not  correlated with the symptoms. These events appearerd to be non epileptic in nature.    Comments   Focal slowing indicates cerebral dysfunction from a wide variety of potential etiologies in the region affected; it is a non-specific indicator of a structural or functional abnormality. Addition of sphenoidal electrodes failed to capture epileptiform discharges.    STUCKERT, ERIKA 12:41 PM 9/10/2008   Epilepsy Fellow; pager#14358.      I personally interpreted this video EEG and concur with the documentation of my findings and impression.    Kevin Graber, M.D.  Clinical Assistant Professor  Stanford Comprehensive Epilepsy Center  \n",
      "\n",
      "1335OF CONTINUOUS VIDEO EEG RECORDING  (Day 1-2 of recording)    Identifying Information  EEG Number \n",
      "\n",
      "1336OF CONTINUOUS VIDEO EEG RECORDING  (Day 1-3 of recording)    Identifying Information   EEG Number \n",
      "\n",
      "###Stanford Hospital and Clinics  Continuous video-EEG Report  (Day 2 of recording)    Identifying Information   EEG Number = E08-309.  Test Date: 9/11 - 9/12/2008       Age: 22 Y   Name: Rachelle Manel    DOB: 12/17/1985               Sex: female   Location: F323A  MedRec: 21041694   Sedation: None.  Alertness: awake and asleep   Activation: Sensory Stimulation.   Indication: neurobehavioral episodes of an as yet undetermined etiology.  Referring dept or MD: Graber, Kevin MD.   History: 22-year-old left-handed woman with episodes of shock-like/electrical left-sided head pain, which proceeds down her left side and terminates at the left elbow.   Meds: None.  Last Seizure: About 1 week ago.    CONDITIONS OF RECORDING: 24 hour video-EEG acquired with a digital Nihon-Kohden EEG machine, 20 channels, with Standard International System 10-20 electrode placements, eye movement leads, and an EKG lead. Machine detection was used for spikes, rhythmical events and possible seizures. These and other continuous segments of the EEG were then scanned by attending electroencephalographers.    Findings   Baseline EEG: The overall voltage was normal. The tracing was continuous. A symmetric, well-regulated posterior basic rhythm of medium voltage, at 12 to 13/second, was present over the parietal-occipital regions. Reactivity to eye opening (blocking) was appropriate. During maximal alertness, the record showed a moderate amount of diffuse low-voltage fast activity. During drowsiness there were moderate amount of  medium  voltage theta activity. Delta activity during wakefulness was absent.    Sleep features included fronto-central slowing, positive occipital sharp transients of sleep (POSTS), vertex waves, bilateral 12-14 per second sleep spindles, and K complexes.    Interictal Activity  None.    Neurobehavioral Events   On 09/11/08 at 9:40 PM she had a sudden onset of right temple region sharp  pain. It lasted only for seconds. The EEG was reviewed and it did not show any epileptiform discharges during this event.    Impression   This record is normal, without evidence of focal activity or epileptiform activity. No electrographic or clinical seizures were captured. Symptoms captured had no epileptiform correlate.     Comments   Absence of epileptiform discharges on a routine EEG does not preclude a clinical diagnosis of epilepsy or seizures. So far none of her typical events have been captured, further video EEG is indicated to clarify the etiology of the reported episodes.      STUCKERT, ERIKA 1:21 PM 9/12/2008   Epilepsy Fellow; pager#14358.      I personally interpreted this video EEG and concur with the documentation of my findings and impression.    Kevin Graber, M.D.  Clinical Assistant Professor  Stanford Comprehensive Epilepsy Center  \n",
      "\n",
      "###Stanford Hospital and Clinics  Continuous video EEG Report  (Day 3 of recording)    Identifying Information  EEG Number = E08-308  Test Date:09/11/08 - 9/12/2008            Age: 44 Y   Name: Steven L Chavez    DOB: 3/7/1964               Sex: male   Location: F324A  MedRec: 09529454   Sedation: None.  Alertness: awake and asleep   Activation: Sensory Stimulation   Indication:neurobehavioral episodes of an as yet undetermined etiology.  Referring dept or MD: Fisher, Robert MD   History: 44 year old man with symptom onset at age 13 with staring spells and shaking. Now more frequent episodes with minor cognitive changes and less common episodes with loss of awareness.  Meds: gabapentin for neuropathic pain and possible seizures.  Last large event: 4 weeks ago.      CONDITIONS OF RECORDING: 24 hour video-EEG acquired with a digital Nihon-Kohden EEG machine, 20 channels, with Standard International System 10-20 electrode placements, eye movement leads, and an EKG lead. Machine detection was used for spikes, rhythmical events and possible seizures. These and other continuous segments of the EEG were then scanned by attending electroencephalographers.    Findings   Baseline EEG: The overall voltage was normal. The tracing was continuous. A symmetric, well-regulated posterior basic rhythm of medium voltage, at 12 to 13/second, was present over the parietal-occipital regions. Reactivity to eye opening (blocking) was appropriate. During maximal alertness, the record showed a moderate amount of diffuse low-voltage fast activity. During drowsiness there were moderate amount of  medium  voltage theta activity. Delta activity during wakefulness was absent.    Sleep features included fronto-central slowing, positive occipital sharp transients of sleep (POSTS), vertex waves, bilateral 12-14 per second sleep spindles, and K complexes.    Intermittent photic stimulation (flash frequencies ranging from 1/sec to  20/sec) was associated with no detectable response. The location of the photic response was not applicable. Hyperventilation (with maximal effort) produced small amounts of diffuse slowing.    Interictal Activity  None.    Neurobehavioral Events   On 9/11/08 at 12:01PM Dr. Barry performed a hypnosis to provoke one of his typical events. Labored breathing, feeling heavy, head tilt to the chest were provoked, but the episode was mild in comparison to typical events. The presentation of his symptoms suggests the probability of dissociative episodes. Epileptic events cannot be ruled out.    Impression  This record is normal, without evidence of focal activity or epileptiform activity. No electrographic or clinical seizures were captured.     Comments   Absence of epileptiform discharges on a routine EEG does not preclude a clinical diagnosis of epilepsy or seizures. None of his typical events were captured.      STUCKERT, ERIKA 12:47 PM 9/12/2008   Epilepsy Fellow; pager#14358.      I personally interpreted this video EEG and concur with the documentation of my findings and impression.    Kevin Graber, M.D.  Clinical Assistant Professor  Stanford Comprehensive Epilepsy Center    \n",
      "\n",
      "###Stanford Hospital and Clinics  Continuous video EEG Report  (Day 2 of recording)    Identifying Information  EEG Number = E08-308  Test Date:09/10/08 - 9/11/2008            Age: 44 Y   Name: Steven L Chavez    DOB: 3/7/1964               Sex: male   Location: F324A  MedRec: 09529454   Sedation: None.  Alertness: awake and asleep   Activation: Sensory Stimulation   Indication:neurobehavioral episodes of an as yet undetermined etiology.  Referring dept or MD: Fisher, Robert MD   History: 44 year old man with symptom onset at age 13 with staring spells and shaking. Now more frequent episodes with minor cognitive changes and less common episodes with loss of awareness.  Meds: gabapentin for neuropathic pain and possible seizures.  Last large event: 4 weeks ago.    CONDITIONS OF RECORDING: 24 hour video-EEG acquired with a digital Nihon-Kohden EEG machine, 20 channels, with Standard International System 10-20 electrode placements, eye movement leads, and an EKG lead. Machine detection was used for spikes, rhythmical events and possible seizures. These and other continuous segments of the EEG were then scanned by attending electroencephalographers.    Findings   Baseline EEG: The overall voltage was normal. The tracing was continuous. A symmetric, well-regulated posterior basic rhythm of medium voltage, at 12 to 13/second, was present over the parietal-occipital regions. Reactivity to eye opening (blocking) was appropriate. During maximal alertness, the record showed a moderate amount of diffuse low-voltage fast activity. During drowsiness there were moderate amount of  medium  voltage theta activity. Delta activity during wakefulness was absent.    Sleep features included fronto-central slowing, positive occipital sharp transients of sleep (POSTS), vertex waves, bilateral 12-14 per second sleep spindles, and K complexes.    Interictal Activity  None.    Neurobehavioral Events   None.    Impression    This record is normal, without evidence of focal activity or epileptiform activity. No electrographic or clinical seizures were captured.    Comments   Absence of epileptiform discharges on a routine EEG does not preclude a clinical diagnosis of epilepsy or seizures.      STUCKERT, ERIKA 3:43 PM 9/11/2008   Epilepsy Fellow; pager#14358.      I personally interpreted this video EEG and concur with the documentation of my findings and impression.    Kevin Graber, M.D.  Clinical Assistant Professor  Stanford Comprehensive Epilepsy Center    \n",
      "\n",
      "###Stanford Hospital and Clinics  Continuous video-EEG Report  (Day 2 of recording)    Identifying Information   Test Date: 9/11 - 9/12/2008         Age: 80 Y   Name: Andrew Digirolamo    DOB: 9/8/1928               Sex: male   MedRec: 14455802   Sedation: None.  Alertness: lethargic   Activation: Sensory Stimulation   Indication: Rule out seizures.  Referring dept or MD: Reitz, Bruce MD.   History: 80yo M With ischemic cardiomyopathy, CHF, diabetes, chronic renal insufficiency (Cr 2.8 pre-op), chronic anemia, an aortic stenosis, POD#2 s/p AVR/CABG with SVG. Not awakening after surgery.  Meds: phenytoin 100 q8. Levetiracetam load.    CONDITIONS OF RECORDING: 24 hour video-EEG acquired with a digital Nihon-Kohden EEG machine, 20 channels, with Standard International System 10-20 electrode placements, eye movement leads, and an EKG lead. Machine detection was used for spikes, rhythmical events and possible seizures. These and other continuous segments of the EEG were then scanned by attending electroencephalographers.    Findings   Baseline EEG: The overall voltage was low normal. The tracing was continuous and consisted of moderate to severe diffuse delta and theta slowing with frequent focal subtle seizures. There were some fragments of alpha activity. Limited frequency variability was present. Minor reactivity to eye opening and stimulation was present. No posterior dominant rhythm was present and no normal sleep features were captured.  There was intermittent polymorphic bicentral slowing, however, much of this was associated with epileptiform discharges.    The 24 hour recording captured at least 90 focal electroencephalographic seizures. Most of them (about 80%) are limited to the right frontocentral region. The typical pattern showed a sudden onset of fast beta activity superimposed on the underlying theta and delta activity at Fp2, evolving into rhythmic medium voltage epileptiform discharges. They frequently  spread to the central leads with higher amplitude 4-6 Hz epileptiform discharges in this region. Several seizures appear to involve the left frontal polar region and some eventually continue into a focal left frontopolar seizure. They last from 30 seconds up to 3 minutes, and occur without overt paroxysmal clinical change. Frequently (about 40%) these events occur in association with stimulation like a touch or noise (i.e. SIRPIDs).    Epileptiform activity occurred in runs; isolated focal discharges were not common.  No generalized seizure activity occurred on this record.  The events of runs of high amplitude 4-6 Hz right central epileptiform discharges were not captured.       Impression  This 24-hour video-EEG recording is abnormal because of   1. Severe diffuse slowing, with superimposed bicentral slowing  2. Frequent right frontocentral focal seizures without overt, paroxysmal clinical signs  3. Few left frontopolar focal seizures.    Comments   The diffuse slowing in this record is a non-specific indicator of diffuse cerebral dysfunction as seen in toxic, infectious or metabolic derangements, or other types of diffuse encephalopathy. Focal slowing is a nonspecific indicator of underlying cerebral dysfunction. No generalized seizures were present, however, there is an extremely high burden of focal seizures.  Please see report yesterday for additional comments. Results were communicated to the NeuroICU team today.      STUCKERT, ERIKA 2:04 PM 9/12/2008   Epilepsy Fellow; pager#14358.      I personally interpreted this video EEG and concur with the documentation of my findings and impression.    Kevin Graber, M.D.  Clinical Assistant Professor  Stanford Comprehensive Epilepsy Center    \n",
      "\n",
      "###Stanford Hospital and Clinics  Continuous video-EEG Report  (Day 1 of recording)    Identifying Information   EEG Number = E08-309.  Test Date: 9/10 - 9/11/2008          Age: 22 Y   Name: Rachelle Manel    DOB: 12/17/1985               Sex: female   Location: F323A  MedRec: 21041694   Sedation: None.  Alertness: awake and asleep   Activation: Sensory Stimulation.   Indication: neurobehavioral episodes of an as yet undetermined etiology.  Referring dept or MD: Graber, Kevin MD.   History: 22-year-old left-handed woman with episodes of shock-like/electrical left-sided head pain, which proceeds down her left side and terminates at the left elbow.   Meds: None.  Last Seizure: About 1 week ago.    CONDITIONS OF RECORDING: 24 hour video-EEG acquired with a digital Nihon-Kohden EEG machine, 20 channels, with Standard International System 10-20 electrode placements, eye movement leads, and an EKG lead. Machine detection was used for spikes, rhythmical events and possible seizures. These and other continuous segments of the EEG were then scanned by attending electroencephalographers.    Findings   Baseline EEG: The overall voltage was normal. The tracing was continuous. A symmetric, well-regulated posterior basic rhythm of medium voltage, at 12 to 13/second, was present over the parietal-occipital regions. Reactivity to eye opening (blocking) was appropriate. During maximal alertness, the record showed a moderate amount of diffuse low-voltage fast activity. During drowsiness there were moderate amount of  medium  voltage theta activity. Delta activity during wakefulness was absent.    Sleep features included fronto-central slowing, positive occipital sharp transients of sleep (POSTS), vertex waves, bilateral 12-14 per second sleep spindles, and K complexes.    Interictal Activity  None.    Neurobehavioral Events   On 09/10/08 at 18:50PM she had a sudden onset of her left hemibody feeling  sharp pain. It lasted only for seconds. The EEG did not contain any epileptiform discharges or other change in the minutes before, during or after this time.    Impression   This record is normal, without evidence of focal activity or epileptiform activity. No electrographic or clinical seizures were captured; there was no change with her hemibody pain.    Comments   Absence of epileptiform discharges on a routine EEG does not preclude a clinical diagnosis of epilepsy or seizures.      STUCKERT, ERIKA 3:30 PM 9/11/2008   Epilepsy Fellow; pager#14358.      I personally interpreted this video EEG and concur with the documentation of my findings and impression.    Kevin Graber, M.D.  Clinical Assistant Professor  Stanford Comprehensive Epilepsy Center  \n",
      "\n",
      "###Stanford Hospital and Clinics  EEG Report  (Day 2 of recording)    Identifying Information   EEG Number = S08-301  Test Date: 9/11/08- 9/12/08            Age: 25 Y  Name: Maria Granados    DOB: 3/31/1983               Sex: female   Location: B309  MedRec: 20421681   Sedation: None  Alertness: awake, drowsy and asleep   Activation: Sensory Stimulation   Indication: Rule out epileptiform activity.  Referring dept or MD: Robert, Lober MD.  History: 25 year old woman with POD#13 s/p L craniotomy for resection of cavernous malformations of the left optic nerve and left optic tract. Complication of Left basal ganglia infarct. New onset of right sided weakness and episodes of unresponsiveness.   Meds: Keppra.   CONDITIONS OF RECORDING: 24 hour video-EEG acquired with a digital Nihon-Kohden EEG machine, 24 channels, with Standard International System 10-20 electrode placements, eye movement leads, and an EKG lead. Machine detection was used for spikes, rhythmical events and possible seizures. These and other continuous segments of the EEG were then scanned by attending electroencephalographers. .    Findings   Baseline EEG: The overall voltage was normal. The tracing was continuous. A well-regulated posterior basic rhythm of medium voltage, at 10-11 Hz/second, was present over the parietal-occipital regions. Reactivity to eye opening (blocking) was appropriate. During maximal alertness, the record consisted of polymorphic alpha and moderate amount of diffuse low-voltage fast activity. Theta frequencies were present during drowsiness. Intermittent, polymorphic, focal medium amplitude slow theta activity occurred over left more than right anterior temporal regions, mostly in form of less well formed faster activity during awake states.   Sleep features included appropriate slowing, positive occipital sharp transients of sleep (POSTS), vertex waves and bilateral 12-14 Hz sleep spindles.     No clear events were captured.     Impression   This record is abnormal, with evidence of intermittent left more than right temporal focal slowing. No epileptiform discharges were present. No electrographic or clinical seizures were captured. No events of unresponsiveness or left sided weakness have been captured.    Comments   Absence of epileptiform discharges on EEG does not preclude a clinical diagnosis of epilepsy or seizures, however, there is nothing on this record to support the presence of seizures in this patient. Focal slowing indicates cerebral dysfunction from a wide variety of potential etiologies in the region affected; it is a non-specific indicator of a structural or functional abnormality.      STUCKERT, ERIKA 1:54 PM 9/12/2008   Epilepsy Fellow; pager#14358.      I personally interpreted this video EEG and concur with the documentation of my findings and impression.    Kevin Graber, M.D.  Clinical Assistant Professor  Stanford Comprehensive Epilepsy Center      \n",
      "\n",
      "###Stanford Hospital and Clinics  EEG Report  (Day 2 of video-EEG recording)    Identifying Information   ID: 19453208  Name: HUIE, LISA S  Date of Recording: 9/11/2008-9/12/08.  Sex: Female  Date of Birth: 1938/12/10  Age: 69  Refer Dept: E2/263B  Physician: KALANITHI, PAUL  Operator: AJ  Date: 2008/09/03  TestTime: 11:37:34  Patient Condition: confused  Medical History: 69-year old female with liver transplant in 1993 was admitted for acute focal seizures.  Evaluate for  epileptiform discharges.    CONDITIONS OF RECORDING: 24 hour video-EEG acquired with a digital Nihon-Kohden EEG machine, 20 channels, with Standard International System 10-20 electrode placements, eye movement leads, and an EKG lead. Machine detection was used for spikes, rhythmical events and possible seizures. These and other continuous segments of the EEG were then scanned by attending electroencephalographers.    Findings     Baseline EEG: The overall voltage was low-normal. The tracing was minimally variable, mostly continues but often discontinues.The background continued to show medium voltage large amount theta and delta activity with intermittent polymorphic focal slowing over the right hemisphere. Frequent runs of bilateral and independent high voltage periodic lateralizing epileptiform discharges (PLED's) mainly in the right fronto-central region at times once every 2-3 seconds were present. Occasional periods of attenuation lasting for 1-2 seconds was present as well. No normal sleep patterns were captured.   The EEG showed frequent stimulus-induced rhythmic, periodic or ictal discharges (SIRPID's) at times 1/ second. They occur in form of high voltage periodic discharges mostly bilateral but also independent. They do show some evolving patterns.      Impression   This EEG is abnormal due to the presence of:  1) moderate to severe diffuse slowing with superimposed intermittent right focal slowing.    2) frequent bilateral and unilateral mainly right fronto-central PLED's.  3) frequent stimulus-induced rhythmic, periodic or ictal discharges (SIRPID's). Some of these are brief ictal patterns.  4) no spontaneuos or overt clinical seizures were present.    Comments   Minimizing patient stimuation may reduce incidence of SIRPIDs, however, it is unclear if this would affect clinical outcome.    The diffuse slowing in this record is a non-specific indicator of diffuse cerebral dysfunction as seen in toxic, infectious and metabolic derangement, or other types of diffuse encephalopathy. The focal slowing indicates cerebral dysfunction from a wide variety of potential etiologies in the region affected like the patient's known right frontal hypodensity; it is a non-specific indicator of a structural or functional abnormality. Periodic lateralized epileptiform discharges (PLEDs) can be associated with focal or lateralized cerebral injuries or pathology. At the very least, they indicate an elevated risk of partial-onset seizures. Stimulus-induced rhythmic change likely represents cortical hyper-excitability and may imply an elevated risk of seizures although the clinical significance of such a finding varies widely.  Overall the EEG recording is similar to the prior 24 hour recording.      STUCKERT, ERIKA 1:33 PM 9/12/2008   Epilepsy Fellow, pager # 14358      I personally interpreted this video EEG and concur with the documentation of my findings and impression.    Kevin Graber, M.D.  Clinical Assistant Professor  Stanford Comprehensive Epilepsy Center      \n",
      "\n",
      "###Stanford Hospital and Clinics  EEG Report  (Day1 of video-EEG recording)    Identifying Information   ID: 19453208  Name: HUIE, LISA S  Date of Recording: 9/10/2008-9/11/08.  Sex: Female  Date of Birth: 1938/12/10  Age: 69  Refer Dept: E2/263B  Physician: KALANITHI, PAUL  Operator: AJ  Date: 2008/09/03  TestTime: 11:37:34  Patient Condition: confused  Medical History: 69-year old female with liver transplant in 1993 was admitted for acute focal seizures.  Evaluate for  epileptiform discharges.    CONDITIONS OF RECORDING: 24 hour video-EEG acquired with a digital Nihon-Kohden EEG machine, 20 channels, with Standard International System 10-20 electrode placements, eye movement leads, and an EKG lead. Machine detection was used for spikes, rhythmical events and possible seizures. These and other continuous segments of the EEG were then scanned by attending electroencephalographers.    Findings     Baseline EEG: The overall voltage was low-normal. The tracing was minimally variable, mostly continues but often discontinues.The background continued to show medium voltage large amount theta and delta activity with intermittent polymorphic focal slowing over the right hemisphere. Frequent runs of bilateral and independent high voltage periodic lateralizing epileptiform discharges (PLED's) mainly in the right fronto-central region at times 1/ 2-3 second were present. Occasional periods of attenuation lasting for 1-2 seconds was present as well. No normal sleep pattern was captured.   The EEG showed frequent stimulus-induced rhythmic, periodic or ictal discharges (SIRPID's) at times 1/ second. They occur in form of high voltage periodic discharges mostly bilateral but also independent. They do show some evolving patterns.       Impression   This EEG is abnormal due to the presence of:  1) moderate to severe diffuse slowing with intermittent right focal slowing.    2) frequent bilateral and unilateral, mainly right fronto-central PLED's.  3) frequent stimulus-induced rhythmic, periodic or ictal discharges (SIRPID's), some appear to be brief ictal patterns.  4) no spontaneuos electrographic or overt clinical seizures were captured.    Comments   The diffuse slowing in this record is a non-specific indicator of diffuse cerebral dysfunction as seen in toxic, infectious and metabolic derangement, or other types of diffuse encephalopathy. The focal slowing indicates cerebral dysfunction from a wide variety of potential etiologies in the region affected like the patient's known right frontal hypodensity; it is a non-specific indicator of a structural or functional abnormality. Periodic lateralized epileptiform discharges (PLEDs) can be associated with Herpes encephalitis, infarction, partial seizures, and other focal or lateralized cerebral injuries or pathology. At the very least, they indicate an elevated risk of partial-onset seizures. Stimulus-induced rhythmic change likely represents cortical hyper-excitability and may imply an elevated risk of seizures although the clinical significance of such a finding varies widely.      STUCKERT, ERIKA 2:16 PM 9/11/2008   Epilepsy Fellow, pager # 14358      I personally interpreted this video EEG and concur with the documentation of my findings and impression.    Kevin Graber, M.D.  Clinical Assistant Professor  Stanford Comprehensive Epilepsy Center      \n",
      "\n",
      "###Stanford Hospital and Clinics  EEG Report  (Day 1 of recording)    Identifying Information   EEG Number = S08-301  Test Date: 9/10/08- 9/11/08            Age: 25 Y  Name: Maria Granados    DOB: 3/31/1983               Sex: female   Location: B309  MedRec: 20421681   Sedation: None  Alertness: awake, drowsy and asleep   Activation: Sensory Stimulation   Indication: Rule out epileptiform activity.  Referring dept or MD: Robert, Lober MD.  History: 25 year old woman with POD#13 s/p L craniotomy for resection of cavernous malformations of the left optic nerve and left optic tract. Complication of Left basal ganglia infarct. New onset of right sided weakness and episodes of unresponsiveness.   Meds: Keppra.   CONDITIONS OF RECORDING: 24 hour video-EEG acquired with a digital Nihon-Kohden EEG machine, 24 channels, with Standard International System 10-20 electrode placements, eye movement leads, and an EKG lead. Machine detection was used for spikes, rhythmical events and possible seizures. These and other continuous segments of the EEG were then scanned by attending electroencephalographers. .    Findings   Baseline EEG: The overall voltage was normal. The tracing was continuous. A well-regulated posterior basic rhythm of medium voltage, at 10-11 Hz/second, was present over the parietal-occipital regions. Reactivity to eye opening (blocking) was appropriate. During maximal alertness, the record consisted of polymorphic alpha and moderate amount of diffuse low-voltage fast activity. Theta frequencies were present during drowsiness. Intermittent, polymorphic, focal medium amplitude slow theta activity occurred over left more than right anterior temporal regions, mostly in form of less well formed faster activity during awake states.   Sleep features included appropriate slowing, positive occipital sharp transients of sleep (POSTS), vertex waves and bilateral 12-14 Hz sleep spindles.     Impression    This record is abnormal, with evidence of intermittent left more than right temporal focal slowing. No epileptiform discharges were present. No electrographic or clinical seizures were captured. No events of unresponsiveness or left sided weakness have been captured.    Comments   Absence of epileptiform discharges on a routine EEG does not preclude a clinical diagnosis of epilepsy or seizures. Focal slowing indicates cerebral dysfunction from a wide variety of potential etiologies in the region affected; it is a non-specific indicator of a structural or functional abnormality.      STUCKERT, ERIKA 1:55 PM 9/11/2008   Epilepsy Fellow; pager#14358.      I personally interpreted this video EEG and concur with the documentation of my findings and impression.    Kevin Graber, M.D.  Clinical Assistant Professor  Stanford Comprehensive Epilepsy Center        \n",
      "\n",
      "###Stanford Hospital and Clinics  Continuous Video EEG Report      Identifying Information   EEG Number = E08-309.  Test Date: 9/12 - 9/13/2008          Age: 22 Y   Name: Rachelle Manel    DOB: 12/17/1985               Sex: female   Location: F323A  MedRec: 21041694   Sedation: None.  Alertness: awake and asleep   Activation: Sensory Stimulation.   Indication: neurobehavioral episodes of an as yet undetermined etiology.  Referring dept or MD: Graber, Kevin MD.   History: 22-year-old left-handed woman with episodes of shock-like/electrical left-sided head pain, which proceeds down her left side and terminates at the left elbow.   Meds: None.  Last Seizure: About 1 week ago.    CONDITIONS OF RECORDING: 24 hour video-EEG acquired with a digital Nihon-Kohden EEG machine, 20 channels, with Standard International System 10-20 electrode placements, eye movement leads, and an EKG lead. Machine detection was used for spikes, rhythmical events and possible seizures. These and other continuous segments of the EEG were then scanned by attending electroencephalographers.    Findings   Baseline EEG: The overall voltage was normal. The tracing was continuous. A symmetric, well-regulated posterior basic rhythm of medium voltage, at 10 to 11/second, was present over the parietal-occipital regions. Reactivity to eye opening (blocking) was appropriate. During maximal alertness, the record showed a moderate amount of diffuse low-voltage fast activity. During drowsiness there were moderate amount of medium voltage theta activity. Delta activity during wakefulness was absent.    Sleep features included fronto-central slowing, positive occipital sharp transients of sleep (POSTS), vertex waves, bilateral 12-14 per second sleep spindles, and K complexes.    Interictal Activity  None.    Neurobehavioral Events   None.    Impression   This record is normal, without evidence of focal abnormality or  epileptiform activity. No electrographic or clinical seizures were captured.    Comments   Absence of epileptiform discharges on a routine EEG cannot preclude a clinical diagnosis of epilepsy or seizures, however, there is nothing on this record that supports a diagnosis of epilepsy. Typical events were not captured overnight, or during the hospitalization.    Juliana Lockman, MD  Epilepsy Fellow, pager #14351    I personally interpreted this video EEG and concur with the documentation of my findings and impression.    Kevin Graber, M.D.  Clinical Assistant Professor  Stanford Comprehensive Epilepsy Center    \n",
      "\n",
      "###Stanford Hospital and Clinics  Continuous Video EEG Report    Identifying Information   Test Date: 9/12 - 9/13/2008         Age: 80 Y   Name: Andrew Digirolamo    DOB: 9/8/1928               Sex: male   MedRec: 14455802   Sedation: None.  Alertness: lethargic   Activation: Sensory Stimulation   Indication: Rule out seizures.  Referring dept or MD: Reitz, Bruce MD.   History: 80yo man with ischemic cardiomyopathy, CHF, diabetes, chronic renal insufficiency (Cr 2.8 pre-op), chronic anemia, and aortic stenosis, POD#2 s/p AVR/CABG with SVG. Not awakening after surgery.  Meds: phenytoin, levetiracetam    CONDITIONS OF RECORDING: 24 hour video-EEG acquired with a digital Nihon-Kohden EEG machine, 20 channels, with Standard International System 10-20 electrode placements, eye movement leads, and an EKG lead. Machine detection was used for spikes, rhythmical events and possible seizures. These and other continuous segments of the EEG were then scanned by attending electroencephalographers.    Findings   Baseline EEG: The overall voltage was low normal. The tracing was continuous and consisted of moderate to severe diffuse delta and theta slowing with frequent focal subtle seizures, but improving overnight. There was some variability in the tracing. Minor reactivity to eye opening and stimulation was present. No posterior dominant rhythm was present and no normal sleep features were captured.  There was intermittent polymorphic slowing in the right parietal region, mostly associated with epileptic activity.    During the first half of the recording on 9/12, from 7am up to approximately noon, there continued to be frequent seizures at a rate of 2-3 per hour on average, with no overt clinical.  From noon until ~ 7pm there were 5 additional electroencephalographic seizures, and none following through 7 am this morning.  Duration of seizures averaged 1.5 to 2.5 minutes.  The majority begin with sharply contoured alpha/beta  frequency waveforms in the right frontal region, with maximal negativity at Fp2 and F4.  This activity is superimposed on theta and delta activity.  This pattern then evolves to organized, rhythmic medium voltage theta/delta activity, ending in approximately 1 Hz delta waves. One seizure began in the right central region at C4 with mixed frequencies.  Some events occur in association with tactile or auditory stimulation (i.e. SIRPIDs). No left sided seizures were captured.  In the second half of the recording, there were two instances of semi-rhythmic changes in the right frontopolar region on one occasion, right paracentral region on another occasion, in the context of patient stimulation (again SIRPIDs),    Again, isolated focal epileptiform discharges were not common, but did occur in the right frontal and right central regions.  No generalized seizure activity occurred on this record.    EKG is notable for occasional tachycardia, but the rhythm was not analyzed continuously or with a diagnostic quality cardiac recording setup.    Impression  This EEG recording is abnormal due to 1) moderate to severe diffuse slowing, with superimposed right frontocentral slowing and 2) frequent right frontopolar, and less common right paracentral focal seizures without overt, paroxysmal clinical signs prior to 7pm yesterday.  After 7pm, there were no clear seizure patterns.    Comments   The diffuse slowing in this record is a non-specific indicator of diffuse cerebral dysfunction as seen in toxic, infectious or metabolic derangements, or other types of diffuse encephalopathy. Focal slowing is a nonspecific indicator of underlying cerebral dysfunction. No generalized seizures were present, however, there are initially frequent focal seizures, improving as the record progresses.  Results were communicated to the NeuroICU team today.    Juliana Lockman, MD  Epilepsy Fellow, pager #14351       I personally interpreted this video EEG and concur with the documentation of my findings and impression.    Kevin Graber, M.D.  Clinical Assistant Professor  Stanford Comprehensive Epilepsy Center  \n",
      "\n",
      "###Stanford Hospital and Clinics  Continuous Video EEG Report      Identifying Information   ID: 19453208  Name: HUIE, LISA S  Date of Recording: 9/12/2008-9/13/08.  Sex: Female  Date of Birth: 1938/12/10  Age: 69  Refer Dept: E2/263B  Physician: KALANITHI, PAUL  Operator: AJ  Date: 2008/09/03  TestTime: 11:37:34  Patient Condition: obtunded, intubated  Medical History: 69-year old female with liver transplant in 1993, admitted for acute focal seizures.  Evaluate for epileptiform discharges.    CONDITIONS OF RECORDING: 24 hour video-EEG acquired with a digital Nihon-Kohden EEG machine, 20 channels, with Standard International System 10-20 electrode placements, eye movement leads, and an EKG lead. Machine detection was used for spikes, rhythmical events and possible seizures. These and other continuous segments of the EEG were then scanned by attending electroencephalographers.    Findings     Baseline EEG: The overall voltage was low-normal. The tracing was minimally variable and partially discontinuous at times.  There was a large amount of theta and delta activity.  In addition, there was intermittent polymorphic focal slowing over the right hemisphere in the right centro-temporo-parietal region. There were frequent runs of high voltage periodic lateralizing epileptiform discharges (PLEDs) mainly in the right fronto-central region with phase reversal often at C4, P4 and at times T6 and F4.  Average interparoxysmal interval is 1-2 seconds. Occasional periods of attenuation lasting for 1-2 seconds were present as well. After approximately 8pm, there was a predominance of theta/delta slowing with a decrease in the burden of PLEDs.  By 11pm PLEDs largely subsided, however, some slow blunted epileptiform waveforms reappeared after ~3 am this morning. The background was more slow with less variability in the latter portions of the record. No normal sleep pattern was captured.      Initially, the EEG showed frequent change in PLEDs with virtually all stimulation such as physician examinations, ETT suctioning, repositioning the patient, and auditory stimuli. There often was several seconds of rhythmic theta on the right, followed by evolution of rhythmicity of PLEDs and mild acceleration of frequency, and change in morphology lasting seconds to 1 - 2 minutes. Despite somewhat distinct onset, these changes which had less clear offset as discharges waned to prior pattern of PLEDs. These occurrences were rare after ~ 8 pm yesterday, and are consistent with stimulus-induced rhythmic, periodic or ictal discharges (SIRPID's). The patient demonstrated no clinical change during these instances.    Neurobehavioral events  A push button event occurred at 21:29:37 for unclear reason.  Video shows no overt clinical activity of interest.  Electrographically, there is diffuse muscle artifact with no underlying pathologic pattern.    Impression   This EEG is abnormal due to the presence of  1) moderate to severe diffuse slowing, mildly increased as the record progressed, with intermittent right focal slowing, 2) frequent bilateral and unilateral, mainly right fronto-central PLED's, decreasing in frequency after 8pm yesterday, 3) frequent stimulus-induced rhythmic, periodic or ictal discharges (SIRPID's), some which have a clear brief ictal pattern without overt paroxysmal clinic change, also markedly decreased in the second half of the record.    Comments   The diffuse slowing in this record is a non-specific indicator of diffuse cerebral dysfunction as seen in toxic, infectious and metabolic derangement, or other types of diffuse encephalopathy. The focal slowing indicates cerebral dysfunction from a wide variety of potential etiologies in the region affected like the patient's known right frontal hypodensity; it is a non-specific indicator of a structural or functional abnormality.  Periodic lateralized epileptiform discharges (PLEDs) indicate increased risk for seizures, and typically reflect underlying cortical injury. Limiting patient stimulation may reduce stimulus-induced rhythmic changes including brief ictal patterns, however, clinical utility of this strategy is unclear.  SIRPIDs and PLEDs were markedly reduced as the record progressed, in the context of additional background slowing.    Juliana Lockman, MD  Epilepsy Fellow, pager #14351      I personally interpreted this video EEG and concur with the documentation of my findings and impression.    Kevin Graber, M.D.  Clinical Assistant Professor  Stanford Comprehensive Epilepsy Center  \n",
      "\n",
      "###Stanford Hospital and Clinics  EEG Report    Identifying Information     EEG Number =  S08-755                       Test Date: 9/13/2008          Age: 78 Y     Name: Bernice Martinez  DOB: 7/14/1930             Sex: female   Location: NICU MedRec: 20974796     Sedation: none Alertness: drowsy   Technical Notes:  Activation: manual stimulation  Indication: Altered mental status Referring dept or MD: Dr. S. Ruoss    History: 78 yo female with endometrial sarcoma, hypertension, hyponatremia, thrombocytopenia and recent left temporal intracranial bleed transferred to Stanford on 9/11 for further evaluation with ongoing fluctuating mental status. EEG is ordered in consideration of subtle seizures as a potential etiology of mental status change.    Meds: famotidine, glipizide, hydromorphone, insulin, metoprolol, labetolol, lisinopril, Reglan      CONDITIONS OF RECORDING: The recording was performed with a digital EEG machine with video, 24 channels, with Standard International 10-20 System electrode placements, eye movement leads, and an EKG lead.    Findings   In the maximally alert state, there was an occipital dominant rhythm of up to 9 Hz which was reactive, admixed with some theta frequencies.  More anteriorly the background consists of an admixture of primarily alpha frequencies, some theta frequencies and a small amount of low voltage beta frequencies.  The EEG is variable and of normal amplitude.  Superimposed there is intermittent polymorphic theta slowing in the left temporal region.  The patient becomes drowsy during the recording with additional theta and occasional delta in the background, but does not develop sleep architecture.     There are occasions of brief high amplitude delta intruding on the background when the patient was drowsy, but no epileptiform abnormalities.    The single channel ECG was regular during this record..    Impression   This EEG is abnormal during wakefulness and drowsiness due diffuse background slowing to a degree consistent with a mild encephalopathy.  This finding is nonspecific.  There is also superimposed left temporal slowing, indicating an underlying physiological abnormality in this region--while not specific, consistent with the history of left temporal hemorrhage.    There are no epileptiform/seizure discharges on this record.    Comments   Absence of epileptiform discharges on a routine EEG does not preclude a clinical diagnosis of epilepsy or seizures, however, the patient did not suffer from electroencephalographic seizures during this recording.    Kevin Graber, M.D.  Clinical Assistant Professor  Stanford Comprehensive Epilepsy Center      7:27 PM 9/13/2008     \n",
      "\n",
      "###Stanford Hospital and Clinics  Continuous Video EEG Report  Day 1 of Recording    Identifying Information     Test Date: 9/13-9/14/2008            Age: 45 Y     Name: Carlos H Rodriguez  DOB: 10/21/1962             Sex: male   Location: ED/F323 MedRec: 08178261   Sedation: lorazepam Alertness: sleepy   Technical Notes: no problems Activation: patient interaction  Indication: Monitor number of seizures Referring dept or MD: Sharon Sha, MD/Helen Bronte-Stewart M.D.  History: 45 year old male with chronic encephalopathy, symptomatic generalized epilepsy with history of extremely refractory tonic seizures, admitted with increased agitation over the last couple of days and increased seizure activity  Meds: Lamictal 300 mg BID, clonazepam 0.25 mg daily; given 4 mg lorazepam in ED; diltiazem, Prevacid, DSS, Celexa; also VNS and ketogenic diet per PEG  Last Seizure: Ongoing    CONDITIONS OF RECORDING: 24 hour video-EEG acquired with a digital Nihon-Kohden EEG machine, 24 channels, with Standard International System 10-20 electrode placements, eye movement leads, and an EKG lead. Machine detection was used for spikes, rhythmical events and possible seizures, however, the entire record was manually reviewed by the attending electroencephalographer.    Findings   There is no well-formed occipital dominant rhythm, but when the patient is most alert there are some alpha frequencies in the background.  The background is slightly low voltage, and consists of theta and prominent low voltage beta frequencies, admixed with delta frequencies and some alpha. The background is variable and reactive.  At times during sleep there are a few sleep spindles and low voltage vertex waves, but sleep architecture is not prominent.    Epileptiform Abnormalities/Seizures  There are copious epileptiform discharges and seizures on the record.  At the start of the tracing there are over 7 seizures in 20 minutes, and then  at least 50 minutes without seizures following a large dose of lorazepam. Once transferred to the neurology floor, from 7 pm 9/13 to 7 am 9/14 there are at least 90 seizures, not including at least 240 one to four second runs of diffuse polyspikes without clinical signs. Seizures begin with low voltage diffuse mixed frequency polyspikes typically, 25-30 Hz. During some episodes these frequencies build slightly in amplitude and continue.  During many seizures, after an initial 1 - 2 second burst, there is a marked electrodecrement for 1 - 3 seconds consisting of extremely low voltage > 40Hz activity that builds into polyspikes.  Some discharges are slightly higher amplitude in the right or left hemisphere, or more paracentral; but all are diffuse and reflected in all channels. These seizures typically last 5 - 15, occasionally 20 seconds and most frequently are associated with tonic flexion of the shoulders, mild inward rotation of the upper extremities, sometimes mild neck flexion. During some brief seizures with the same electroencephalographic pattern, there are instead 1 or 2 myoclonic jerks, most typically in the lower extremities. During some evolving electroencephalographic patterns, there no overt clinical signs. Overnight, there are a couple of periods where no seizures occur for more than 30 minutes.    A variation of the ictal pattern occurs at 22:34:09.  There is diffuse higher amplitude 4.5 Hz slow waves, admixed with diffuse low voltage sharp beta, that evolves in frequency for 38 seconds and then develops into a fast frequency pattern typically of the other tonic seizures, ending 16 seconds later.  He develops tonic stiffening of his shoulders and upper extremities, identical to other tonic seizures on the record.  There are several other instances of several seconds of diffuse ~ 4 Hz rhythmic theta slowing, without clearly discernable preceding single spikes,  however, identical in morphology to the onset of the above described seizure, most consistent with poorly formed atypical spike/wave.    There were no isolated clearly focal epileptiform abnormalities.    Impression   This EEG is abnormal due to mild to moderate diffuse slowing, and copious brief generalized tonic seizures typcally lasting ~ 5 - 20 seconds.  At least 90 clear electroencephalographic seizures occurred overnight, with an additional 240 1 - 4 second runs of polyspikes.  During many seizures he had tonic stiffening, at times subtle; occasionally he had myoclonic jerks with a similar brief ictal EEG background, and some occurred without clear clinical signs of video. One event occurred with EEG appearance of poorly formed atypical spike wave discharges that evolved into a tonic seizure.    No generalized tonic-clonic (convulsive) seizures occurred.    Comments   Modest to high benzodiazepine administration did temporarily suppress his seizures last evening. Seizures are similar to those previously recorded in the epilepsy monitoring unit. Management was discussed with the neurology residents.    Kevin Graber, M.D.  Clinical Assistant Professor  Stanford Comprehensive Epilepsy Center     \n",
      "\n",
      "###Stanford Hospital and Clinics  Continuous Video EEG Report    Identifying Information   Test Date: 9/13 - 9/14/2008         Age: 80 Y   Name: Andrew Digirolamo    DOB: 9/8/1928               Sex: male   MedRec: 14455802   Sedation: None.  Alertness: lethargic   Activation: Sensory Stimulation   Indication: Rule out seizures.  Referring dept or MD: Reitz, Bruce MD.   History: 80yo man with ischemic cardiomyopathy, CHF, diabetes, chronic renal insufficiency (Cr 2.8 pre-op), chronic anemia, and aortic stenosis, POD#2 s/p AVR/CABG with SVG. Not awakening after surgery.  Meds: phenytoin, levetiracetam    CONDITIONS OF RECORDING: 24 hour video-EEG acquired with a digital Nihon-Kohden EEG machine, 24 channels, with Standard International System 10-20 electrode placements, eye movement leads, and an EKG lead. Machine detection was used for spikes, rhythmical events and possible seizures. These and other continuous segments of the EEG were then scanned by attending electroencephalographers.    Findings   Baseline EEG: The overall voltage was again low normal. There was no occipital dominant rhythm. The tracing was continuous, variable and consisted primarily of theta frequencies, admixed with some delta, low voltage beta and less common alpha frequencies.  There is very minor polymorphic additional slowing intermittently in the right frontocentral region, but much less marked than days prior and not as apparent as the record progresses. Normal sleep architecture is absent.    The patient is often agitated and loosened some electrodes during the day yesterday; electrodes were reattached by 6 pm yesterday. There are no seizures during this time, but technical issues preclude the possibility of detecting very subtle patterns (as described below).    Seizures  The prior well-formed ictal patterns have resolved.  At times when the patient is quiet, there are 2 - 3 episodes per hour of abrupt change in  the background with polymorphic fast theta discharges occurring in the right central region, which evolve in frequency to polymorphic delta admixed with some beta frequencies for up to 10 - 20 seconds. There are no well formed sharp or spike discharges, however, in the context of the prior recordings these pattern likely represent extremely focal seizures. These occur without correlated clinical signs. Other isolated clearly epileptiform discharges are not present.      Impression  This EEG recording is abnormal due to moderate to severe diffuse slowing, with superimposed subtle right frontocentral slowing which is improved in comparison to the previous recording.  Well-formed focal seizure patterns have resolved, however, there are instances with 2 - 3 episodes per hour of subtle focal change in the right central region most consistent with extremely focal seizures; there are times when this pattern is not found for several hours.      No generalized seizures have been recorded during any period of the continuous recording.    Comments   The diffuse slowing in this record is a non-specific indicator of diffuse cerebral dysfunction as seen in toxic, infectious or metabolic derangements, or other types of diffuse encephalopathy. Focal slowing is a nonspecific indicator of underlying cerebral dysfunction. Seizure patterns persist, but are markedly improved.     Results were communicated to the NeuroICU team today.      Kevin Graber, M.D.  Clinical Assistant Professor  Stanford Comprehensive Epilepsy Center  \n",
      "\n",
      "###Stanford Hospital and Clinics  Continuous Video EEG Report  (Day 5 of recording)    Identifying Information   Test Date: 9/14 - 9/15/2008         Age: 80 Y   Name: Andrew Digirolamo    DOB: 9/8/1928               Sex: male   MedRec: 14455802   Sedation: None.  Alertness: lethargic   Activation: Sensory Stimulation   Indication: Rule out seizures.  Referring dept or MD: Reitz, Bruce MD.   History: 80yo man with ischemic cardiomyopathy, CHF, diabetes, chronic renal insufficiency (Cr 2.8 pre-op), chronic anemia, and aortic stenosis, POD#2 s/p AVR/CABG with SVG. Not awakening after surgery.  Meds: phenytoin, levetiracetam    CONDITIONS OF RECORDING: 24 hour video-EEG acquired with a digital Nihon-Kohden EEG machine, 24 channels, with Standard International System 10-20 electrode placements, eye movement leads, and an EKG lead. Machine detection was used for spikes, rhythmical events and possible seizures. These and other continuous segments of the EEG were then scanned by attending electroencephalographers.    Findings   Baseline EEG: The overall voltage was again low normal. There was no occipital dominant rhythm. The tracing was continuous, variable and consisted primarily of theta frequencies, admixed with some delta, low voltage beta and less common alpha frequencies.  There is very minor polymorphic additional slowing intermittently in the right frontocentral region, but much less marked than days prior and not as apparent as the record progresses. Normal sleep architecture is absent. There are no well formed sharp or spike discharges.  Frequent episodes with stimulation have been captured, showing some change in the background to more faster and at times rhythmic activity. But no evolving epileptiform discharges were present through out the last 24 hour recording.    Impression  This EEG recording is abnormal due to   1. Moderate to severe diffuse slowing.     2. Well-formed focal seizure patterns have resolved.    3. No electrographic or clinical seizures were present through out the last 24 hour recording.    Comments   The diffuse slowing in this record is a non-specific indicator of diffuse cerebral dysfunction as seen in toxic, infectious or metabolic derangements, or other types of diffuse encephalopathy. Absence of clinical and electrographic seizures, presents of variability and even minor reactivity are a significant measure of improvement.     Results were communicated to the NeuroICU team today.    Stuckert, Erika MD  Epilepsy Fellow; pager#14358.      I studied the EEG data and discussed the findings with the fellow. I have reviewed the fellow's note and agree with the documented findings and their interpretation.     Josef Parvizi MD PhD  Epilepsy Attending   \n",
      "\n",
      "###Stanford Hospital and Clinics  Continuous Video EEG Report  Day 2 of Recording    Identifying Information   Test Date: 9/14-9/15/2008              Age: 45 Y   Name: Carlos H Rodriguez    DOB: 10/21/1962               Sex: male   Location: ED/F323   MedRec: 08178261   Sedation: lorazepam   Alertness: sleepy   Technical Notes: no problems   Activation: patient interaction  Indication: Monitor number of seizures.  Referring dept or MD: Sharon Sha, MD/Helen Bronte-Stewart M.D.  History: 45 year old male with chronic encephalopathy, symptomatic generalized epilepsy with history of extremely refractory tonic seizures, admitted with increased agitation over the last couple of days and increased seizure activity  Meds: Lamictal 300 mg BID, clonazepam 0.25 mg daily; given 4 mg lorazepam in ED; diltiazem, Prevacid, DSS, Celexa; also VNS and ketogenic diet per PEG  Last Seizure: Ongoing    CONDITIONS OF RECORDING: 24 hour video-EEG acquired with a digital Nihon-Kohden EEG machine, 24 channels, with Standard International System 10-20 electrode placements, eye movement leads, and an EKG lead. Machine detection was used for spikes, rhythmical events and possible seizures, however, the entire record was manually reviewed by the attending electroencephalographer.    Findings   There is no well-formed occipital dominant rhythm, but when the patient is most alert there are some alpha frequencies in the background.  The background is low voltage, and consists of theta and prominent low voltage beta frequencies, admixed with delta frequencies and some alpha. The background is variable and reactive.  At times during sleep there are a few sleep spindles and low voltage vertex waves, but sleep architecture is not prominent.    Epileptiform Abnormalities/Seizures  There are copious epileptiform discharges and seizures on the record.   1. Through out the 12 hour recording there were about 50 seizures. During  this episodes there is an onset of fast beta activity bilateral without clear localization. It evolves into a much faster frequencies with polymorphic polyspike formations, which are masked by significant myogenic artifact. The myogenic artifact is asymmetrical with right hemisphere predominance. Most discharges are slightly higher amplitude in the right or left hemisphere, or more paracentral; but all are diffuse and reflected in all channels. These seizures typically last 5 - 15 seconds, occasionally 20 seconds and most frequently are associated with tonic flexion of the shoulders, mild inward rotation of the upper extremities, sometimes mild neck flexion. During some brief seizures with the same electroencephalographic pattern, there are instead 1 or 2 myoclonic jerks, most typically in the lower extremities. During some evolving electroencephalographic patterns, there no overt clinical signs. Overnight, there are a couple of periods where no seizures occur for more than 30 minutes.  2. Multiple frequent bilateral brief polyspike formations lasting mostly for 1-2 seconds. At times associated with some myoclonic jerks, but mostly without any clinical correlates.  3. There are several seconds of diffuse ~ 4 Hz rhythmic theta slowing, without clearly discernable preceding single spikes, however, identical in morphology to the onset of the above described seizure, most consistent with poorly formed atypical spike/wave.  4. There were no isolated clearly focal epileptiform abnormalities.    Impression   This EEG is abnormal due to mild to moderate diffuse slowing, and copious brief generalized tonic seizures typically lasting ~ 5 - 20 seconds.  At least 50 clear electroencephalographic seizures occurred over a period of 12 hours, with additional very frequent 1 - 4 second runs of polyspikes.  During many seizures he had tonic stiffening, at times subtle;  occasionally he had myoclonic jerks with a similar brief ictal EEG background, and some occurred without clear clinical signs of video.   No generalized tonic-clonic (convulsive) seizures occurred.    Comments   Modest to high benzodiazepine administration did suppress his seizures last evening, but also most likely is the cause for the significant background fast beta activity through out the recording. Seizures are similar to those previously recorded in the epilepsy monitoring unit. Further EEG recording is needed to guide the medical management of his seizures.      I studied the EEG data and discussed the findings with the fellow. I have reviewed the fellow's note and agree with the documented findings and their interpretation.     Josef Parvizi MD PhD  Epilepsy Attending     \n",
      "\n",
      "###Stanford Hospital and Clinics  Continuous Video EEG Report  (Day 6 of recording)    Identifying Information   Test Date: 9/15 - 9/16/2008         Age: 80 Y   Name: Andrew Digirolamo    DOB: 9/8/1928               Sex: male   MedRec: 14455802   Sedation: None.  Alertness: lethargic   Activation: Sensory Stimulation   Indication: Rule out seizures.  Referring dept or MD: Reitz, Bruce MD.   History: 80yo man with ischemic cardiomyopathy, CHF, diabetes, chronic renal insufficiency (Cr 2.8 pre-op), chronic anemia, and aortic stenosis, POD#2 s/p AVR/CABG with SVG. Not awakening after surgery.  Meds: phenytoin, levetiracetam    CONDITIONS OF RECORDING: 24 hour video-EEG acquired with a digital Nihon-Kohden EEG machine, 24 channels, with Standard International System 10-20 electrode placements, eye movement leads, and an EKG lead. Machine detection was used for spikes, rhythmical events and possible seizures. These and other continuous segments of the EEG were then scanned by attending electroencephalographers.    Findings   Baseline EEG: The overall voltage was again low normal. There was no occipital dominant rhythm. The tracing was continuous, variable and consisted primarily of theta frequencies, admixed with some delta, low voltage beta and less common alpha frequencies.  There is very minor polymorphic additional slowing intermittently in the right frontocentral region, but much less marked than days prior and not as apparent as the record progresses. Normal sleep architecture is absent. There are no well formed sharp or spike discharges.  Frequent episodes with stimulation have been captured, showing some change in the background to more faster and at times semirhythmic activity. But no evolving epileptiform discharges were present through out the last 24 hour recording.  The EEG recording was significantly limited due to electrode and myogenic artifacts.    Neurobehavioral Events:   On 9/15/08 at 12:13PM a push button event occurred. The patient was captured to moan, act agitated , move bilateral shoulders. Eyes stayed closed, heavy breathing. The EEG recording showed only minimally faster activity for 1-2 seconds, followed by very significant electrode and myogenic artifact. No clear evolving epileptiform pattern was present.    Impression  This EEG recording is abnormal due to   1. Moderate to severe diffuse slowing.     2. No electrographic or clinical seizures were present through out the last 24 hour recording.    Comments   The diffuse slowing in this record is a non-specific indicator of diffuse cerebral dysfunction as seen in toxic, infectious or metabolic derangements, or other types of diffuse encephalopathy. Absence of clinical and electrographic seizures, presents of variability and even minor reactivity are a significant measure of improvement.     Results were communicated to the NeuroICU team today.    Stuckert, Erika MD  Epilepsy Fellow; pager#14358.    I studied the EEG data and discussed the findings with the fellow. I have reviewed the fellow's note and agree with the documented findings and their interpretation.     Josef Parvizi MD PhD  Epilepsy Attending       \n",
      "\n",
      "###Stanford Hospital and Clinics  Continuous Video EEG Report  Day 3 of Recording    Identifying Information   Test Date: 9/15-9/16/2008              Age: 45 Y   Name: Carlos H Rodriguez    DOB: 10/21/1962               Sex: male   Location: ED/F323   MedRec: 08178261   Sedation: lorazepam   Alertness: sleepy   Technical Notes: no problems   Activation: patient interaction  Indication: Monitor number of seizures.  Referring dept or MD: Sharon Sha, MD/Helen Bronte-Stewart M.D.  History: 45 year old male with chronic encephalopathy, symptomatic generalized epilepsy with history of extremely refractory tonic seizures, admitted with increased agitation over the last couple of days and increased seizure activity  Meds: Lamictal 300 mg BID, clonazepam 0.25 mg daily; given 4 mg lorazepam in ED; diltiazem, Prevacid, DSS, Celexa; also VNS and ketogenic diet per PEG  Last Seizure: Ongoing    CONDITIONS OF RECORDING: 24 hour video-EEG acquired with a digital Nihon-Kohden EEG machine, 24 channels, with Standard International System 10-20 electrode placements, eye movement leads, and an EKG lead. Machine detection was used for spikes, rhythmical events and possible seizures, however, the entire record was manually reviewed by the attending electroencephalographer.    Findings   Baseline EEG: The overall voltage was normal. The tracing was continuous. There is no well-formed occipital dominant rhythm, but when the patient is most alert there are some alpha frequencies in the background.  The background is normal voltage, and consists of theta and prominent large amount of low voltage beta frequencies, admixed with delta frequencies and some alpha. The background is variable and reactive.  No normal sleep pattern was present.     Epileptiform Abnormalities/Seizures  There are significantly less frequent epileptiform discharges and seizures on the record.   1. Through out the 12 hour recording there were only 4-5 clear tonic  seizures. During this episodes there is an onset of fast beta activity bilateral without clear localization. It evolves into a much faster frequencies with polyspike formations, followed by significant myogenic artifact. The myogenic artifact is asymmetrical with right hemisphere predominance. Most discharges are slightly higher amplitude in the right or left hemisphere, or more paracentral; but all are diffuse and reflected in all channels. These seizures typically last 5 - 15 seconds and most frequently are associated with tonic flexion of the shoulders, mild inward rotation of the upper extremities, sometimes mild neck flexion. During some brief seizures with the same electroencephalographic pattern, there are instead 1 or 2 myoclonic jerks, most typically in the lower extremities. During some evolving electroencephalographic patterns, there no overt clinical signs.   2. Less frequent bilateral brief periods of polyspike formations lasting mostly for 1-2 seconds. At times associated with some myoclonic jerks, but mostly without any clinical correlates.  3. There are several seconds of diffuse ~ 4 Hz rhythmic theta slowing, without clearly discernable preceding single spikes, without any clinical correlates.  4. There were no isolated clearly focal epileptiform abnormalities.    Impression   This EEG is abnormal due to mild to moderate diffuse slowing, and much less frequent generalized tonic seizures. Overall only 4-5 clear seizure events during a 12 hour recording.  Occasionally myoclonic jerks with polyspike formation.   No generalized tonic-clonic (convulsive) seizures occurred.    Comments   Significantly improved EEG recording within the past 24 hours. Less frequent seizure events and epileptiform discharges were present. Continue with current antiepileptic medications, with the plan to start taper ativan tomorrow. Further EEG recording is needed to guide the medical management of his seizures.       STUCKERT, ERIKA 1:42 PM 9/16/2008   Epilepsy Fellow; pager#14358.    I studied the EEG data and discussed the findings with the fellow. I have reviewed the fellow's note and agree with the documented findings and their interpretation.     Josef Parvizi MD PhD  Epilepsy Attending   \n",
      "\n",
      "###Stanford Hospital and Clinics  Continuous Video EEG Report  Day 5 of Recording    Identifying Information   Test Date: 9/16-9/17/2008              Age: 45 Y   Name: Carlos H Rodriguez    DOB: 10/21/1962               Sex: male   Location: ED/F323   MedRec: 08178261   Sedation: lorazepam   Alertness: sleepy   Technical Notes: no problems   Activation: patient interaction  Indication: Monitor number of seizures.  Referring dept or MD: Sharon Sha, MD/Helen Bronte-Stewart M.D.  History: 45 year old male with chronic encephalopathy, symptomatic generalized epilepsy with history of extremely refractory tonic seizures, admitted with increased agitation over the last couple of days and increased seizure activity  Meds: Lamictal 300 mg BID, clonazepam 0.25 mg daily; given 4 mg lorazepam in ED; diltiazem, Prevacid, DSS, Celexa; also VNS and ketogenic diet per PEG      CONDITIONS OF RECORDING: 24 hour video-EEG acquired with a digital Nihon-Kohden EEG machine, 24 channels, with Standard International System 10-20 electrode placements, eye movement leads, and an EKG lead. Machine detection was used for spikes, rhythmical events and possible seizures, however, the entire record was manually reviewed by the attending electroencephalographer.    Findings   Baseline EEG: The overall voltage was normal. The tracing was continuous. There is frequent well-formed occipital dominant rhythm at 13-14Hz.  The background is normal voltage, and consists of theta and prominent large amount of low voltage beta frequencies, admixed with delta frequencies. The background is variable and reactive.  Poorly formed sleep pattern including vertex waves and sleep spindles were present.     Epileptiform Abnormalities/Seizures  There are significantly less frequent epileptiform discharges and seizures on the record.   1. Through out the 12 hour recording there were only 3 clear tonic  seizures. They were much shorter in duration with maximum of 25 seconds. Again during these episodes there is an onset of fast beta activity bilateral without clear localization, evolving into much faster frequencies with polyspike formations, followed by significant myogenic artifact. The myogenic artifact is asymmetrical with right hemisphere predominance. Most discharges are slightly higher amplitude in the right or left hemisphere, or more paracentral; but all are diffuse and reflected in all channels. These seizures are associated with tonic flexion of the shoulders, mild inward rotation of the upper extremities, sometimes mild neck flexion and leg extension. There some electroencephalographic pattern, there are instead 1 or 2 myoclonic jerks, most typically in the lower extremities. During some evolving electroencephalographic patterns, there no overt clinical signs.   2. Less frequent bilateral brief periods of polyspike formations lasting mostly for 1-2 seconds. At times associated with some myoclonic jerks, but mostly without any clinical correlates.  3. There are several seconds of diffuse ~ 4 Hz rhythmic theta slowing, without clearly discernable preceding single spikes, with only once having right shoulder extension but otherwise without any clinical correlates.  4. There were no isolated clearly focal epileptiform abnormalities.    Impression   This EEG is abnormal due to mild to moderate diffuse slowing, and much less frequent generalized tonic seizures. Overall only 3 clear seizure events during a 12 hour recording.  Occasionally myoclonic jerks with polyspike formation.   No generalized tonic-clonic (convulsive) seizures occurred.    Comments   Significantly improved EEG recording within the past 24 hours. Less frequent seizure events and epileptiform discharges were present. Continue with current antiepileptic medications. The seizure frequency has returned  to the patients baseline according to his mother.      STUCKERT, ERIKA 9:56 AM 9/17/2008   Epilepsy Fellow; pager#14358.    I studied the EEG data and discussed the findings with the fellow. I have reviewed the fellow's note and agree with the documented findings and their interpretation.     Josef Parvizi MD PhD  Epilepsy Attending   \n",
      "\n",
      "###Stanford Hospital and Clinics  Continuous video-EEG Report  (Day 2 of recording)      Identifying Information   EEG Number = L08-329  Test Date: 9/26/2008 -  9/27/2008            Age: 19 Y   Name: Charlene Felton    DOB: 9/25/1989               Sex: female   Location: F333A  MedRec: 21128822   Sedation: None.   Alertness: awake and asleep   Activation: Sensory Stimulation   Indication: Rule out seizures.  Referring dept or MD: Andreasson, K MD.   History:19 year old female who reports a 1.5 to 2 year history of violent and aggressive nightmares and daytime hallucinations.  Meds: No AED.  Last Event: 09/22/08.    CONDITIONS OF RECORDING: 24 hour video-EEG acquired with a digital Nihon-Kohden EEG machine, 24 channels, with Standard International System 10-20 electrode placements, eye movement leads, and an EKG lead. Machine detection was used for spikes, rhythmical events and possible seizures. These and other continuous segments of the EEG were then scanned by attending electroencephalographers.    Findings   In the maximally alert state, there is an occipital dominant rhythm of 11-12 Hz, which is reactive to eye opening and eye closure.  More anteriorly the background consists of an admixture of alpha and low voltage beta frequencies.  The background is symmetric aside from occasional instances of polymorphic left temporal slowing (more common during sleep). Drowsiness is also captured with additional theta to the background.  Sleep is also present on the record, and includes appropriate slowing, POSTS, vertex sharp waves, K-complexes and sleep spindles.  Examples of REM sleep are also present.    Interictal Abnormalities  During stage II sleep, there are frequent left anterior temporal epileptiform (T1/T3) sharp and slow wave complexes. These waveforms are occasionally complex and rare spikes in this region.  During stage II sleep, there several runs of these epileptiform discharges (left anterior  temporal) occurring per hour consisting of 1.5 - 2 Hz rhythmic-semirhythmic discharges, lasting 4 - 9 seconds.  See for example 9/27/2008: 00:56:34 (8 sec), 00:57:38 (7 sec), 2:44:15 (8 sec), 2:44:46 (9 sec), 6:07:11 (9 sec); the run at 2:44:46 demonstrates very minor evolution of waveform morphology. The patient remains asleep without clinical signs during these and other epileptiform runs.          Neurobehavioral Events   None.    Impression   This video EEG record is abnormal due to intermittent left temporal lobe slowing, and left anterior temporal epileptiform discharges activated by sleep.  During sleep she has several second runs of epileptiform discharges lasting up to ~ 9 seconds without clinical signs.  There are no unequivocal seizures on this record.    Comments   Focal epileptiform discharges generally indicate risk for focal-onset seizures, however, correlation to appropriate history and clinical findings is critical for patient management.  Focal slowing in the same region as epileptiform abnormalities is a nonspecific indicator of underlying physiological dysfunction.      Kevin Graber, MD  Clinical Assistant Professor  Stanford Comprehensive Epilepsy Center           1:57 PM 9/27/2008         \n",
      "\n",
      "1429Report  Identifying Information   EEG Number \n",
      "\n",
      "###Stanford Hospital and Clinics  Continuous video-EEG Report  (Day 3 of recording)      Identifying Information   EEG Number = L08-329  Test Date: 9/27/2008 -  9/28/2008            Age: 19 Y   Name: Charlene Felton    DOB: 9/25/1989               Sex: female   Location: F333A  MedRec: 21128822   Sedation: None.   Alertness: awake and asleep   Activation: Sensory Stimulation   Indication: Rule out seizures.  Referring dept or MD: Andreasson, K MD.   History:19 year old female who reports a 1.5 to 2 year history of violent and aggressive nightmares and daytime hallucinations.  Meds: No AED.  Last Event: 09/22/08.    CONDITIONS OF RECORDING: 24 hour video-EEG acquired with a digital Nihon-Kohden EEG machine, 24 channels, with Standard International System 10-20 electrode placements, eye movement leads, and an EKG lead. Machine detection was used for spikes, rhythmical events and possible seizures. These and other continuous segments of the EEG were then scanned by attending electroencephalographers.    Findings   The tracing is continuous, variable, and symmetric.  There is a posterior dominant rhythm of 10-11 Hz, which is reactive to eye opening and eye closure.  More anteriorly the background consists of an admixture of alpha and low voltage beta frequencies.  Drowsiness is also captured with additional theta to the background.  Sleep is also present on the record, and includes appropriate slowing, POSTS, vertex sharp waves, K-complexes and sleep spindles.    There is intermittent polymorphic left temporal slowing (more common during sleep). During sleep, there continue to be are frequent left anterior temporal epileptiform (T1/T3) sharp and slow wave complexes. There are several runs of these epileptiform discharges (left anterior temporal) occurring per hour consisting of 1.5 - 2 Hz rhythmic-semirhythmic discharges.  There is no overt clinical change during these runs and the patient remains sleeping.         Neurobehavioral Events   None.    Impression   This video EEG record is abnormal due to intermittent left temporal lobe slowing, and left anterior temporal sharp transients/ sharp waves activated by sleep.  During sleep, there are several second runs of these discharges without clinical signs.  No seizures were captured.    Comments   Focal epileptiform transients generally indicate risk for focal-onset seizures, however, correlation to appropriate history and clinical findings is critical for this patient's management.  Focal slowing in the same region as epileptiform abnormalities is a nonspecific indicator of underlying physiological dysfunction.      Juliana Lockman, MD  Epilepsy Fellow, pager #14351      I studied the EEG data and discussed the findings with the fellow. I have reviewed the fellow's note and agree with the documented findings and their interpretation.     Josef Parvizi MD PhD  Epilepsy Attending     \n",
      "\n",
      "1441Report                                                                       Identifying Information   EEG Number \n",
      "\n"
     ]
    }
   ],
   "source": [
    "# normal versus abn\n",
    "from __future__ import print_function, division, absolute_import\n",
    "\n",
    "import sys\n",
    "import csvkit as csv\n",
    "import re\n",
    "\n",
    "file_name = \"SHC_ALL_NOTES_FILTERED.csv\"    \n",
    "out_file = open(\"SHC_ALL_NOTES_FILTERED2.csv\",'w')\n",
    "eegImprPattern = r'(?:\\\n",
    "Impression and Summary:|IMPRESSION and SUMMARY:|IMPRESSION and CONCLUSIONS:\\\n",
    "|IMPRESSION|IMPRESSIONS|IMPRESSION:|Impression:|IMPRESSIONS:|INTERPRETATIONS:|INTERPRETATION:\\\n",
    "|CONCLUSION:|CONCLUSIONS:|Conclusion:\\\n",
    "|Summary|Summary:|SUMMARY:|SUMMARY)\\s*(?P<eegno>[\\w\\d \\.\\-\\(\\),]+)'\n",
    "re_eegno = re.compile(eegImprPattern, re.DOTALL|re.MULTILINE)\n",
    "i=1\n",
    "        \n",
    "with open(file_name) as cf: \n",
    "    reader = csv.DictReader(cf) \n",
    "    outfieldnames = reader.fieldnames \n",
    "    outfieldnames.append('impression')     \n",
    "    writer = csv.DictWriter(out_file, fieldnames=outfieldnames, restval='*') \n",
    "    writer.writeheader()\n",
    "    for line in reader:\n",
    "        i += 1\n",
    "        eeg_no=\"\"\n",
    "        m = re_eegno.search(line['note'])\n",
    "        if m:\n",
    "            eeg_no = m.group('eegno')\n",
    "            if \"normal\" in eeg_no.lower():\n",
    "                line['impression'] = \"normal\"\n",
    "            elif \"abnormal\" in eeg_no.lower():\n",
    "                line['impression'] = \"abnormal\"\n",
    "            elif \"status\" in eeg_no.lower():\n",
    "                line['impression'] = \"abnormal\"\n",
    "            elif \"seizure\" in eeg_no.lower() or \"nonepileptic\" in eeg_no.lower():\n",
    "                if \"seizure\" in eeg_no.lower() and \"nonepileptic\" in eeg_no.lower():\n",
    "                    line['impression'] = \"unknown\"\n",
    "                    print(repr(i) +  eeg_no)\n",
    "                    print()\n",
    "                elif \"nonepileptic\" in eeg_no.lower():\n",
    "                    line['impression'] = \"normal\"\n",
    "                elif \"seizure\" in eeg_no.lower():\n",
    "                    line['impression'] = \"abnormal\"\n",
    "            elif \"slowing\" in eeg_no.lower():\n",
    "                line['impression'] = \"abnormal\"\n",
    "            else: \n",
    "                line['impression'] = eeg_no\n",
    "                print(repr(i) +  eeg_no)\n",
    "                print()\n",
    "        else:\n",
    "            if \"preliminary\" in line['note'].lower():\n",
    "                line['impression'] = \"prelim\"\n",
    "            elif \"prelim\" in line['note'].lower():\n",
    "                line['impression'] = \"prelim\"\n",
    "            else:\n",
    "                print(\"###\" + line['note'])\n",
    "                print()\n",
    "            \n",
    "        #print(type(line['Note']))\n",
    "        #print(\"line %s\" + notebody[:100], i )\n",
    "        #print()\n",
    "        if i > 1456:\n",
    "            break\n",
    "    #print(eeg_no)    \n",
    "    #if (i>600):\n",
    "    #    break\n",
    "\n",
    "\n",
    "    \n"
   ]
  },
  {
   "cell_type": "code",
   "execution_count": 32,
   "metadata": {
    "collapsed": false
   },
   "outputs": [],
   "source": [
    "# -*- coding: utf-8 -*- \n",
    "from __future__ import print_function, division, absolute_import\n",
    "\n",
    "import sys\n",
    "import re\n",
    "\n",
    "import csvkit as csv\n",
    "\n",
    "allReports = \"\"\n",
    "with open(\"SHC_ALL_NOTES_FILTERED.csv\") as cf:\n",
    "    reader = csv.DictReader(cf)\n",
    "    for line in reader:\n",
    "        allReports += line['note'] + \" \\n\\n\"\n",
    "        # print(desc)\n",
    "        # now manipulate the note body\n",
    "        \n",
    "f = open(\"allReports.txt\", \"w\")\n",
    "f.write(allReports)\n",
    "f.close()"
   ]
  },
  {
   "cell_type": "code",
   "execution_count": 33,
   "metadata": {
    "collapsed": false
   },
   "outputs": [
    {
     "data": {
      "text/plain": [
       "<matplotlib.axes._subplots.AxesSubplot at 0x5fb404e0>"
      ]
     },
     "execution_count": 33,
     "metadata": {},
     "output_type": "execute_result"
    }
   ],
   "source": [
    "#make a histogram of the most commonly used words in all EEG reports\n",
    "from collections import Counter\n",
    "import pandas\n",
    "import matplotlib.pyplot as plt\n",
    "\n",
    "\n",
    "words = allReports.split()\n",
    "letter_counts = Counter(words)\n",
    "df = pandas.DataFrame.from_dict(letter_counts, orient='index')\n",
    "df = df.sort_values(by=0, ascending=0)\n",
    "df1 = df[:20]\n",
    "plt.show(block=True)\n",
    "df1.plot(kind='bar')"
   ]
  },
  {
   "cell_type": "code",
   "execution_count": 34,
   "metadata": {
    "collapsed": false
   },
   "outputs": [
    {
     "name": "stdout",
     "output_type": "stream",
     "text": [
      "epileptiform discharges; standard international; electrode placements;\n",
      "identifying information; stanford hospital; technical notes; possible\n",
      "seizures; technically adequate; report identifying; movement leads;\n",
      "referring dept; eye movement; ekg lead; test dates; adequate\n",
      "activation; administered alertness; sensory stimulation; diffuse\n",
      "slowing; single channel; digital nihon-kohden\n"
     ]
    }
   ],
   "source": [
    "# most common bigrams\n",
    "import nltk\n",
    "from nltk import bigrams\n",
    "report = allReports.lower()\n",
    "reportNLTK = nltk.Text(nltk.tokenize.word_tokenize(report))\n",
    "reportNLTK.collocations()"
   ]
  },
  {
   "cell_type": "code",
   "execution_count": 35,
   "metadata": {
    "collapsed": false
   },
   "outputs": [
    {
     "name": "stdout",
     "output_type": "stream",
     "text": [
      "seizure . The record was continuous , and an EKG lead . The record was "
     ]
    }
   ],
   "source": [
    "# generate some eeg reports for me by sequencing bigrams\n",
    "def generate_model(cfdist, word, num=15):\n",
    "    for i in range(num):\n",
    "        print(word, end=' ')\n",
    "        word = cfdist[word].max()\n",
    "\n",
    "import nltk\n",
    "from nltk.corpus import stopwords\n",
    "\n",
    "#text = nltk.corpus.genesis.words('english-kjv.txt')\n",
    "#print(type(text))\n",
    "corpus = nltk.corpus.reader.plaintext.PlaintextCorpusReader(\".\", \"allReports.txt\")\n",
    "words=corpus.words()\n",
    "#get rid of stop words\n",
    "#filtered_words = [word for word in words if word not in stopwords.words('english')]\n",
    "#words = filtered_words\n",
    "\n",
    "#print(type(words))\n",
    "bigrams = nltk.bigrams(words)\n",
    "cfd = nltk.ConditionalFreqDist(bigrams)\n",
    "generate_model(cfd, 'seizure')\n",
    "#filtered_words = [word for word in word_list if word not in stopwords.words('english')]"
   ]
  },
  {
   "cell_type": "code",
   "execution_count": 43,
   "metadata": {
    "collapsed": false,
    "scrolled": false
   },
   "outputs": [
    {
     "name": "stdout",
     "output_type": "stream",
     "text": [
      "epileptic events and an EKG lead . The record was continuous , and an EKG \n",
      "slow activity . The record was continuous , and an EKG lead . The record \n",
      "discharge . The record was continuous , and an EKG lead . The record was \n",
      "periodic discharges . The record was continuous , and an EKG lead . The record \n",
      "impression . The record was continuous , and an EKG lead . The record was \n",
      "background consisted of the EEG machine , and an EKG lead . The record was \n",
      "infantile spasms , and an EKG lead . The record was continuous , and an \n",
      "neonatal seizures . The record was continuous , and an EKG lead . The record \n",
      "seizure . The record was continuous , and an EKG lead . The record was \n",
      "seizures . The record was continuous , and an EKG lead . The record was \n",
      "This is a digital Nihon - 20 electrode placements , and an EKG lead . \n",
      "electrographic seizures . The record was continuous , and an EKG lead . The record \n",
      "indicates cerebral dysfunction from a digital Nihon - 20 electrode placements , and an EKG \n",
      "represent a digital Nihon - 20 electrode placements , and an EKG lead . The \n",
      "generalized tonic - 20 electrode placements , and an EKG lead . The record was \n",
      "slowing . The record was continuous , and an EKG lead . The record was \n",
      "focal slowing . The record was continuous , and an EKG lead . The record \n",
      "3 / s spindles . The record was continuous , and an EKG lead . \n",
      "hz . The record was continuous , and an EKG lead . The record was \n",
      "second which was continuous , and an EKG lead . The record was continuous , \n",
      "button . The record was continuous , and an EKG lead . The record was \n",
      "cry and an EKG lead . The record was continuous , and an EKG lead \n",
      "clonic seizure . The record was continuous , and an EKG lead . The record \n",
      "tonic - 20 electrode placements , and an EKG lead . The record was continuous \n",
      "partial seizures . The record was continuous , and an EKG lead . The record \n",
      "sleep ( TYLENOL ) tablet 1 - 20 electrode placements , and an EKG lead \n",
      "vertex waves , and an EKG lead . The record was continuous , and an \n",
      "temporal region . The record was continuous , and an EKG lead . The record \n",
      "frontal region . The record was continuous , and an EKG lead . The record \n",
      "occipital sharp waves , and an EKG lead . The record was continuous , and \n",
      "alpha and an EKG lead . The record was continuous , and an EKG lead \n",
      "beta activity . The record was continuous , and an EKG lead . The record \n",
      "delta activity . The record was continuous , and an EKG lead . The record \n",
      "theta activity . The record was continuous , and an EKG lead . The record \n",
      "sudden onset seizures . The record was continuous , and an EKG lead . The \n",
      "waxing and an EKG lead . The record was continuous , and an EKG lead \n",
      "waning mental status epilepticus . The record was continuous , and an EKG lead . "
     ]
    }
   ],
   "source": [
    "generate_model(cfd, 'epileptic')\n",
    "print(\"\")\n",
    "generate_model(cfd, 'slow')\n",
    "print(\"\")\n",
    "generate_model(cfd, 'discharge')\n",
    "print(\"\")\n",
    "generate_model(cfd, 'periodic')\n",
    "print(\"\")\n",
    "generate_model(cfd, 'impression')\n",
    "print(\"\")\n",
    "generate_model(cfd, 'background')\n",
    "print(\"\")\n",
    "generate_model(cfd, 'infantile')\n",
    "print(\"\")\n",
    "generate_model(cfd, 'neonatal')\n",
    "print(\"\")\n",
    "generate_model(cfd, 'seizure')\n",
    "print(\"\")\n",
    "generate_model(cfd, 'seizures')\n",
    "print(\"\")\n",
    "generate_model(cfd, 'This')\n",
    "print(\"\")\n",
    "generate_model(cfd, 'electrographic')\n",
    "print(\"\")\n",
    "generate_model(cfd, 'indicates')\n",
    "print(\"\")\n",
    "generate_model(cfd, 'represent')\n",
    "print(\"\")\n",
    "generate_model(cfd, 'generalized')\n",
    "print(\"\")\n",
    "generate_model(cfd, 'slowing')\n",
    "print(\"\")\n",
    "generate_model(cfd, 'focal')\n",
    "print(\"\")\n",
    "generate_model(cfd, '3')\n",
    "print(\"\")\n",
    "generate_model(cfd, 'hz')\n",
    "print(\"\")\n",
    "generate_model(cfd, 'second')\n",
    "print(\"\")\n",
    "generate_model(cfd, 'button')\n",
    "print(\"\")\n",
    "generate_model(cfd, 'cry')\n",
    "print(\"\")\n",
    "generate_model(cfd, 'clonic')\n",
    "print(\"\")\n",
    "generate_model(cfd, 'tonic')\n",
    "print(\"\")\n",
    "generate_model(cfd, 'partial')\n",
    "print(\"\")\n",
    "generate_model(cfd, 'sleep')\n",
    "print(\"\")\n",
    "generate_model(cfd, 'vertex')\n",
    "print(\"\")\n",
    "generate_model(cfd, 'temporal')\n",
    "print(\"\")\n",
    "generate_model(cfd, 'frontal')\n",
    "print(\"\")\n",
    "generate_model(cfd, 'occipital')\n",
    "print(\"\")\n",
    "#generate_model(cfd, 'hypsarrythmia')\n",
    "#print(\"\")\n",
    "generate_model(cfd, 'alpha')\n",
    "print(\"\")\n",
    "generate_model(cfd, 'beta')\n",
    "print(\"\")\n",
    "generate_model(cfd, 'delta')\n",
    "print(\"\")\n",
    "generate_model(cfd, 'theta')\n",
    "print(\"\")\n",
    "generate_model(cfd, 'sudden')\n",
    "print(\"\")\n",
    "generate_model(cfd, 'waxing')\n",
    "print(\"\")\n",
    "generate_model(cfd, 'waning')"
   ]
  },
  {
   "cell_type": "code",
   "execution_count": 36,
   "metadata": {
    "collapsed": false
   },
   "outputs": [
    {
     "data": {
      "text/plain": [
       "0.7997838973480851"
      ]
     },
     "execution_count": 36,
     "metadata": {},
     "output_type": "execute_result"
    }
   ],
   "source": [
    "#fraction of words in text that are not in the stopword list\n",
    "def content_fraction(text):\n",
    "     stopwords = nltk.corpus.stopwords.words('english')\n",
    "     content = [w for w in text if w.lower() not in stopwords]\n",
    "     return len(content) / len(text)\n",
    "\n",
    "content_fraction(words)"
   ]
  },
  {
   "cell_type": "markdown",
   "metadata": {
    "collapsed": false
   },
   "source": [
    "#tutorial example of classification\n",
    "import random\n",
    "from nltk.corpus import movie_reviews\n",
    "documents = [(list(movie_reviews.words(fileid)), category)\n",
    "              for category in movie_reviews.categories()\n",
    "              for fileid in movie_reviews.fileids(category)]\n",
    "random.shuffle(documents)\n",
    "\n",
    "all_words = nltk.FreqDist(w.lower() for w in movie_reviews.words())\n",
    "word_features = list(all_words)[:2000] \n",
    "\n",
    "def document_features(document): \n",
    "    document_words = set(document) \n",
    "    features = {}\n",
    "    for word in word_features:\n",
    "        features['contains({})'.format(word)] = (word in document_words)\n",
    "    return features\n",
    "\n",
    "print(document_features(movie_reviews.words('pos/cv957_8737.txt'))) "
   ]
  },
  {
   "cell_type": "markdown",
   "metadata": {
    "collapsed": false
   },
   "source": [
    "#tutorial continued\n",
    "featuresets = [(document_features(d), c) for (d,c) in documents]\n",
    "train_set, test_set = featuresets[100:], featuresets[:100]\n",
    "classifier = nltk.NaiveBayesClassifier.train(train_set)\n",
    "print(nltk.classify.accuracy(classifier, test_set)) \n",
    "classifier.show_most_informative_features(5)"
   ]
  },
  {
   "cell_type": "markdown",
   "metadata": {
    "collapsed": false
   },
   "source": [
    "#tutorial\n",
    "#what does it containt \n",
    "movie_reviews.categories()\n",
    "movie_reviews.fileids('neg')\n",
    "movie_reviews.categories()\n",
    "i = 1\n",
    "for doc in documents:\n",
    "    print(str(i) + \": \"+ doc[1])\n",
    "    i += 1"
   ]
  },
  {
   "cell_type": "markdown",
   "metadata": {
    "collapsed": false
   },
   "source": [
    "from nltk.corpus import names\n",
    "labeled_names = ([(name, 'male') for name in names.words('male.txt')] +\n",
    "[(name, 'female') for name in names.words('female.txt')])\n",
    "import random\n",
    "random.shuffle(labeled_names)\n",
    "def gender_features2(name):\n",
    "    features = {}\n",
    "    features[\"first_letter\"] = name[0].lower()\n",
    "    features[\"last_letter\"] = name[-1].lower()\n",
    "    for letter in 'abcdefghijklmnopqrstuvwxyz':\n",
    "        features[\"count({})\".format(letter)] = name.lower().count(letter)\n",
    "        features[\"has({})\".format(letter)] = (letter in name.lower())\n",
    "    return features\n",
    "\n",
    "featuresets = [(gender_features2(n), gender) for (n, gender) in labeled_names]\n",
    "print(featuresets[1])\n"
   ]
  },
  {
   "cell_type": "markdown",
   "metadata": {
    "collapsed": false
   },
   "source": [
    "exclude = set(string.punctuation)\n",
    "print(exclude)"
   ]
  },
  {
   "cell_type": "code",
   "execution_count": null,
   "metadata": {
    "collapsed": false,
    "scrolled": true
   },
   "outputs": [],
   "source": [
    "#find the most common word associated with the interpretation result (abnormal versus normal)\n",
    "#should take 10 mins\n",
    "import random\n",
    "import string\n",
    "from nltk.corpus import stopwords\n",
    "documents = list()\n",
    "notebody = list()\n",
    "result = list()\n",
    "exclude = set(string.punctuation)\n",
    "\n",
    "with open(\"lpch_eeg_reports_interp_impression.csv\") as cf:\n",
    "    reader = csv.DictReader(cf)\n",
    "    for line in reader:\n",
    "        notebody = line['note'].lower()\n",
    "        notebody = ''.join(ch for ch in notebody if ch not in exclude)\n",
    "        notebody = notebody.split() \n",
    "        notebody = [word for word in notebody if word not in stopwords.words('english')]\n",
    "        category = line['impression']\n",
    "        if (category == 'abnormal' or category == 'normal'):\n",
    "            documents.append((list(notebody), category))\n",
    "\n",
    "#documents[1]\n",
    "        # print(desc)\n",
    "        # now manipulate the note body\n",
    "\n",
    "random.shuffle(documents)\n",
    "#documents[1]\n"
   ]
  },
  {
   "cell_type": "code",
   "execution_count": null,
   "metadata": {
    "collapsed": false,
    "scrolled": true
   },
   "outputs": [],
   "source": [
    "i = 1\n",
    "for doc in documents:\n",
    "    print(doc[0])\n",
    "    i += 1\n",
    "    break"
   ]
  },
  {
   "cell_type": "code",
   "execution_count": null,
   "metadata": {
    "collapsed": false
   },
   "outputs": [],
   "source": [
    "# constructing a list of the 2000 most frequent words in the overall corpus\n",
    "import nltk\n",
    "words = list()\n",
    "for doc in documents:\n",
    "    words += doc[0] \n",
    "    \n",
    "#print(words)    \n",
    "all_words = nltk.FreqDist(w for w in words)\n",
    "word_features = list(all_words)[:4000]\n",
    "\n",
    "def document_features(document):\n",
    "    document_words = set(document)\n",
    "    features = {}\n",
    "    for word in word_features:\n",
    "        features['contains({})'.format(word)] = (word in document_words)\n",
    "    return features\n",
    "\n",
    "for (d,c) in documents:\n",
    "    print(c)\n",
    "    "
   ]
  },
  {
   "cell_type": "code",
   "execution_count": null,
   "metadata": {
    "collapsed": false
   },
   "outputs": [],
   "source": [
    "featuresets = [(document_features(d), c) for (d,c) in documents]\n",
    "train_set, test_set = featuresets[500:], featuresets[:500]\n",
    "classifier = nltk.NaiveBayesClassifier.train(train_set)\n",
    "print(nltk.classify.accuracy(classifier, test_set)) \n",
    "classifier.show_most_informative_features(30)"
   ]
  },
  {
   "cell_type": "code",
   "execution_count": null,
   "metadata": {
    "collapsed": false
   },
   "outputs": [],
   "source": [
    "for (d) in documents:\n",
    "    print(d)\n",
    "    break"
   ]
  },
  {
   "cell_type": "code",
   "execution_count": null,
   "metadata": {
    "collapsed": true
   },
   "outputs": [],
   "source": [
    "\n"
   ]
  },
  {
   "cell_type": "code",
   "execution_count": null,
   "metadata": {
    "collapsed": true
   },
   "outputs": [],
   "source": []
  },
  {
   "cell_type": "markdown",
   "metadata": {
    "collapsed": false
   },
   "source": [
    "# in order to load a corpus, reports must be in separate files // don't need to run this again\n",
    "\n",
    "capture_eegno = r'(?:DATE OF SERVICE:|STUDY DATE:|DATE EEG:|Date:|Service Date:|Study date|Study dates|DATE OF EEG:|start|T:|test dates:|Date of study:|Exam date|exam date:)\\s*(?P<eegno>[\\d/-]+)\\s*'\n",
    "capture_eegno1 = r'(?:Date:|Study date |Study date:)\\s*(?P<eegno>(?:Jan|Feb|Mar|Apr|May|Jun|July|Aug|Sep|Oct|Nov|Dec)\\s*[,\\s\\d/-]+)(?:[a-z]+)'\n",
    "capture_eegno2 = r'(?<!DOB:  )(?P<eegno>[\\d]+/[\\d]+/[\\d]+)' #DOB:  10/04/1993   \n",
    "eegDateRange = r'(?P<eegno>[\\d/]+-[\\d/]+)'\n",
    "eegDateStrict = r'(?P<eegno>[\\d]+/[\\d]+/[\\d]+)'\n",
    "#capture_eegno = r'(?P<eegno>[0-9]+)\\s*'\n",
    "re_eegno = re.compile(capture_eegno, re.DOTALL|re.MULTILINE|re.IGNORECASE)\n",
    "re_eegno1 = re.compile(capture_eegno1, re.DOTALL|re.MULTILINE|re.IGNORECASE)\n",
    "re_eegno2 = re.compile(capture_eegno2, re.DOTALL|re.MULTILINE|re.IGNORECASE)\n",
    "eegDateRange = re.compile(eegDateRange, re.DOTALL|re.MULTILINE|re.IGNORECASE)\n",
    "eegDateStrict = re.compile(eegDateStrict, re.DOTALL|re.MULTILINE|re.IGNORECASE)\n",
    "\n",
    "out_file = open(\"lpch_eeg_reports_interp_date_impression.csv\",'w')\n",
    "\n",
    "i=2\n",
    "with open(\"lpch_eeg_reports_interp_impression.csv\") as cf:\n",
    "    reader = csv.DictReader(cf)\n",
    "    outfieldnames = reader.fieldnames\n",
    "    outfieldnames.append('date')\n",
    "    writer = csv.DictWriter(out_file, fieldnames=outfieldnames, restval='***')\n",
    "    writer.writeheader()\n",
    "    \n",
    "    for line in reader:\n",
    "        eeg_no=\"\"\n",
    "        m = re_eegno.search(line['note'])\n",
    "        print(str(i) + \": \", end='')\n",
    "        #print(str(i) + \": \" + str(type(m)), end='')\n",
    "        if m:\n",
    "            eeg_no = m.group('eegno')\n",
    "            #print(eeg_no)\n",
    "        else:\n",
    "            m = re_eegno1.search(line['note'])\n",
    "            if m:\n",
    "                eeg_no = m.group('eegno')\n",
    "                #print(eeg_no)\n",
    "            else:\n",
    "                #print(\"!!!!!!!!!!!\")\n",
    "                for match in re.finditer(capture_eegno2,line['note']):\n",
    "                    eeg_no = match.group('eegno')\n",
    "                    \n",
    "                #m = re_eegno2.search(line['note'])\n",
    "                #if m:\n",
    "                #    eeg_no = m.group('eegno')\n",
    "                #print(eeg_no +\"???????\")\n",
    "\n",
    "        #if len(eeg_no) > 12:\n",
    "        #    m = eegDateRange.search(eeg_no)            \n",
    "        #    if m:\n",
    "        #        print(\"bad\")\n",
    "        #        m = eegDateStrict.search(eeg_no)\n",
    "        #        m = eegDateStrict.search(eeg_no)\n",
    "        #        if m:\n",
    "        #            eeg_no = m.group('eegno')\n",
    "        if ((len(eeg_no) < 5) | (len(eeg_no) > 12)):\n",
    "            #print(\"possibly bad: \" + eeg_no)\n",
    "            for match in re.finditer(capture_eegno2,line['note']):\n",
    "                eeg_no = match.group('eegno')\n",
    "        line['date'] = eeg_no \n",
    "        writer.writerow(line)\n",
    "        \n",
    "        #print(eeg_no)    \n",
    "        #i += 1\n",
    "        #if (i>600):\n",
    "        #    break"
   ]
  },
  {
   "cell_type": "code",
   "execution_count": null,
   "metadata": {
    "collapsed": false
   },
   "outputs": [],
   "source": [
    "capture_eegno = r'(?:EEG TYPE:)\\s*(?P<eegno>.+?)(?:history|report|clinical|condition|patient|location)'\n",
    "capture_eegno1 = r'(?:Date:|Study date |Study date:)\\s*(?P<eegno>(?:Jan|Feb|Mar|Apr|May|Jun|July|Aug|Sep|Oct|Nov|Dec)\\s*[,\\s\\d/-]+)(?:[a-z]+)'\n",
    "capture_eegno2 = r'(?<!DOB:  )(?P<eegno>[\\d]+/[\\d]+/[\\d]+)' #DOB:  10/04/1993   \n",
    "eegDateRange = r'(?P<eegno>[\\d/]+-[\\d/]+)'\n",
    "eegDateStrict = r'(?P<eegno>[\\d]+/[\\d]+/[\\d]+)'\n",
    "#capture_eegno = r'(?P<eegno>[0-9]+)\\s*'\n",
    "re_eegno = re.compile(capture_eegno, re.DOTALL|re.IGNORECASE)\n",
    "re_eegno1 = re.compile(capture_eegno1, re.DOTALL|re.MULTILINE|re.IGNORECASE)\n",
    "re_eegno2 = re.compile(capture_eegno2, re.DOTALL|re.MULTILINE|re.IGNORECASE)\n",
    "eegDateRange = re.compile(eegDateRange, re.DOTALL|re.MULTILINE|re.IGNORECASE)\n",
    "eegDateStrict = re.compile(eegDateStrict, re.DOTALL|re.MULTILINE|re.IGNORECASE)\n",
    "\n",
    "out_file = open(\"lpch_eeg_reports_interp_date_impression_type.csv\",'w')\n",
    "\n",
    "def detectType(eeg_no):\n",
    "    if re.search(\"ambulatory\", eeg_no, re.IGNORECASE):\n",
    "        return \"amb\"\n",
    "    if re.search(\"routine\", eeg_no, re.IGNORECASE):\n",
    "        return \"spot\"\n",
    "    if re.search(\"routine\", eeg_no, re.IGNORECASE):\n",
    "        return \"spot\"\n",
    "    if re.search(\"portable\", eeg_no, re.IGNORECASE):\n",
    "        return \"spot\"\n",
    "    if re.search(\"spot\", eeg_no, re.IGNORECASE):\n",
    "        return \"spot\"\n",
    "    if re.search(\"out\", eeg_no, re.IGNORECASE):\n",
    "        return \"spot\"\n",
    "    if re.search(\"sleep\", eeg_no, re.IGNORECASE):\n",
    "        return \"spot\"\n",
    "    if re.search(\"continuous\", eeg_no, re.IGNORECASE):\n",
    "        return \"ltm\"\n",
    "    if re.search(\"video\", eeg_no, re.IGNORECASE):\n",
    "        return \"ltm\"\n",
    "    if re.search(\"intraoperative\", eeg_no, re.IGNORECASE):\n",
    "        return \"iom\"\n",
    "    if re.search(\"electrocort\", eeg_no, re.IGNORECASE):\n",
    "        return \"iom\"\n",
    "    if re.search(\"amplitude\", eeg_no, re.IGNORECASE):\n",
    "        return \"aeeg\"\n",
    "    if re.search(\"aeeg\", eeg_no, re.IGNORECASE):\n",
    "        return \"aeeg\"\n",
    "    return \"\"\n",
    "\n",
    "i=2\n",
    "with open(\"lpch_eeg_reports_interp_date_impression.csv\") as cf:\n",
    "    reader = csv.DictReader(cf)\n",
    "    outfieldnames = reader.fieldnames\n",
    "    outfieldnames.append('type')\n",
    "    writer = csv.DictWriter(out_file, fieldnames=outfieldnames, restval='***')\n",
    "    writer.writeheader()\n",
    "    \n",
    "    for line in reader:\n",
    "        eeg_no=\"\"\n",
    "        m = re_eegno.search(line['note'])\n",
    "        print(str(i) + \": \", end='')\n",
    "        i += 1\n",
    "        #print(str(i) + \": \" + str(type(m)), end='')\n",
    "        if m:\n",
    "            eeg_no = m.group('eegno')\n",
    "            eeg_no = detectType(eeg_no)\n",
    "            \n",
    "        if (len(eeg_no) == 0):\n",
    "            eeg_no = detectType(line['note'])\n",
    "\n",
    "        line['type'] = eeg_no\n",
    "        \n",
    "        writer.writerow(line)\n",
    "        #if (i>1556): \n",
    "        #    break"
   ]
  },
  {
   "cell_type": "code",
   "execution_count": null,
   "metadata": {
    "collapsed": false
   },
   "outputs": [],
   "source": [
    "# in order to load a corpus, reports must be in separate files\n",
    "from dateutil import parser\n",
    "\n",
    "i=2\n",
    "with open(\"lpch_eeg_reports_interp_date_impression.csv\") as cf:\n",
    "    reader = csv.DictReader(cf)\n",
    "    \n",
    "    for line in reader:\n",
    "        date_str= line['date']\n",
    "        try:\n",
    "            dateObj = parser.parse(date_str)\n",
    "            #print(dateObj.date())\n",
    "            dateFile = (str(dateObj.date()))\n",
    "            f = open(\"reports/\" + dateFile + \".txt\", \"a+\")\n",
    "            f.write(line['note'])\n",
    "            f.close()\n",
    "        except:\n",
    "            print(\"Unexpected error:\", str(sys.exc_info()[0]) + date_str)"
   ]
  },
  {
   "cell_type": "code",
   "execution_count": null,
   "metadata": {
    "collapsed": false
   },
   "outputs": [],
   "source": [
    "import nltk\n",
    "import os\n",
    "from nltk.corpus import PlaintextCorpusReader\n",
    "\n",
    "#fileids = os.listdir(\"reports\")\n",
    "corpus_root = 'reports'\n",
    "wordlists = PlaintextCorpusReader(corpus_root, '.*')\n",
    "wordlists.fileids()"
   ]
  },
  {
   "cell_type": "code",
   "execution_count": null,
   "metadata": {
    "collapsed": false
   },
   "outputs": [],
   "source": [
    "cfd = nltk.ConditionalFreqDist(\n",
    "           (target, fileid[:10])\n",
    "           for fileid in wordlists.fileids()\n",
    "           for w in wordlists.words(fileid)\n",
    "           for target in ['grda', 'gpd']\n",
    "           if w.lower().startswith(target))\n",
    "cfd.plot()"
   ]
  },
  {
   "cell_type": "code",
   "execution_count": null,
   "metadata": {
    "collapsed": false
   },
   "outputs": [],
   "source": [
    "cfd.tabulate(conditions=['grda','gpd'], samples=range(10), cumulative=True)"
   ]
  },
  {
   "cell_type": "code",
   "execution_count": null,
   "metadata": {
    "collapsed": true
   },
   "outputs": [],
   "source": []
  },
  {
   "cell_type": "code",
   "execution_count": null,
   "metadata": {
    "collapsed": true
   },
   "outputs": [],
   "source": [
    "#see if there are natural clusters, unsupervised\n",
    "#ngram of word, each one is dimension of word, then \n",
    "#applied text analysis python machine learning approaches on slack"
   ]
  },
  {
   "cell_type": "code",
   "execution_count": null,
   "metadata": {
    "collapsed": false,
    "scrolled": true
   },
   "outputs": [],
   "source": [
    "# try tagging \n",
    "\n",
    "textAll_tokenized = list()\n",
    "with open(\"lpch_eeg_reports_interp_impression.csv\") as cf:\n",
    "    reader = csv.DictReader(cf)\n",
    "    for line in reader:\n",
    "        #print(line['note'])\n",
    "        text_raw = line['note'].lower()\n",
    "        text_tokenized = nltk.tokenize.word_tokenize(text_raw)\n",
    "        textAll_tokenized += text_tokenized\n",
    "        #words = list(text_raw.split())\n",
    "        #print(words)\n",
    "        #break\n",
    "\n",
    "text = nltk.Text(textAll_tokenized)\n",
    "text_tagged = nltk.pos_tag(text)\n",
    "\n",
    "        #print(text[10:200])\n",
    "print(text.similar('alpha'))\n",
    "\n"
   ]
  },
  {
   "cell_type": "markdown",
   "metadata": {},
   "source": [
    "which of these tags are the most common\n",
    "\n",
    "Tag\tMeaning\tEnglish Examples\n",
    "ADJ\tadjective\tnew, good, high, special, big, local\n",
    "ADP\tadposition\ton, of, at, with, by, into, under\n",
    "ADV\tadverb\treally, already, still, early, now\n",
    "CONJ\tconjunction\tand, or, but, if, while, although\n",
    "DET\tdeterminer, article\tthe, a, some, most, every, no, which\n",
    "NOUN\tnoun\tyear, home, costs, time, Africa\n",
    "NUM\tnumeral\ttwenty-four, fourth, 1991, 14:24\n",
    "PRT\tparticle\tat, on, out, over per, that, up, with\n",
    "PRON\tpronoun\the, their, her, its, my, I, us\n",
    "VERB\tverb\tis, say, told, given, playing, would"
   ]
  },
  {
   "cell_type": "code",
   "execution_count": null,
   "metadata": {
    "collapsed": false
   },
   "outputs": [],
   "source": [
    "nltk.help.upenn_tagset('NN.*')\n",
    "nltk.help.upenn_tagset('JJ.*')\n",
    "nltk.help.upenn_tagset('NN')\n",
    "nltk.help.upenn_tagset('JJ')\n"
   ]
  },
  {
   "cell_type": "code",
   "execution_count": null,
   "metadata": {
    "collapsed": false
   },
   "outputs": [],
   "source": [
    "tag_fd = nltk.FreqDist(tag for (word, tag) in text_tagged)\n",
    "tag_fd.most_common()"
   ]
  },
  {
   "cell_type": "code",
   "execution_count": null,
   "metadata": {
    "collapsed": false
   },
   "outputs": [],
   "source": [
    "word_tag_pairs = nltk.bigrams(text_tagged)\n",
    "#i = 0\n",
    "#for (a, b) in word_tag_pairs:\n",
    "#    print(b[1])\n",
    "#    i += 1\n",
    "#    if i>22:\n",
    "#        break\n",
    "noun_preceders = [a[1] for (a, b) in word_tag_pairs if b[1] == 'JJ']\n",
    "#print(noun_preceders)\n",
    "fdist = nltk.FreqDist(noun_preceders)\n",
    "[tag for (tag, _) in fdist.most_common()]"
   ]
  },
  {
   "cell_type": "code",
   "execution_count": null,
   "metadata": {
    "collapsed": false
   },
   "outputs": [],
   "source": [
    "# what are teh most common verbs\n",
    "word_tag_fd = nltk.FreqDist(text_tagged)\n",
    "[wt[0] for (wt, _) in word_tag_fd.most_common() if wt[1] == 'VB']"
   ]
  },
  {
   "cell_type": "code",
   "execution_count": null,
   "metadata": {
    "collapsed": false
   },
   "outputs": [],
   "source": [
    "# most likely words for a given tag VBN = \n",
    "cfd2 = nltk.ConditionalFreqDist((tag, word) for (word, tag) in text_tagged)\n",
    "list(cfd2['VBN'])"
   ]
  },
  {
   "cell_type": "code",
   "execution_count": null,
   "metadata": {
    "collapsed": false
   },
   "outputs": [],
   "source": [
    "#find vbd (past tense) and VBN (past participle), find words which can be both and see surrounding text\n",
    "nltk.help.upenn_tagset('VB.*')\n",
    "cfd1 = nltk.ConditionalFreqDist(text_tagged)\n",
    "[w for w in cfd1.conditions() if 'VBD' in cfd1[w] and 'VBN' in cfd1[w]]\n",
    "idx1 = text_tagged.index(('localized', 'VBD'))\n",
    "print(text_tagged[idx1-4:idx1+1])\n",
    "idx2 = text_tagged.index(('localized', 'VBN'))\n",
    "print(text_tagged[idx2-4:idx2+1])"
   ]
  },
  {
   "cell_type": "code",
   "execution_count": null,
   "metadata": {
    "collapsed": true
   },
   "outputs": [],
   "source": []
  }
 ],
 "metadata": {
  "kernelspec": {
   "display_name": "Python 2",
   "language": "python",
   "name": "python2"
  },
  "language_info": {
   "codemirror_mode": {
    "name": "ipython",
    "version": 2
   },
   "file_extension": ".py",
   "mimetype": "text/x-python",
   "name": "python",
   "nbconvert_exporter": "python",
   "pygments_lexer": "ipython2",
   "version": "2.7.13"
  }
 },
 "nbformat": 4,
 "nbformat_minor": 0
}
